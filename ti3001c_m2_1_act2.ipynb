{
 "cells": [
  {
   "cell_type": "markdown",
   "metadata": {
    "id": "NIc98Idu6sEC"
   },
   "source": [
    "# TI3001C: Data Analytics and Artificial Intelligence Tools I\n",
    "### M2. Data Engineering"
   ]
  },
  {
   "cell_type": "markdown",
   "metadata": {
    "id": "YFHejIys72DK"
   },
   "source": [
    "### Content\n",
    "\n",
    "1. Leer archivo\n",
    "1. Manipular columnas\n",
    "1. Filtrar datos\n",
    "1. Eliminar registros vacíos\n",
    "1. Procesar los datos: Escalar y estandarización\n",
    "1. Graficar datos procesados"
   ]
  },
  {
   "cell_type": "code",
   "execution_count": null,
   "metadata": {
    "id": "XDKEkcUF5vXL"
   },
   "outputs": [],
   "source": [
    "# importamos librerías\n",
    "import warnings\n",
    "warnings.filterwarnings(\"ignore\")\n",
    "import pandas as pd"
   ]
  },
  {
   "cell_type": "markdown",
   "metadata": {
    "id": "1ly5a9fm7syA"
   },
   "source": [
    "## 1. Leer archivo"
   ]
  },
  {
   "cell_type": "code",
   "execution_count": null,
   "metadata": {
    "id": "1_vDKe7u51jL"
   },
   "outputs": [],
   "source": [
    "def get_data():\n",
    "\n",
    "    dataSet = pd.read_csv(\"titanic.csv\", header=0, index_col=0)\n",
    "\n",
    "    return dataSet"
   ]
  },
  {
   "cell_type": "code",
   "execution_count": null,
   "metadata": {
    "colab": {
     "base_uri": "https://localhost:8080/"
    },
    "executionInfo": {
     "elapsed": 72,
     "status": "ok",
     "timestamp": 1739923064589,
     "user": {
      "displayName": "Enrique Gonzalez",
      "userId": "11537615501324889345"
     },
     "user_tz": 360
    },
    "id": "G5Bsli-A7LOa",
    "outputId": "7624511b-e58f-4a41-a2e7-9a6bf9bdca59"
   },
   "outputs": [
    {
     "name": "stdout",
     "output_type": "stream",
     "text": [
      "             Survived  Pclass  \\\n",
      "PassengerId                     \n",
      "1                   0       3   \n",
      "2                   1       1   \n",
      "3                   1       3   \n",
      "4                   1       1   \n",
      "5                   0       3   \n",
      "...               ...     ...   \n",
      "887                 0       2   \n",
      "888                 1       1   \n",
      "889                 0       3   \n",
      "890                 1       1   \n",
      "891                 0       3   \n",
      "\n",
      "                                                          Name     Sex   Age  \\\n",
      "PassengerId                                                                    \n",
      "1                                      Braund, Mr. Owen Harris    male  22.0   \n",
      "2            Cumings, Mrs. John Bradley (Florence Briggs Th...  female  38.0   \n",
      "3                                       Heikkinen, Miss. Laina  female  26.0   \n",
      "4                 Futrelle, Mrs. Jacques Heath (Lily May Peel)  female  35.0   \n",
      "5                                     Allen, Mr. William Henry    male  35.0   \n",
      "...                                                        ...     ...   ...   \n",
      "887                                      Montvila, Rev. Juozas    male  27.0   \n",
      "888                               Graham, Miss. Margaret Edith  female  19.0   \n",
      "889                   Johnston, Miss. Catherine Helen \"Carrie\"  female   NaN   \n",
      "890                                      Behr, Mr. Karl Howell    male  26.0   \n",
      "891                                        Dooley, Mr. Patrick    male  32.0   \n",
      "\n",
      "             SibSp  Parch            Ticket     Fare Cabin Embarked  \n",
      "PassengerId                                                          \n",
      "1                1      0         A/5 21171   7.2500   NaN        S  \n",
      "2                1      0          PC 17599  71.2833   C85        C  \n",
      "3                0      0  STON/O2. 3101282   7.9250   NaN        S  \n",
      "4                1      0            113803  53.1000  C123        S  \n",
      "5                0      0            373450   8.0500   NaN        S  \n",
      "...            ...    ...               ...      ...   ...      ...  \n",
      "887              0      0            211536  13.0000   NaN        S  \n",
      "888              0      0            112053  30.0000   B42        S  \n",
      "889              1      2        W./C. 6607  23.4500   NaN        S  \n",
      "890              0      0            111369  30.0000  C148        C  \n",
      "891              0      0            370376   7.7500   NaN        Q  \n",
      "\n",
      "[891 rows x 11 columns]\n"
     ]
    }
   ],
   "source": [
    "data = get_data()\n",
    "print(data)"
   ]
  },
  {
   "cell_type": "markdown",
   "metadata": {
    "id": "Ajx0CKn27i0A"
   },
   "source": [
    "## 2. Manipular columnas"
   ]
  },
  {
   "cell_type": "code",
   "execution_count": null,
   "metadata": {
    "colab": {
     "base_uri": "https://localhost:8080/"
    },
    "executionInfo": {
     "elapsed": 15,
     "status": "ok",
     "timestamp": 1739923064659,
     "user": {
      "displayName": "Enrique Gonzalez",
      "userId": "11537615501324889345"
     },
     "user_tz": 360
    },
    "id": "-KIK-7kZ-WR0",
    "outputId": "8208ebfe-0f0c-4151-affe-b9033d057bcc"
   },
   "outputs": [
    {
     "name": "stdout",
     "output_type": "stream",
     "text": [
      "             Pclass   Age\n",
      "PassengerId              \n",
      "1                 3  22.0\n",
      "2                 1  38.0\n",
      "3                 3  26.0\n",
      "4                 1  35.0\n",
      "5                 3  35.0\n",
      "...             ...   ...\n",
      "887               2  27.0\n",
      "888               1  19.0\n",
      "889               3   NaN\n",
      "890               1  26.0\n",
      "891               3  32.0\n",
      "\n",
      "[891 rows x 2 columns]\n"
     ]
    }
   ],
   "source": [
    "# mostramos 2 columans en específico\n",
    "print(data[[\"Pclass\", \"Age\"]])"
   ]
  },
  {
   "cell_type": "code",
   "execution_count": null,
   "metadata": {
    "colab": {
     "base_uri": "https://localhost:8080/"
    },
    "executionInfo": {
     "elapsed": 153,
     "status": "ok",
     "timestamp": 1739923064835,
     "user": {
      "displayName": "Enrique Gonzalez",
      "userId": "11537615501324889345"
     },
     "user_tz": 360
    },
    "id": "U9KGY1BJ8ufH",
    "outputId": "a3061edf-c486-49bb-e651-4cdcab0ffb3f"
   },
   "outputs": [
    {
     "name": "stdout",
     "output_type": "stream",
     "text": [
      "PassengerId\n",
      "1      3\n",
      "2      1\n",
      "3      3\n",
      "4      1\n",
      "5      3\n",
      "      ..\n",
      "887    2\n",
      "888    1\n",
      "889    3\n",
      "890    1\n",
      "891    3\n",
      "Name: Pclass, Length: 891, dtype: int64\n",
      "\n",
      "             Survived                                               Name  \\\n",
      "PassengerId                                                                \n",
      "1                   0                            Braund, Mr. Owen Harris   \n",
      "2                   1  Cumings, Mrs. John Bradley (Florence Briggs Th...   \n",
      "3                   1                             Heikkinen, Miss. Laina   \n",
      "4                   1       Futrelle, Mrs. Jacques Heath (Lily May Peel)   \n",
      "5                   0                           Allen, Mr. William Henry   \n",
      "...               ...                                                ...   \n",
      "887                 0                              Montvila, Rev. Juozas   \n",
      "888                 1                       Graham, Miss. Margaret Edith   \n",
      "889                 0           Johnston, Miss. Catherine Helen \"Carrie\"   \n",
      "890                 1                              Behr, Mr. Karl Howell   \n",
      "891                 0                                Dooley, Mr. Patrick   \n",
      "\n",
      "                Sex   Age  SibSp  Parch            Ticket     Fare Cabin  \\\n",
      "PassengerId                                                                \n",
      "1              male  22.0      1      0         A/5 21171   7.2500   NaN   \n",
      "2            female  38.0      1      0          PC 17599  71.2833   C85   \n",
      "3            female  26.0      0      0  STON/O2. 3101282   7.9250   NaN   \n",
      "4            female  35.0      1      0            113803  53.1000  C123   \n",
      "5              male  35.0      0      0            373450   8.0500   NaN   \n",
      "...             ...   ...    ...    ...               ...      ...   ...   \n",
      "887            male  27.0      0      0            211536  13.0000   NaN   \n",
      "888          female  19.0      0      0            112053  30.0000   B42   \n",
      "889          female   NaN      1      2        W./C. 6607  23.4500   NaN   \n",
      "890            male  26.0      0      0            111369  30.0000  C148   \n",
      "891            male  32.0      0      0            370376   7.7500   NaN   \n",
      "\n",
      "            Embarked  \n",
      "PassengerId           \n",
      "1                  S  \n",
      "2                  C  \n",
      "3                  S  \n",
      "4                  S  \n",
      "5                  S  \n",
      "...              ...  \n",
      "887                S  \n",
      "888                S  \n",
      "889                S  \n",
      "890                C  \n",
      "891                Q  \n",
      "\n",
      "[891 rows x 10 columns]\n"
     ]
    }
   ],
   "source": [
    "# eliminar una columna\n",
    "data2 = data.pop(\"Pclass\")\n",
    "print(data2)\n",
    "print(\"\")\n",
    "print(data)"
   ]
  },
  {
   "cell_type": "code",
   "execution_count": null,
   "metadata": {
    "colab": {
     "base_uri": "https://localhost:8080/"
    },
    "executionInfo": {
     "elapsed": 5,
     "status": "ok",
     "timestamp": 1739923064838,
     "user": {
      "displayName": "Enrique Gonzalez",
      "userId": "11537615501324889345"
     },
     "user_tz": 360
    },
    "id": "da3qqE5A9r8z",
    "outputId": "d28b2648-23d1-4ee1-fa0b-f084dda14e1f"
   },
   "outputs": [
    {
     "name": "stdout",
     "output_type": "stream",
     "text": [
      "             Survived                                               Name  \\\n",
      "PassengerId                                                                \n",
      "1                   0                            Braund, Mr. Owen Harris   \n",
      "2                   1  Cumings, Mrs. John Bradley (Florence Briggs Th...   \n",
      "3                   1                             Heikkinen, Miss. Laina   \n",
      "4                   1       Futrelle, Mrs. Jacques Heath (Lily May Peel)   \n",
      "5                   0                           Allen, Mr. William Henry   \n",
      "...               ...                                                ...   \n",
      "887                 0                              Montvila, Rev. Juozas   \n",
      "888                 1                       Graham, Miss. Margaret Edith   \n",
      "889                 0           Johnston, Miss. Catherine Helen \"Carrie\"   \n",
      "890                 1                              Behr, Mr. Karl Howell   \n",
      "891                 0                                Dooley, Mr. Patrick   \n",
      "\n",
      "                Sex   Age  SibSp  Parch            Ticket     Fare Cabin  \\\n",
      "PassengerId                                                                \n",
      "1              male  22.0      1      0         A/5 21171   7.2500   NaN   \n",
      "2            female  38.0      1      0          PC 17599  71.2833   C85   \n",
      "3            female  26.0      0      0  STON/O2. 3101282   7.9250   NaN   \n",
      "4            female  35.0      1      0            113803  53.1000  C123   \n",
      "5              male  35.0      0      0            373450   8.0500   NaN   \n",
      "...             ...   ...    ...    ...               ...      ...   ...   \n",
      "887            male  27.0      0      0            211536  13.0000   NaN   \n",
      "888          female  19.0      0      0            112053  30.0000   B42   \n",
      "889          female   NaN      1      2        W./C. 6607  23.4500   NaN   \n",
      "890            male  26.0      0      0            111369  30.0000  C148   \n",
      "891            male  32.0      0      0            370376   7.7500   NaN   \n",
      "\n",
      "            Embarked  Pclass  \n",
      "PassengerId                   \n",
      "1                  S       3  \n",
      "2                  C       1  \n",
      "3                  S       3  \n",
      "4                  S       1  \n",
      "5                  S       3  \n",
      "...              ...     ...  \n",
      "887                S       2  \n",
      "888                S       1  \n",
      "889                S       3  \n",
      "890                C       1  \n",
      "891                Q       3  \n",
      "\n",
      "[891 rows x 11 columns]\n"
     ]
    }
   ],
   "source": [
    "# agregar columna\n",
    "data[\"Pclass\"] = data2\n",
    "print(data)"
   ]
  },
  {
   "cell_type": "markdown",
   "metadata": {
    "id": "82aZTovq-Nze"
   },
   "source": [
    "## 3. Filtrar datos"
   ]
  },
  {
   "cell_type": "code",
   "execution_count": null,
   "metadata": {
    "colab": {
     "base_uri": "https://localhost:8080/"
    },
    "executionInfo": {
     "elapsed": 12,
     "status": "ok",
     "timestamp": 1739923066192,
     "user": {
      "displayName": "Enrique Gonzalez",
      "userId": "11537615501324889345"
     },
     "user_tz": 360
    },
    "id": "lgEEn4VM-KDA",
    "outputId": "fcc4e64a-0b0c-4d4c-a7ce-e661aef394e0"
   },
   "outputs": [
    {
     "name": "stdout",
     "output_type": "stream",
     "text": [
      "             Survived                                          Name     Sex  \\\n",
      "PassengerId                                                                   \n",
      "10                  1           Nasser, Mrs. Nicholas (Adele Achem)  female   \n",
      "16                  1              Hewlett, Mrs. (Mary D Kingcome)   female   \n",
      "18                  1                  Williams, Mr. Charles Eugene    male   \n",
      "21                  0                          Fynney, Mr. Joseph J    male   \n",
      "22                  1                         Beesley, Mr. Lawrence    male   \n",
      "...               ...                                           ...     ...   \n",
      "867                 1                  Duran y More, Miss. Asuncion  female   \n",
      "875                 1         Abelson, Mrs. Samuel (Hannah Wizosky)  female   \n",
      "881                 1  Shelley, Mrs. William (Imanita Parrish Hall)  female   \n",
      "884                 0                 Banfield, Mr. Frederick James    male   \n",
      "887                 0                         Montvila, Rev. Juozas    male   \n",
      "\n",
      "              Age  SibSp  Parch            Ticket     Fare Cabin Embarked  \\\n",
      "PassengerId                                                                 \n",
      "10           14.0      1      0            237736  30.0708   NaN        C   \n",
      "16           55.0      0      0            248706  16.0000   NaN        S   \n",
      "18            NaN      0      0            244373  13.0000   NaN        S   \n",
      "21           35.0      0      0            239865  26.0000   NaN        S   \n",
      "22           34.0      0      0            248698  13.0000   D56        S   \n",
      "...           ...    ...    ...               ...      ...   ...      ...   \n",
      "867          27.0      1      0     SC/PARIS 2149  13.8583   NaN        C   \n",
      "875          28.0      1      0         P/PP 3381  24.0000   NaN        C   \n",
      "881          25.0      0      1            230433  26.0000   NaN        S   \n",
      "884          28.0      0      0  C.A./SOTON 34068  10.5000   NaN        S   \n",
      "887          27.0      0      0            211536  13.0000   NaN        S   \n",
      "\n",
      "             Pclass  \n",
      "PassengerId          \n",
      "10                2  \n",
      "16                2  \n",
      "18                2  \n",
      "21                2  \n",
      "22                2  \n",
      "...             ...  \n",
      "867               2  \n",
      "875               2  \n",
      "881               2  \n",
      "884               2  \n",
      "887               2  \n",
      "\n",
      "[184 rows x 11 columns]\n"
     ]
    }
   ],
   "source": [
    "# filtrar por un valor en la columna Pclase\n",
    "data3 = data[data[\"Pclass\"]==2]\n",
    "print(data3)"
   ]
  },
  {
   "cell_type": "code",
   "execution_count": null,
   "metadata": {
    "colab": {
     "base_uri": "https://localhost:8080/"
    },
    "executionInfo": {
     "elapsed": 49,
     "status": "ok",
     "timestamp": 1739923066240,
     "user": {
      "displayName": "Enrique Gonzalez",
      "userId": "11537615501324889345"
     },
     "user_tz": 360
    },
    "id": "XVOutMaKBT_D",
    "outputId": "99c956b9-f257-4898-e0e0-4b1d435587eb"
   },
   "outputs": [
    {
     "name": "stdout",
     "output_type": "stream",
     "text": [
      "             Survived                                               Name  \\\n",
      "PassengerId                                                                \n",
      "5                   0                           Allen, Mr. William Henry   \n",
      "14                  0                        Andersson, Mr. Anders Johan   \n",
      "19                  0  Vander Planke, Mrs. Julius (Emelia Maria Vande...   \n",
      "26                  1  Asplund, Mrs. Carl Oscar (Selma Augusta Emilia...   \n",
      "41                  0     Ahlin, Mrs. Johan (Johanna Persdotter Larsson)   \n",
      "...               ...                                                ...   \n",
      "861                 0                            Hansen, Mr. Claus Peter   \n",
      "874                 0                        Vander Cruyssen, Mr. Victor   \n",
      "882                 0                                 Markun, Mr. Johann   \n",
      "886                 0               Rice, Mrs. William (Margaret Norton)   \n",
      "891                 0                                Dooley, Mr. Patrick   \n",
      "\n",
      "                Sex   Age  SibSp  Parch  Ticket     Fare Cabin Embarked  \\\n",
      "PassengerId                                                               \n",
      "5              male  35.0      0      0  373450   8.0500   NaN        S   \n",
      "14             male  39.0      1      5  347082  31.2750   NaN        S   \n",
      "19           female  31.0      1      0  345763  18.0000   NaN        S   \n",
      "26           female  38.0      1      5  347077  31.3875   NaN        S   \n",
      "41           female  40.0      1      0    7546   9.4750   NaN        S   \n",
      "...             ...   ...    ...    ...     ...      ...   ...      ...   \n",
      "861            male  41.0      2      0  350026  14.1083   NaN        S   \n",
      "874            male  47.0      0      0  345765   9.0000   NaN        S   \n",
      "882            male  33.0      0      0  349257   7.8958   NaN        S   \n",
      "886          female  39.0      0      5  382652  29.1250   NaN        Q   \n",
      "891            male  32.0      0      0  370376   7.7500   NaN        Q   \n",
      "\n",
      "             Pclass  \n",
      "PassengerId          \n",
      "5                 3  \n",
      "14                3  \n",
      "19                3  \n",
      "26                3  \n",
      "41                3  \n",
      "...             ...  \n",
      "861               3  \n",
      "874               3  \n",
      "882               3  \n",
      "886               3  \n",
      "891               3  \n",
      "\n",
      "[103 rows x 11 columns]\n"
     ]
    }
   ],
   "source": [
    "# filtro por valor combinado\n",
    "print(\n",
    "    data [(data[\"Pclass\"]==3) & (data[\"Age\"]>30)]\n",
    ")"
   ]
  },
  {
   "cell_type": "code",
   "execution_count": null,
   "metadata": {
    "colab": {
     "base_uri": "https://localhost:8080/"
    },
    "executionInfo": {
     "elapsed": 28,
     "status": "ok",
     "timestamp": 1739923066270,
     "user": {
      "displayName": "Enrique Gonzalez",
      "userId": "11537615501324889345"
     },
     "user_tz": 360
    },
    "id": "UHoNuBczAGvO",
    "outputId": "35d65488-c152-4255-adde-8b93bd61e1ab"
   },
   "outputs": [
    {
     "name": "stdout",
     "output_type": "stream",
     "text": [
      "             Survived                                               Name  \\\n",
      "PassengerId                                                                \n",
      "3                   1                             Heikkinen, Miss. Laina   \n",
      "9                   1  Johnson, Mrs. Oscar W (Elisabeth Vilhelmina Berg)   \n",
      "10                  1                Nasser, Mrs. Nicholas (Adele Achem)   \n",
      "11                  1                    Sandstrom, Miss. Marguerite Rut   \n",
      "16                  1                   Hewlett, Mrs. (Mary D Kingcome)    \n",
      "...               ...                                                ...   \n",
      "867                 1                       Duran y More, Miss. Asuncion   \n",
      "870                 1                    Johnson, Master. Harold Theodor   \n",
      "875                 1              Abelson, Mrs. Samuel (Hannah Wizosky)   \n",
      "876                 1                   Najib, Miss. Adele Kiamie \"Jane\"   \n",
      "881                 1       Shelley, Mrs. William (Imanita Parrish Hall)   \n",
      "\n",
      "                Sex   Age  SibSp  Parch            Ticket     Fare Cabin  \\\n",
      "PassengerId                                                                \n",
      "3            female  26.0      0      0  STON/O2. 3101282   7.9250   NaN   \n",
      "9            female  27.0      0      2            347742  11.1333   NaN   \n",
      "10           female  14.0      1      0            237736  30.0708   NaN   \n",
      "11           female   4.0      1      1           PP 9549  16.7000    G6   \n",
      "16           female  55.0      0      0            248706  16.0000   NaN   \n",
      "...             ...   ...    ...    ...               ...      ...   ...   \n",
      "867          female  27.0      1      0     SC/PARIS 2149  13.8583   NaN   \n",
      "870            male   4.0      1      1            347742  11.1333   NaN   \n",
      "875          female  28.0      1      0         P/PP 3381  24.0000   NaN   \n",
      "876          female  15.0      0      0              2667   7.2250   NaN   \n",
      "881          female  25.0      0      1            230433  26.0000   NaN   \n",
      "\n",
      "            Embarked  Pclass  \n",
      "PassengerId                   \n",
      "3                  S       3  \n",
      "9                  S       3  \n",
      "10                 C       2  \n",
      "11                 S       3  \n",
      "16                 S       2  \n",
      "...              ...     ...  \n",
      "867                C       2  \n",
      "870                S       3  \n",
      "875                C       2  \n",
      "876                C       3  \n",
      "881                S       2  \n",
      "\n",
      "[206 rows x 11 columns]\n"
     ]
    }
   ],
   "source": [
    "# filtro por valor combinado\n",
    "print(\n",
    "    data [(data[\"Pclass\"]>1) & (data[\"Survived\"]==1)]\n",
    ")"
   ]
  },
  {
   "cell_type": "code",
   "execution_count": null,
   "metadata": {
    "colab": {
     "base_uri": "https://localhost:8080/"
    },
    "executionInfo": {
     "elapsed": 47,
     "status": "ok",
     "timestamp": 1739923066318,
     "user": {
      "displayName": "Enrique Gonzalez",
      "userId": "11537615501324889345"
     },
     "user_tz": 360
    },
    "id": "BxGz9NA5B2fG",
    "outputId": "47d2f2ec-0c7d-4016-a0bf-cf69e7e37213"
   },
   "outputs": [
    {
     "name": "stdout",
     "output_type": "stream",
     "text": [
      "                                       Name   Age   Sex\n",
      "PassengerId                                            \n",
      "1                   Braund, Mr. Owen Harris  22.0  male\n",
      "5                  Allen, Mr. William Henry  35.0  male\n",
      "6                          Moran, Mr. James   NaN  male\n",
      "7                   McCarthy, Mr. Timothy J  54.0  male\n",
      "8            Palsson, Master. Gosta Leonard   2.0  male\n",
      "...                                     ...   ...   ...\n",
      "884           Banfield, Mr. Frederick James  28.0  male\n",
      "885                  Sutehall, Mr. Henry Jr  25.0  male\n",
      "887                   Montvila, Rev. Juozas  27.0  male\n",
      "890                   Behr, Mr. Karl Howell  26.0  male\n",
      "891                     Dooley, Mr. Patrick  32.0  male\n",
      "\n",
      "[577 rows x 3 columns]\n"
     ]
    }
   ],
   "source": [
    "# filtrar por valor y por columnas\n",
    "print(\n",
    "    data[(data[\"Sex\"]==\"male\")][[\"Name\", \"Age\", \"Sex\"]]\n",
    ")"
   ]
  },
  {
   "cell_type": "markdown",
   "metadata": {
    "id": "M2J2S1I9EPEj"
   },
   "source": [
    "## 4. Eliminar registros vacíos"
   ]
  },
  {
   "cell_type": "code",
   "execution_count": null,
   "metadata": {
    "colab": {
     "base_uri": "https://localhost:8080/"
    },
    "executionInfo": {
     "elapsed": 19,
     "status": "ok",
     "timestamp": 1739923067892,
     "user": {
      "displayName": "Enrique Gonzalez",
      "userId": "11537615501324889345"
     },
     "user_tz": 360
    },
    "id": "ddSaeUAkD-BK",
    "outputId": "8d8e40b5-3a6e-4221-d7b8-c6f5ee4704f1"
   },
   "outputs": [
    {
     "name": "stdout",
     "output_type": "stream",
     "text": [
      "             Survived                                               Name  \\\n",
      "PassengerId                                                                \n",
      "1                   0                            Braund, Mr. Owen Harris   \n",
      "2                   1  Cumings, Mrs. John Bradley (Florence Briggs Th...   \n",
      "3                   1                             Heikkinen, Miss. Laina   \n",
      "4                   1       Futrelle, Mrs. Jacques Heath (Lily May Peel)   \n",
      "5                   0                           Allen, Mr. William Henry   \n",
      "...               ...                                                ...   \n",
      "887                 0                              Montvila, Rev. Juozas   \n",
      "888                 1                       Graham, Miss. Margaret Edith   \n",
      "889                 0           Johnston, Miss. Catherine Helen \"Carrie\"   \n",
      "890                 1                              Behr, Mr. Karl Howell   \n",
      "891                 0                                Dooley, Mr. Patrick   \n",
      "\n",
      "                Sex   Age  SibSp  Parch            Ticket     Fare Cabin  \\\n",
      "PassengerId                                                                \n",
      "1              male  22.0      1      0         A/5 21171   7.2500   NaN   \n",
      "2            female  38.0      1      0          PC 17599  71.2833   C85   \n",
      "3            female  26.0      0      0  STON/O2. 3101282   7.9250   NaN   \n",
      "4            female  35.0      1      0            113803  53.1000  C123   \n",
      "5              male  35.0      0      0            373450   8.0500   NaN   \n",
      "...             ...   ...    ...    ...               ...      ...   ...   \n",
      "887            male  27.0      0      0            211536  13.0000   NaN   \n",
      "888          female  19.0      0      0            112053  30.0000   B42   \n",
      "889          female   NaN      1      2        W./C. 6607  23.4500   NaN   \n",
      "890            male  26.0      0      0            111369  30.0000  C148   \n",
      "891            male  32.0      0      0            370376   7.7500   NaN   \n",
      "\n",
      "            Embarked  Pclass  \n",
      "PassengerId                   \n",
      "1                  S       3  \n",
      "2                  C       1  \n",
      "3                  S       3  \n",
      "4                  S       1  \n",
      "5                  S       3  \n",
      "...              ...     ...  \n",
      "887                S       2  \n",
      "888                S       1  \n",
      "889                S       3  \n",
      "890                C       1  \n",
      "891                Q       3  \n",
      "\n",
      "[891 rows x 11 columns]\n"
     ]
    }
   ],
   "source": [
    "# datos originales\n",
    "print(data)"
   ]
  },
  {
   "cell_type": "code",
   "execution_count": null,
   "metadata": {
    "colab": {
     "base_uri": "https://localhost:8080/"
    },
    "executionInfo": {
     "elapsed": 33,
     "status": "ok",
     "timestamp": 1739923067942,
     "user": {
      "displayName": "Enrique Gonzalez",
      "userId": "11537615501324889345"
     },
     "user_tz": 360
    },
    "id": "keKVqTJpEhj0",
    "outputId": "1344afc4-d822-4bc2-b90c-b33a575244d6"
   },
   "outputs": [
    {
     "name": "stdout",
     "output_type": "stream",
     "text": [
      "             Survived                                               Name  \\\n",
      "PassengerId                                                                \n",
      "2                   1  Cumings, Mrs. John Bradley (Florence Briggs Th...   \n",
      "4                   1       Futrelle, Mrs. Jacques Heath (Lily May Peel)   \n",
      "7                   0                            McCarthy, Mr. Timothy J   \n",
      "11                  1                    Sandstrom, Miss. Marguerite Rut   \n",
      "12                  1                           Bonnell, Miss. Elizabeth   \n",
      "...               ...                                                ...   \n",
      "872                 1   Beckwith, Mrs. Richard Leonard (Sallie Monypeny)   \n",
      "873                 0                           Carlsson, Mr. Frans Olof   \n",
      "880                 1      Potter, Mrs. Thomas Jr (Lily Alexenia Wilson)   \n",
      "888                 1                       Graham, Miss. Margaret Edith   \n",
      "890                 1                              Behr, Mr. Karl Howell   \n",
      "\n",
      "                Sex   Age  SibSp  Parch    Ticket     Fare        Cabin  \\\n",
      "PassengerId                                                               \n",
      "2            female  38.0      1      0  PC 17599  71.2833          C85   \n",
      "4            female  35.0      1      0    113803  53.1000         C123   \n",
      "7              male  54.0      0      0     17463  51.8625          E46   \n",
      "11           female   4.0      1      1   PP 9549  16.7000           G6   \n",
      "12           female  58.0      0      0    113783  26.5500         C103   \n",
      "...             ...   ...    ...    ...       ...      ...          ...   \n",
      "872          female  47.0      1      1     11751  52.5542          D35   \n",
      "873            male  33.0      0      0       695   5.0000  B51 B53 B55   \n",
      "880          female  56.0      0      1     11767  83.1583          C50   \n",
      "888          female  19.0      0      0    112053  30.0000          B42   \n",
      "890            male  26.0      0      0    111369  30.0000         C148   \n",
      "\n",
      "            Embarked  Pclass  \n",
      "PassengerId                   \n",
      "2                  C       1  \n",
      "4                  S       1  \n",
      "7                  S       1  \n",
      "11                 S       3  \n",
      "12                 S       1  \n",
      "...              ...     ...  \n",
      "872                S       1  \n",
      "873                S       1  \n",
      "880                C       1  \n",
      "888                S       1  \n",
      "890                C       1  \n",
      "\n",
      "[183 rows x 11 columns]\n"
     ]
    }
   ],
   "source": [
    "# eliminar registros vacíos\n",
    "print(data.dropna())"
   ]
  },
  {
   "cell_type": "code",
   "execution_count": null,
   "metadata": {
    "colab": {
     "base_uri": "https://localhost:8080/"
    },
    "executionInfo": {
     "elapsed": 34,
     "status": "ok",
     "timestamp": 1739923067978,
     "user": {
      "displayName": "Enrique Gonzalez",
      "userId": "11537615501324889345"
     },
     "user_tz": 360
    },
    "id": "_Amb8pXlEyUD",
    "outputId": "554686ae-7c35-4012-bede-2afe77b60e7b"
   },
   "outputs": [
    {
     "name": "stdout",
     "output_type": "stream",
     "text": [
      "             Survived                                               Name  \\\n",
      "PassengerId                                                                \n",
      "2                   1  Cumings, Mrs. John Bradley (Florence Briggs Th...   \n",
      "4                   1       Futrelle, Mrs. Jacques Heath (Lily May Peel)   \n",
      "7                   0                            McCarthy, Mr. Timothy J   \n",
      "11                  1                    Sandstrom, Miss. Marguerite Rut   \n",
      "12                  1                           Bonnell, Miss. Elizabeth   \n",
      "...               ...                                                ...   \n",
      "872                 1   Beckwith, Mrs. Richard Leonard (Sallie Monypeny)   \n",
      "873                 0                           Carlsson, Mr. Frans Olof   \n",
      "880                 1      Potter, Mrs. Thomas Jr (Lily Alexenia Wilson)   \n",
      "888                 1                       Graham, Miss. Margaret Edith   \n",
      "890                 1                              Behr, Mr. Karl Howell   \n",
      "\n",
      "                Sex   Age  SibSp  Parch    Ticket     Fare        Cabin  \\\n",
      "PassengerId                                                               \n",
      "2            female  38.0      1      0  PC 17599  71.2833          C85   \n",
      "4            female  35.0      1      0    113803  53.1000         C123   \n",
      "7              male  54.0      0      0     17463  51.8625          E46   \n",
      "11           female   4.0      1      1   PP 9549  16.7000           G6   \n",
      "12           female  58.0      0      0    113783  26.5500         C103   \n",
      "...             ...   ...    ...    ...       ...      ...          ...   \n",
      "872          female  47.0      1      1     11751  52.5542          D35   \n",
      "873            male  33.0      0      0       695   5.0000  B51 B53 B55   \n",
      "880          female  56.0      0      1     11767  83.1583          C50   \n",
      "888          female  19.0      0      0    112053  30.0000          B42   \n",
      "890            male  26.0      0      0    111369  30.0000         C148   \n",
      "\n",
      "            Embarked  Pclass  \n",
      "PassengerId                   \n",
      "2                  C       1  \n",
      "4                  S       1  \n",
      "7                  S       1  \n",
      "11                 S       3  \n",
      "12                 S       1  \n",
      "...              ...     ...  \n",
      "872                S       1  \n",
      "873                S       1  \n",
      "880                C       1  \n",
      "888                S       1  \n",
      "890                C       1  \n",
      "\n",
      "[204 rows x 11 columns]\n"
     ]
    }
   ],
   "source": [
    "# elimnar los registros vaciós considerando solo los datos de una columna\n",
    "print(data[data[\"Cabin\"].notna()])"
   ]
  },
  {
   "cell_type": "code",
   "execution_count": null,
   "metadata": {
    "colab": {
     "base_uri": "https://localhost:8080/"
    },
    "executionInfo": {
     "elapsed": 20,
     "status": "ok",
     "timestamp": 1739923068003,
     "user": {
      "displayName": "Enrique Gonzalez",
      "userId": "11537615501324889345"
     },
     "user_tz": 360
    },
    "id": "zK5KbfDeGM2f",
    "outputId": "b430f83d-53e3-45ba-b522-f0ca2800c8c5"
   },
   "outputs": [
    {
     "name": "stdout",
     "output_type": "stream",
     "text": [
      "PassengerId\n",
      "1       NaN\n",
      "2       C85\n",
      "3       NaN\n",
      "4      C123\n",
      "5       NaN\n",
      "       ... \n",
      "887     NaN\n",
      "888     B42\n",
      "889     NaN\n",
      "890    C148\n",
      "891     NaN\n",
      "Name: Cabin, Length: 891, dtype: object\n",
      "\n",
      "PassengerId\n",
      "1       NaN\n",
      "2       C85\n",
      "3       C85\n",
      "4      C123\n",
      "5      C123\n",
      "       ... \n",
      "887     C50\n",
      "888     B42\n",
      "889     B42\n",
      "890    C148\n",
      "891    C148\n",
      "Name: Cabin, Length: 891, dtype: object\n",
      "\n",
      "PassengerId\n",
      "1       C85\n",
      "2       C85\n",
      "3      C123\n",
      "4      C123\n",
      "5       E46\n",
      "       ... \n",
      "887     B42\n",
      "888     B42\n",
      "889    C148\n",
      "890    C148\n",
      "891     NaN\n",
      "Name: Cabin, Length: 891, dtype: object\n"
     ]
    }
   ],
   "source": [
    "# asignar valor\n",
    "print(data[\"Cabin\"])\n",
    "print(\"\")\n",
    "print(data[\"Cabin\"].ffill())\n",
    "print(\"\")\n",
    "print(data[\"Cabin\"].bfill())"
   ]
  },
  {
   "cell_type": "markdown",
   "metadata": {
    "id": "xO8TI95oH7-D"
   },
   "source": [
    "## 5. Procesar los datos: Escalar y estandarización"
   ]
  },
  {
   "cell_type": "markdown",
   "metadata": {
    "id": "v5xblF-PJqhT"
   },
   "source": [
    "### Escalar (Scaling)\n",
    "\n",
    "    Se refiere a cambiar la escala de los valores para que se ajusten a un rango específico, como [0,1] o [−1,1].\n",
    "\n",
    "    Ejemplo: Min-Max Scaling, donde se usa la fórmula:\n",
    "\n",
    "$X'=\\frac{X - X_{\\min}}{X_{\\max} - X_{\\min}}$\n",
    "    \n"
   ]
  },
  {
   "cell_type": "code",
   "execution_count": null,
   "metadata": {
    "colab": {
     "base_uri": "https://localhost:8080/"
    },
    "executionInfo": {
     "elapsed": 50,
     "status": "ok",
     "timestamp": 1739930124678,
     "user": {
      "displayName": "Enrique Gonzalez",
      "userId": "11537615501324889345"
     },
     "user_tz": 360
    },
    "id": "b9Q0G79ZLlkv",
    "outputId": "9e6cf463-e6d9-45a6-bf4e-229ea2dfedb1"
   },
   "outputs": [
    {
     "name": "stdout",
     "output_type": "stream",
     "text": [
      "PassengerId\n",
      "1      0.014151\n",
      "2      0.139136\n",
      "3      0.015469\n",
      "4      0.103644\n",
      "5      0.015713\n",
      "         ...   \n",
      "887    0.025374\n",
      "888    0.058556\n",
      "889    0.045771\n",
      "890    0.058556\n",
      "891    0.015127\n",
      "Name: Fare, Length: 891, dtype: float64\n",
      "\n",
      "0.06285842768394742\n",
      "\n",
      "0.09699511290237\n"
     ]
    }
   ],
   "source": [
    "scaleFare = (data[\"Fare\"]-data[\"Fare\"].min())/(data[\"Fare\"].max()-data[\"Fare\"].min())\n",
    "print(scaleFare)\n",
    "print(\"\")\n",
    "print(scaleFare.mean())\n",
    "print(\"\")\n",
    "print(scaleFare.std())"
   ]
  },
  {
   "cell_type": "markdown",
   "metadata": {
    "id": "vlNkMj8MKx4w"
   },
   "source": [
    "### Estandarizar (Standardization)\n",
    "\n",
    "    Transforma los datos para que tengan media 0 y desviación estándar 1.\n",
    "\n",
    "    Fórmula típica:\n",
    "\n",
    "$X'=\\frac{X - {\\mu}}{{\\sigma}}$"
   ]
  },
  {
   "cell_type": "code",
   "execution_count": null,
   "metadata": {
    "colab": {
     "base_uri": "https://localhost:8080/"
    },
    "executionInfo": {
     "elapsed": 22,
     "status": "ok",
     "timestamp": 1739923071516,
     "user": {
      "displayName": "Enrique Gonzalez",
      "userId": "11537615501324889345"
     },
     "user_tz": 360
    },
    "id": "o1FdBoG2TXvU",
    "outputId": "74b94b85-e8bb-4a20-8794-81bf4f7fae67"
   },
   "outputs": [
    {
     "name": "stdout",
     "output_type": "stream",
     "text": [
      "PassengerId\n",
      "1     -0.502163\n",
      "2      0.786404\n",
      "3     -0.488580\n",
      "4      0.420494\n",
      "5     -0.486064\n",
      "         ...   \n",
      "887   -0.386454\n",
      "888   -0.044356\n",
      "889   -0.176164\n",
      "890   -0.044356\n",
      "891   -0.492101\n",
      "Name: Fare, Length: 891, dtype: float64\n",
      "\n",
      "-7.974665945680137e-18\n",
      "\n",
      "1.0000000000000004\n"
     ]
    }
   ],
   "source": [
    "standarFare = (data[\"Fare\"]-data[\"Fare\"].mean())/data[\"Fare\"].std()\n",
    "print(standarFare)\n",
    "print(\"\")\n",
    "print(standarFare.mean())\n",
    "print(\"\")\n",
    "print(standarFare.std())"
   ]
  },
  {
   "cell_type": "markdown",
   "metadata": {
    "id": "-RtkycycO0yA"
   },
   "source": [
    "### Scikit-learn"
   ]
  },
  {
   "cell_type": "code",
   "execution_count": null,
   "metadata": {
    "id": "K_iq11HjKy_W"
   },
   "outputs": [],
   "source": [
    "import numpy as np\n",
    "from sklearn import preprocessing"
   ]
  },
  {
   "cell_type": "markdown",
   "metadata": {
    "id": "zapeD_XjcA17"
   },
   "source": [
    "#### Escalar"
   ]
  },
  {
   "cell_type": "code",
   "execution_count": null,
   "metadata": {
    "colab": {
     "base_uri": "https://localhost:8080/"
    },
    "executionInfo": {
     "elapsed": 16,
     "status": "ok",
     "timestamp": 1739923072637,
     "user": {
      "displayName": "Enrique Gonzalez",
      "userId": "11537615501324889345"
     },
     "user_tz": 360
    },
    "id": "Vj6b_xZzcCi9",
    "outputId": "36a805a8-a361-4be0-b8a3-3ad84c4a0ca3"
   },
   "outputs": [
    {
     "name": "stdout",
     "output_type": "stream",
     "text": [
      "[0.5        0.5        0.44444444]\n",
      "\n",
      "[0.40824829 0.40824829 0.41573971]\n",
      "\n",
      "[[0.5        0.         1.        ]\n",
      " [1.         0.5        0.33333333]\n",
      " [0.         1.         0.        ]]\n"
     ]
    }
   ],
   "source": [
    "X_train = np.array([[ 1., -1.,  2.],\n",
    "                    [ 2.,  0.,  0.],\n",
    "                    [ 0.,  1., -1.]])\n",
    "\n",
    "# fit the scaler\n",
    "min_max_scaler = preprocessing.MinMaxScaler()\n",
    "min_max_scaler.fit(X_train)\n",
    "\n",
    "# Transform the data using the fitted scaler\n",
    "X_train_minmax = min_max_scaler.transform(X_train)\n",
    "\n",
    "print(X_train_minmax.mean(axis=0))\n",
    "print(\"\")\n",
    "print(X_train_minmax.std(axis=0))\n",
    "print(\"\")\n",
    "print(X_train_minmax)"
   ]
  },
  {
   "cell_type": "code",
   "execution_count": null,
   "metadata": {
    "colab": {
     "base_uri": "https://localhost:8080/"
    },
    "executionInfo": {
     "elapsed": 13,
     "status": "ok",
     "timestamp": 1739923179667,
     "user": {
      "displayName": "Enrique Gonzalez",
      "userId": "11537615501324889345"
     },
     "user_tz": 360
    },
    "id": "4RR8z3Zed1SD",
    "outputId": "d6d8bc7f-80a9-49b6-c6fd-b814134580e9"
   },
   "outputs": [
    {
     "name": "stdout",
     "output_type": "stream",
     "text": [
      "                 Fare\n",
      "PassengerId          \n",
      "1            0.014151\n",
      "2            0.139136\n",
      "3            0.015469\n",
      "4            0.103644\n",
      "5            0.015713\n",
      "...               ...\n",
      "887          0.025374\n",
      "888          0.058556\n",
      "889          0.045771\n",
      "890          0.058556\n",
      "891          0.015127\n",
      "\n",
      "[891 rows x 1 columns]\n"
     ]
    }
   ],
   "source": [
    "# Fit the scaler to the Fare data\n",
    "scaler = preprocessing.MinMaxScaler()\n",
    "scaler.fit(data[[\"Fare\"]])\n",
    "\n",
    "# Transform the Fare data using the fitted scaler\n",
    "processed_fare = scaler.transform(data[[\"Fare\"]])\n",
    "\n",
    "# Create a DataFrame from the transformed data\n",
    "scale_fare = pd.DataFrame(processed_fare, columns=[\"Fare\"], index=data.index)\n",
    "\n",
    "print(scale_fare)"
   ]
  },
  {
   "cell_type": "markdown",
   "metadata": {
    "id": "M6hGD4Hfb0K-"
   },
   "source": [
    "#### Estandarizar"
   ]
  },
  {
   "cell_type": "code",
   "execution_count": null,
   "metadata": {
    "colab": {
     "base_uri": "https://localhost:8080/"
    },
    "executionInfo": {
     "elapsed": 6,
     "status": "ok",
     "timestamp": 1739923072690,
     "user": {
      "displayName": "Enrique Gonzalez",
      "userId": "11537615501324889345"
     },
     "user_tz": 360
    },
    "id": "9S8LMAp8R1u2",
    "outputId": "bd48749c-7cac-4dd4-c227-abce5790e859"
   },
   "outputs": [
    {
     "name": "stdout",
     "output_type": "stream",
     "text": [
      "[0. 0. 0.]\n",
      "\n",
      "[1. 1. 1.]\n",
      "\n",
      "[[ 0.         -1.22474487  1.33630621]\n",
      " [ 1.22474487  0.         -0.26726124]\n",
      " [-1.22474487  1.22474487 -1.06904497]]\n"
     ]
    }
   ],
   "source": [
    "X_train = np.array([[ 1., -1.,  2.],\n",
    "                    [ 2.,  0.,  0.],\n",
    "                    [ 0.,  1., -1.]])\n",
    "\n",
    "# fit the scaler\n",
    "standardizer = preprocessing.StandardScaler()\n",
    "standardizer.fit(X_train)\n",
    "\n",
    "# Transform the data using the fitted scaler\n",
    "X_standarized = standardizer.transform(X_train)\n",
    "\n",
    "print(X_standarized.mean(axis=0))\n",
    "print(\"\")\n",
    "print(X_standarized.std(axis=0))\n",
    "print(\"\")\n",
    "print(X_standarized)"
   ]
  },
  {
   "cell_type": "code",
   "execution_count": null,
   "metadata": {
    "colab": {
     "base_uri": "https://localhost:8080/"
    },
    "executionInfo": {
     "elapsed": 46,
     "status": "ok",
     "timestamp": 1739923196050,
     "user": {
      "displayName": "Enrique Gonzalez",
      "userId": "11537615501324889345"
     },
     "user_tz": 360
    },
    "id": "4Kvp36oEO_My",
    "outputId": "10961aa0-f662-4d14-fe93-89612486f6d5"
   },
   "outputs": [
    {
     "name": "stdout",
     "output_type": "stream",
     "text": [
      "                 Fare\n",
      "PassengerId          \n",
      "1           -0.502445\n",
      "2            0.786845\n",
      "3           -0.488854\n",
      "4            0.420730\n",
      "5           -0.486337\n",
      "...               ...\n",
      "887         -0.386671\n",
      "888         -0.044381\n",
      "889         -0.176263\n",
      "890         -0.044381\n",
      "891         -0.492378\n",
      "\n",
      "[891 rows x 1 columns]\n"
     ]
    }
   ],
   "source": [
    "# Fit the scaler to the Fare data\n",
    "standardizer = preprocessing.StandardScaler()\n",
    "standardizer.fit(data[[\"Fare\"]])\n",
    "\n",
    "# Transform the Fare data using the fitted scaler\n",
    "processed_fare = standardizer.transform(data[[\"Fare\"]])\n",
    "\n",
    "# Create a DataFrame from the transformed data\n",
    "standar_fare = pd.DataFrame(processed_fare, columns=[\"Fare\"], index=data.index)\n",
    "\n",
    "print(standar_fare)"
   ]
  },
  {
   "cell_type": "markdown",
   "metadata": {
    "id": "BKnSm79yfdFV"
   },
   "source": [
    "## 6. Graficar datos procesados"
   ]
  },
  {
   "cell_type": "code",
   "execution_count": null,
   "metadata": {
    "id": "dsX5Re-4fdyl"
   },
   "outputs": [],
   "source": [
    "import matplotlib.pyplot as plt # to plot"
   ]
  },
  {
   "cell_type": "code",
   "execution_count": null,
   "metadata": {
    "id": "SXQbvSUafjzE"
   },
   "outputs": [],
   "source": [
    "def graficaDatos(datos):\n",
    "\n",
    "    plt.figure(figsize=(5,3))\n",
    "    plt.plot(datos, color='red')\n",
    "    plt.grid(color='b',linestyle='dashed')\n",
    "    plt.title('TARIFA', fontweight='bold')\n",
    "    plt.xlabel('Pasajero')\n",
    "    plt.ylabel('Valor')\n",
    "    plt.show()\n",
    "\n",
    "def histogramaDatos(datos):\n",
    "\n",
    "    plt.figure(figsize=(5,3))\n",
    "    plt.hist(datos, bins=5, color='navy')\n",
    "    plt.grid(color='b',linestyle='dashed')\n",
    "    plt.title('DISTRIBUCIÓN', fontweight='bold')\n",
    "    plt.xlabel('Clases')\n",
    "    plt.ylabel('Frecuencia')\n",
    "    plt.show()\n",
    "\n",
    "def grafDatos(datos):\n",
    "\n",
    "    val_mean=datos.mean().values[0]\n",
    "    val_std=datos.std().values[0]\n",
    "    #print(\"Media: \", valor)\n",
    "\n",
    "    fig, ax = plt.subplots(1, 2, figsize=(10,3))\n",
    "\n",
    "    ax[0].plot(datos, label=\"Tarifa\", color='red')\n",
    "    ax[0].axhline(val_mean, label=\"Media\", color = 'm')\n",
    "    ax[0].axhline(val_std, label=\"Std\", color = 'y')\n",
    "    ax[0].grid(color='b',linestyle='dashed')\n",
    "    ax[0].set_title('TARIFA', fontweight='bold')\n",
    "    ax[0].set_xlabel('Pasajero')\n",
    "    ax[0].set_ylabel('Valor')\n",
    "    ax[0].legend(loc='upper right')\n",
    "\n",
    "    ax[1].hist(datos, bins=5, color='navy', orientation=\"horizontal\")\n",
    "    ax[1].axhline(val_mean, label=\"Media\", color = 'm')\n",
    "    ax[1].axhline(val_std, label=\"Std\", color = 'y')\n",
    "    ax[1].grid(color='b',linestyle='dashed')\n",
    "    ax[1].set_title('DISTRIBUCIÓN', fontweight='bold')\n",
    "    ax[1].set_xlabel('Frecuencia')\n",
    "    ax[1].set_ylabel('Clases')\n",
    "    ax[1].legend(loc='upper right')\n",
    "\n",
    "    plt.show()\n"
   ]
  },
  {
   "cell_type": "code",
   "execution_count": null,
   "metadata": {
    "colab": {
     "base_uri": "https://localhost:8080/",
     "height": 851
    },
    "executionInfo": {
     "elapsed": 337,
     "status": "ok",
     "timestamp": 1739926679885,
     "user": {
      "displayName": "Enrique Gonzalez",
      "userId": "11537615501324889345"
     },
     "user_tz": 360
    },
    "id": "3zsWBYUos9ho",
    "outputId": "72679bc1-6c32-4765-c7c2-e9c2121ce733"
   },
   "outputs": [
    {
     "data": {
      "image/png": "[encoded data removed]",
      "text/plain": [
       "<Figure size 500x300 with 1 Axes>"
      ]
     },
     "metadata": {},
     "output_type": "display_data"
    },
    {
     "name": "stdout",
     "output_type": "stream",
     "text": [
      "\n"
     ]
    },
    {
     "data": {
      "image/png": "[encoded data removed]",
      "text/plain": [
       "<Figure size 500x300 with 1 Axes>"
      ]
     },
     "metadata": {},
     "output_type": "display_data"
    },
    {
     "name": "stdout",
     "output_type": "stream",
     "text": [
      "\n",
      "count    891.000000\n",
      "mean      32.204208\n",
      "std       49.693429\n",
      "min        0.000000\n",
      "25%        7.910400\n",
      "50%       14.454200\n",
      "75%       31.000000\n",
      "max      512.329200\n",
      "Name: Fare, dtype: float64\n"
     ]
    }
   ],
   "source": [
    "graficaDatos(data[\"Fare\"])\n",
    "print(\"\")\n",
    "histogramaDatos(data[\"Fare\"])\n",
    "print(\"\")\n",
    "print(data[\"Fare\"].describe())"
   ]
  },
  {
   "cell_type": "code",
   "execution_count": null,
   "metadata": {
    "colab": {
     "base_uri": "https://localhost:8080/",
     "height": 1000
    },
    "executionInfo": {
     "elapsed": 651,
     "status": "ok",
     "timestamp": 1739926499608,
     "user": {
      "displayName": "Enrique Gonzalez",
      "userId": "11537615501324889345"
     },
     "user_tz": 360
    },
    "id": "RoFKILp5hv5P",
    "outputId": "96dab16f-c7a0-49d0-efc0-26d8ba059eb9"
   },
   "outputs": [
    {
     "data": {
      "image/png": "[encoded data removed]",
      "text/plain": [
       "<Figure size 500x300 with 1 Axes>"
      ]
     },
     "metadata": {},
     "output_type": "display_data"
    },
    {
     "name": "stdout",
     "output_type": "stream",
     "text": [
      "\n"
     ]
    },
    {
     "data": {
      "image/png": "[encoded data removed]",
      "text/plain": [
       "<Figure size 500x300 with 1 Axes>"
      ]
     },
     "metadata": {},
     "output_type": "display_data"
    },
    {
     "name": "stdout",
     "output_type": "stream",
     "text": [
      "\n"
     ]
    },
    {
     "data": {
      "image/png": "[encoded data removed]",
      "text/plain": [
       "<Figure size 1000x300 with 2 Axes>"
      ]
     },
     "metadata": {},
     "output_type": "display_data"
    },
    {
     "name": "stdout",
     "output_type": "stream",
     "text": [
      "\n",
      "             Fare\n",
      "count  891.000000\n",
      "mean     0.062858\n",
      "std      0.096995\n",
      "min      0.000000\n",
      "25%      0.015440\n",
      "50%      0.028213\n",
      "75%      0.060508\n",
      "max      1.000000\n"
     ]
    }
   ],
   "source": [
    "graficaDatos(scale_fare)\n",
    "print(\"\")\n",
    "histogramaDatos(scale_fare)\n",
    "print(\"\")\n",
    "grafDatos(scale_fare)\n",
    "print(\"\")\n",
    "print(scale_fare.describe())"
   ]
  },
  {
   "cell_type": "code",
   "execution_count": null,
   "metadata": {
    "colab": {
     "base_uri": "https://localhost:8080/",
     "height": 1000
    },
    "executionInfo": {
     "elapsed": 662,
     "status": "ok",
     "timestamp": 1739926475413,
     "user": {
      "displayName": "Enrique Gonzalez",
      "userId": "11537615501324889345"
     },
     "user_tz": 360
    },
    "id": "4bD6Wr_UhU7X",
    "outputId": "dbf1c334-8c28-40c4-f556-1778cb7de0c5"
   },
   "outputs": [
    {
     "data": {
      "image/png": "[encoded data removed]",
      "text/plain": [
       "<Figure size 500x300 with 1 Axes>"
      ]
     },
     "metadata": {},
     "output_type": "display_data"
    },
    {
     "name": "stdout",
     "output_type": "stream",
     "text": [
      "\n"
     ]
    },
    {
     "data": {
      "image/png": "[encoded data removed]",
      "text/plain": [
       "<Figure size 500x300 with 1 Axes>"
      ]
     },
     "metadata": {},
     "output_type": "display_data"
    },
    {
     "name": "stdout",
     "output_type": "stream",
     "text": [
      "\n"
     ]
    },
    {
     "data": {
      "image/png": "[encoded data removed]",
      "text/plain": [
       "<Figure size 1000x300 with 2 Axes>"
      ]
     },
     "metadata": {},
     "output_type": "display_data"
    },
    {
     "name": "stdout",
     "output_type": "stream",
     "text": [
      "\n",
      "               Fare\n",
      "count  8.910000e+02\n",
      "mean   3.987333e-18\n",
      "std    1.000562e+00\n",
      "min   -6.484217e-01\n",
      "25%   -4.891482e-01\n",
      "50%   -3.573909e-01\n",
      "75%   -2.424635e-02\n",
      "max    9.667167e+00\n"
     ]
    }
   ],
   "source": [
    "graficaDatos(standar_fare)\n",
    "print(\"\")\n",
    "histogramaDatos(standar_fare)\n",
    "print(\"\")\n",
    "grafDatos(standar_fare)\n",
    "print(\"\")\n",
    "print(standar_fare.describe())"
   ]
  }
 ],
 "metadata": {
  "colab": {
   "authorship_tag": "ABX9TyNbMSAjOwysJWBV0eehjCEN",
   "collapsed_sections": [
    "YFHejIys72DK",
    "1ly5a9fm7syA",
    "Ajx0CKn27i0A",
    "82aZTovq-Nze",
    "M2J2S1I9EPEj"
   ],
   "provenance": []
  },
  "kernelspec": {
   "display_name": "Python 3",
   "name": "python3"
  },
  "language_info": {
   "name": "python"
  }
 },
 "nbformat": 4,
 "nbformat_minor": 0
}
