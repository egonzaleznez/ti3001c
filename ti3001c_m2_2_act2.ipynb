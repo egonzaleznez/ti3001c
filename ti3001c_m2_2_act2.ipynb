{
 "cells": [
  {
   "cell_type": "markdown",
   "metadata": {
    "id": "KzJ7bCkICEt0"
   },
   "source": [
    "# TI3001C: Data Analytics and Artificial Intelligence Tools I\n",
    "### M2. Data Engineering"
   ]
  },
  {
   "cell_type": "markdown",
   "metadata": {
    "id": "n57dgSNPfoPm"
   },
   "source": [
    "### Content\n",
    "\n",
    "1. Load data\n",
    "1. Data Processing: Normalization\n",
    "1. Simple EDA"
   ]
  },
  {
   "cell_type": "code",
   "execution_count": 15,
   "metadata": {
    "executionInfo": {
     "elapsed": 2655,
     "status": "ok",
     "timestamp": 1745947450223,
     "user": {
      "displayName": "Enrique Gonzalez",
      "userId": "11537615501324889345"
     },
     "user_tz": 360
    },
    "id": "CZupvAOZB7dR"
   },
   "outputs": [],
   "source": [
    "# importamos librerías\n",
    "import warnings\n",
    "warnings.filterwarnings(\"ignore\")\n",
    "import pandas as pd # librería para poder usad DataFrames (tablas)"
   ]
  },
  {
   "cell_type": "code",
   "execution_count": 16,
   "metadata": {},
   "outputs": [],
   "source": [
    "import plotly.express as px\n",
    "import matplotlib.pyplot as plt # to plot\n",
    "import seaborn as sns # to plot"
   ]
  },
  {
   "cell_type": "markdown",
   "metadata": {
    "id": "t_hqeyCHPAFt"
   },
   "source": [
    "### 1. Load data"
   ]
  },
  {
   "cell_type": "code",
   "execution_count": 42,
   "metadata": {
    "executionInfo": {
     "elapsed": 4,
     "status": "ok",
     "timestamp": 1745947451047,
     "user": {
      "displayName": "Enrique Gonzalez",
      "userId": "11537615501324889345"
     },
     "user_tz": 360
    },
    "id": "PN1K-_TCCkwr"
   },
   "outputs": [],
   "source": [
    "# we define a function to get the data\n",
    "def get_data():\n",
    "    \"\"\"\n",
    "    Function to get the data\n",
    "    \"\"\"\n",
    "\n",
    "    # we read the data from a csv file\n",
    "    dataSet = pd.read_csv(\"amazon_sales_data 2025.csv\", header=0, index_col=1)\n",
    "    # we convert the index to datetime\n",
    "    dataSet.index = pd.to_datetime(dataSet.index,format='%d/%m/%y',errors='ignore')\n",
    "\n",
    "    return dataSet\n",
    "\n",
    "# we define a function to save the data\n",
    "def save_data(dataSet):\n",
    "    \"\"\"\n",
    "    Function to save the data to a csv file\n",
    "    \"\"\"\n",
    "\n",
    "    # we save the data to a csv file\n",
    "    dataSet.to_csv(\"amazon_sales_data_processed.csv\")\n",
    "\n",
    "# we define a function to get info about the data\n",
    "def infoData(dataSet):\n",
    "    \"\"\"\n",
    "    Function to get general information about the data\n",
    "    \"\"\"\n",
    "\n",
    "    print(dataSet.head())\n",
    "    print(\"\")\n",
    "    print(dataSet.info())\n",
    "    print(\"\")\n",
    "    print(dataSet.isnull().sum())\n",
    "    print(\"\")"
   ]
  },
  {
   "cell_type": "code",
   "execution_count": 43,
   "metadata": {
    "colab": {
     "base_uri": "https://localhost:8080/"
    },
    "executionInfo": {
     "elapsed": 93,
     "status": "ok",
     "timestamp": 1745947453390,
     "user": {
      "displayName": "Enrique Gonzalez",
      "userId": "11537615501324889345"
     },
     "user_tz": 360
    },
    "id": "e0haj7cVCk62",
    "outputId": "a98559b1-8b88-49fa-bae9-9b981df03a04"
   },
   "outputs": [
    {
     "name": "stdout",
     "output_type": "stream",
     "text": [
      "         Order ID        Product     Category  Price  Quantity  Total Sales  \\\n",
      "Date                                                                          \n",
      "14-03-25  ORD0001  Running Shoes     Footwear     60         3          180   \n",
      "20-03-25  ORD0002     Headphones  Electronics    100         4          400   \n",
      "15-02-25  ORD0003  Running Shoes     Footwear     60         2          120   \n",
      "19-02-25  ORD0004  Running Shoes     Footwear     60         3          180   \n",
      "10-03-25  ORD0005     Smartwatch  Electronics    150         3          450   \n",
      "\n",
      "          Customer Name Customer Location Payment Method     Status  \n",
      "Date                                                                 \n",
      "14-03-25     Emma Clark          New York     Debit Card  Cancelled  \n",
      "20-03-25  Emily Johnson     San Francisco     Debit Card    Pending  \n",
      "15-02-25       John Doe            Denver     Amazon Pay  Cancelled  \n",
      "19-02-25  Olivia Wilson            Dallas    Credit Card    Pending  \n",
      "10-03-25     Emma Clark          New York     Debit Card    Pending  \n",
      "\n",
      "<class 'pandas.core.frame.DataFrame'>\n",
      "Index: 250 entries, 14-03-25 to 19-02-25\n",
      "Data columns (total 10 columns):\n",
      " #   Column             Non-Null Count  Dtype \n",
      "---  ------             --------------  ----- \n",
      " 0   Order ID           250 non-null    object\n",
      " 1   Product            250 non-null    object\n",
      " 2   Category           250 non-null    object\n",
      " 3   Price              250 non-null    int64 \n",
      " 4   Quantity           250 non-null    int64 \n",
      " 5   Total Sales        250 non-null    int64 \n",
      " 6   Customer Name      250 non-null    object\n",
      " 7   Customer Location  250 non-null    object\n",
      " 8   Payment Method     250 non-null    object\n",
      " 9   Status             250 non-null    object\n",
      "dtypes: int64(3), object(7)\n",
      "memory usage: 21.5+ KB\n",
      "None\n",
      "\n",
      "Order ID             0\n",
      "Product              0\n",
      "Category             0\n",
      "Price                0\n",
      "Quantity             0\n",
      "Total Sales          0\n",
      "Customer Name        0\n",
      "Customer Location    0\n",
      "Payment Method       0\n",
      "Status               0\n",
      "dtype: int64\n",
      "\n"
     ]
    }
   ],
   "source": [
    "# we read the data and display the info\n",
    "data = get_data()\n",
    "infoData(data)"
   ]
  },
  {
   "cell_type": "markdown",
   "metadata": {},
   "source": [
    "### 2. Data Processing: Normalization "
   ]
  },
  {
   "cell_type": "markdown",
   "metadata": {},
   "source": [
    "#### 2.1 Min-Max normalization (Scaling)\n",
    "\n",
    "    This refers to changing the scale of the values so that they fit within a specific range, such as [0,1] or [−1,1].\n",
    "    \n",
    "    Example: Min-Max Scaling, where the formula is:\n",
    "\n",
    "$X'=\\frac{X - X_{\\min}}{X_{\\max} - X_{\\min}}$"
   ]
  },
  {
   "cell_type": "markdown",
   "metadata": {},
   "source": [
    "#### 2.2 Z-score normalization (Standardization)\n",
    "\n",
    "    Transform the data so that it has a mean of 0 and a standard deviation of 1.\n",
    "    \n",
    "    Typical formula:\n",
    "\n",
    "$X'=\\frac{X - {\\mu}}{{\\sigma}}$"
   ]
  },
  {
   "cell_type": "markdown",
   "metadata": {},
   "source": [
    "#### 2.3 Decimal scaling normalization \n",
    "\n",
    "    In this technique, we shift the decimal point of the attribute values depending on the maximum value among all the attribute values."
   ]
  },
  {
   "cell_type": "code",
   "execution_count": 44,
   "metadata": {
    "executionInfo": {
     "elapsed": 3,
     "status": "ok",
     "timestamp": 1745947457345,
     "user": {
      "displayName": "Enrique Gonzalez",
      "userId": "11537615501324889345"
     },
     "user_tz": 360
    },
    "id": "OMeNgRwp-UL9"
   },
   "outputs": [],
   "source": [
    "def pre_process(dataSet):\n",
    "    \"\"\"\n",
    "    Function to pre process the data\n",
    "    \"\"\"\n",
    "\n",
    "    dataSet[\"Product\"] = [ 10 if x =='Book' else x for x in dataSet[\"Product\"]]\n",
    "    dataSet[\"Product\"] = [ 9 if x =='Headphones' else x for x in dataSet[\"Product\"]]\n",
    "    dataSet[\"Product\"] = [ 8 if x =='Jeans' else x for x in dataSet[\"Product\"]]\n",
    "    dataSet[\"Product\"] = [ 7 if x =='Laptop' else x for x in dataSet[\"Product\"]]\n",
    "    dataSet[\"Product\"] = [ 6 if x =='Refrigerator' else x for x in dataSet[\"Product\"]]\n",
    "    dataSet[\"Product\"] = [ 5 if x =='Running Shoes' else x for x in dataSet[\"Product\"]]\n",
    "    dataSet[\"Product\"] = [ 4 if x =='Smartphone' else x for x in dataSet[\"Product\"]]\n",
    "    dataSet[\"Product\"] = [ 3 if x =='Smartwatch' else x for x in dataSet[\"Product\"]]\n",
    "    dataSet[\"Product\"] = [ 2 if x =='T-Shirt' else x for x in dataSet[\"Product\"]]\n",
    "    dataSet[\"Product\"] = [ 1 if x =='Washing Machine' else x for x in dataSet[\"Product\"]]\n",
    "\n",
    "    dataSet[\"Category\"] = [ 5 if x =='Books' else x for x in dataSet[\"Category\"]]\n",
    "    dataSet[\"Category\"] = [ 4 if x =='Clothing' else x for x in dataSet[\"Category\"]]\n",
    "    dataSet[\"Category\"] = [ 3 if x =='Electronics' else x for x in dataSet[\"Category\"]]\n",
    "    dataSet[\"Category\"] = [ 2 if x =='Footwear' else x for x in dataSet[\"Category\"]]\n",
    "    dataSet[\"Category\"] = [ 1 if x =='Home Appliances' else x for x in dataSet[\"Category\"]]\n",
    "\n",
    "    dataSet[\"Customer Location\"] = [ 10 if x =='Boston' else x for x in dataSet[\"Customer Location\"]]\n",
    "    dataSet[\"Customer Location\"] = [ 9 if x =='Chicago' else x for x in dataSet[\"Customer Location\"]]\n",
    "    dataSet[\"Customer Location\"] = [ 8 if x =='Dallas' else x for x in dataSet[\"Customer Location\"]]\n",
    "    dataSet[\"Customer Location\"] = [ 7 if x =='Denver' else x for x in dataSet[\"Customer Location\"]]\n",
    "    dataSet[\"Customer Location\"] = [ 6 if x =='Houston' else x for x in dataSet[\"Customer Location\"]]\n",
    "    dataSet[\"Customer Location\"] = [ 5 if x =='Los Angeles' else x for x in dataSet[\"Customer Location\"]]\n",
    "    dataSet[\"Customer Location\"] = [ 4 if x =='Miami' else x for x in dataSet[\"Customer Location\"]]\n",
    "    dataSet[\"Customer Location\"] = [ 3 if x =='New York' else x for x in dataSet[\"Customer Location\"]]\n",
    "    dataSet[\"Customer Location\"] = [ 2 if x =='San Francisco' else x for x in dataSet[\"Customer Location\"]]\n",
    "    dataSet[\"Customer Location\"] = [ 1 if x =='Seattle' else x for x in dataSet[\"Customer Location\"]]\n",
    "\n",
    "    dataSet[\"Payment Method\"] = [ 5 if x =='Amazon Pay' else x for x in dataSet[\"Payment Method\"]]\n",
    "    dataSet[\"Payment Method\"] = [ 4 if x =='Credit Card' else x for x in dataSet[\"Payment Method\"]]\n",
    "    dataSet[\"Payment Method\"] = [ 3 if x =='Debit Card' else x for x in dataSet[\"Payment Method\"]]\n",
    "    dataSet[\"Payment Method\"] = [ 2 if x =='Gift Card' else x for x in dataSet[\"Payment Method\"]]\n",
    "    dataSet[\"Payment Method\"] = [ 1 if x =='PayPal' else x for x in dataSet[\"Payment Method\"]]\n",
    "\n",
    "    dataSet[\"Status\"] = [ 3 if x =='Cancelled' else x for x in dataSet[\"Status\"]]\n",
    "    dataSet[\"Status\"] = [ 2 if x =='Pending' else x for x in dataSet[\"Status\"]]\n",
    "    dataSet[\"Status\"] = [ 1 if x =='Completed' else x for x in dataSet[\"Status\"]]\n",
    "\n",
    "    dataSet2 = pd.DataFrame()\n",
    "    dataSet2[[\"Quantity\", \"Price\", \"Total Sales\"]] = dataSet[[\"Quantity\", \"Price\", \"Total Sales\"]]\n",
    "    dataSet2[\"Total Sales Min-Max\"] = (dataSet2[\"Total Sales\"]-dataSet2[\"Total Sales\"].min())/(dataSet2[\"Total Sales\"].max()-dataSet2[\"Total Sales\"].min())\n",
    "    dataSet2[\"Total Sales Z-Score\"] = (dataSet2[\"Total Sales\"]-dataSet2[\"Total Sales\"].mean())/dataSet2[\"Total Sales\"].std()\n",
    "    dataSet2[\"Total Sales Decimal scaling\"] = dataSet2[\"Total Sales\"]/dataSet2[\"Total Sales\"].abs().max()\n",
    "    \n",
    "    return dataSet, dataSet2"
   ]
  },
  {
   "cell_type": "code",
   "execution_count": null,
   "metadata": {
    "colab": {
     "base_uri": "https://localhost:8080/"
    },
    "executionInfo": {
     "elapsed": 11,
     "status": "ok",
     "timestamp": 1745947460091,
     "user": {
      "displayName": "Enrique Gonzalez",
      "userId": "11537615501324889345"
     },
     "user_tz": 360
    },
    "id": "cqu7fYzQ-cE7",
    "outputId": "6c8fc001-9cb1-4c07-d325-33e064a162e2"
   },
   "outputs": [
    {
     "name": "stdout",
     "output_type": "stream",
     "text": [
      "         Order ID  Product  Category  Price  Quantity  Total Sales  \\\n",
      "Date                                                                 \n",
      "14-03-25  ORD0001        5         2     60         3          180   \n",
      "20-03-25  ORD0002        9         3    100         4          400   \n",
      "15-02-25  ORD0003        5         2     60         2          120   \n",
      "19-02-25  ORD0004        5         2     60         3          180   \n",
      "10-03-25  ORD0005        3         3    150         3          450   \n",
      "\n",
      "          Customer Name  Customer Location  Payment Method  Status  \n",
      "Date                                                                \n",
      "14-03-25     Emma Clark                  3               3       3  \n",
      "20-03-25  Emily Johnson                  2               3       2  \n",
      "15-02-25       John Doe                  7               5       3  \n",
      "19-02-25  Olivia Wilson                  8               4       2  \n",
      "10-03-25     Emma Clark                  3               3       2  \n",
      "\n",
      "<class 'pandas.core.frame.DataFrame'>\n",
      "Index: 250 entries, 14-03-25 to 19-02-25\n",
      "Data columns (total 10 columns):\n",
      " #   Column             Non-Null Count  Dtype \n",
      "---  ------             --------------  ----- \n",
      " 0   Order ID           250 non-null    object\n",
      " 1   Product            250 non-null    int64 \n",
      " 2   Category           250 non-null    int64 \n",
      " 3   Price              250 non-null    int64 \n",
      " 4   Quantity           250 non-null    int64 \n",
      " 5   Total Sales        250 non-null    int64 \n",
      " 6   Customer Name      250 non-null    object\n",
      " 7   Customer Location  250 non-null    int64 \n",
      " 8   Payment Method     250 non-null    int64 \n",
      " 9   Status             250 non-null    int64 \n",
      "dtypes: int64(8), object(2)\n",
      "memory usage: 21.5+ KB\n",
      "None\n",
      "\n",
      "Order ID             0\n",
      "Product              0\n",
      "Category             0\n",
      "Price                0\n",
      "Quantity             0\n",
      "Total Sales          0\n",
      "Customer Name        0\n",
      "Customer Location    0\n",
      "Payment Method       0\n",
      "Status               0\n",
      "dtype: int64\n",
      "\n"
     ]
    }
   ],
   "source": [
    "# we preprocess the data\n",
    "preprocessData, dataSet2 = pre_process(data)\n",
    "infoData(preprocessData)"
   ]
  },
  {
   "cell_type": "code",
   "execution_count": null,
   "metadata": {},
   "outputs": [
    {
     "name": "stdout",
     "output_type": "stream",
     "text": [
      "          Quantity  Price  Total Sales  Total Sales Min-Max  \\\n",
      "Date                                                          \n",
      "14-03-25         3     60          180               0.0276   \n",
      "20-03-25         4    100          400               0.0643   \n",
      "15-02-25         2     60          120               0.0175   \n",
      "19-02-25         3     60          180               0.0276   \n",
      "10-03-25         3    150          450               0.0727   \n",
      "\n",
      "          Total Sales Z-Score  Total Sales Decimal scaling  \n",
      "Date                                                        \n",
      "14-03-25              -0.6352                       0.0300  \n",
      "20-03-25              -0.4595                       0.0667  \n",
      "15-02-25              -0.6831                       0.0200  \n",
      "19-02-25              -0.6352                       0.0300  \n",
      "10-03-25              -0.4196                       0.0750  \n"
     ]
    }
   ],
   "source": [
    "# we visualize the second dataframe \n",
    "print(round(dataSet2.head(),4))\n",
    "save_data(dataSet2)"
   ]
  },
  {
   "cell_type": "code",
   "execution_count": 83,
   "metadata": {},
   "outputs": [
    {
     "name": "stdout",
     "output_type": "stream",
     "text": [
      "Total Sales Min-Max: \n",
      " 1.0 \n",
      " 0.0 \n",
      " 0.1605 \n",
      " 0.2092 \n",
      "\n",
      "Total Sales Z-Score: \n",
      " 4.0129 \n",
      " -0.767 \n",
      " -0.0 \n",
      " 1.0 \n",
      "\n",
      "Total Sales Decimal scaling: \n",
      " 1.0 \n",
      " 0.0025 \n",
      " 0.1626 \n",
      " 0.2087\n"
     ]
    }
   ],
   "source": [
    "# we check the statistics of the second dataframe\n",
    "print(\"Total Sales Min-Max: \\n\",\n",
    "      round(dataSet2[\"Total Sales Min-Max\"].max(),4),\"\\n\", \n",
    "      round(dataSet2[\"Total Sales Min-Max\"].min(),4),\"\\n\",\n",
    "      round(dataSet2[\"Total Sales Min-Max\"].mean(),4),\"\\n\",\n",
    "      round(dataSet2[\"Total Sales Min-Max\"].std(),4),\"\\n\"\n",
    "      )\n",
    "\n",
    "print(\"Total Sales Z-Score: \\n\",\n",
    "      round(dataSet2[\"Total Sales Z-Score\"].max(),4),\"\\n\",\n",
    "      round(dataSet2[\"Total Sales Z-Score\"].min(),4),\"\\n\",\n",
    "      round(dataSet2[\"Total Sales Z-Score\"].mean(),4),\"\\n\",\n",
    "      round(dataSet2[\"Total Sales Z-Score\"].std(),4),\"\\n\"\n",
    "      )\n",
    "\n",
    "print(\"Total Sales Decimal scaling: \\n\",\n",
    "      round(dataSet2[\"Total Sales Decimal scaling\"].max(),4),\"\\n\",\n",
    "      round(dataSet2[\"Total Sales Decimal scaling\"].min(),4),\"\\n\",\n",
    "      round(dataSet2[\"Total Sales Decimal scaling\"].mean(),4),\"\\n\",\n",
    "      round(dataSet2[\"Total Sales Decimal scaling\"].std(),4)\n",
    "      )"
   ]
  },
  {
   "cell_type": "code",
   "execution_count": 77,
   "metadata": {},
   "outputs": [],
   "source": [
    "# we define a function to visualize the data\n",
    "def grafDatos(datos):\n",
    "\n",
    "    val_mean=datos.mean().values[0]\n",
    "    val_std=datos.std().values[0]\n",
    "\n",
    "    fig, ax = plt.subplots(1, 2, figsize=(10,3))\n",
    "\n",
    "    print(datos.head())\n",
    "\n",
    "    ax[0].plot(datos.values, label=\"Income\", color='red')\n",
    "    ax[0].axhline(val_mean, label=\"Media\", color = 'm')\n",
    "    ax[0].axhline(val_std, label=\"Std\", color = 'y')\n",
    "    ax[0].grid(color='b',linestyle='dashed')\n",
    "    ax[0].set_title('Total Sales', fontweight='bold')\n",
    "    #ax[0].set_xlabel('Sales')\n",
    "    ax[0].set_ylabel('Income')\n",
    "    ax[0].legend(loc='upper right')\n",
    "\n",
    "    ax[1].hist(datos, bins=5, color='navy', orientation=\"horizontal\")\n",
    "    ax[1].axhline(val_mean, label=\"Media\", color = 'm')\n",
    "    ax[1].axhline(val_std, label=\"Std\", color = 'y')\n",
    "    ax[1].grid(color='b',linestyle='dashed')\n",
    "    ax[1].set_title('DISTRIBUCIÓN', fontweight='bold')\n",
    "    ax[1].set_xlabel('Frecuencia')\n",
    "    ax[1].set_ylabel('Clases')\n",
    "    ax[1].legend(loc='upper right')\n",
    "\n",
    "    plt.show()"
   ]
  },
  {
   "cell_type": "code",
   "execution_count": 78,
   "metadata": {},
   "outputs": [
    {
     "name": "stdout",
     "output_type": "stream",
     "text": [
      "          Total Sales\n",
      "Date                 \n",
      "14-03-25          180\n",
      "20-03-25          400\n",
      "15-02-25          120\n",
      "19-02-25          180\n",
      "10-03-25          450\n"
     ]
    },
    {
     "data": {
      "image/png": "[encoded data removed]",
      "text/plain": [
       "<Figure size 1000x300 with 2 Axes>"
      ]
     },
     "metadata": {},
     "output_type": "display_data"
    }
   ],
   "source": [
    "grafDatos(dataSet2[[\"Total Sales\"]])"
   ]
  },
  {
   "cell_type": "code",
   "execution_count": 79,
   "metadata": {},
   "outputs": [
    {
     "name": "stdout",
     "output_type": "stream",
     "text": [
      "          Total Sales Min-Max\n",
      "Date                         \n",
      "14-03-25             0.027569\n",
      "20-03-25             0.064327\n",
      "15-02-25             0.017544\n",
      "19-02-25             0.027569\n",
      "10-03-25             0.072682\n"
     ]
    },
    {
     "data": {
      "image/png": "[encoded data removed]",
      "text/plain": [
       "<Figure size 1000x300 with 2 Axes>"
      ]
     },
     "metadata": {},
     "output_type": "display_data"
    }
   ],
   "source": [
    "grafDatos(dataSet2[[\"Total Sales Min-Max\"]])"
   ]
  },
  {
   "cell_type": "code",
   "execution_count": 80,
   "metadata": {},
   "outputs": [
    {
     "name": "stdout",
     "output_type": "stream",
     "text": [
      "          Total Sales Z-Score\n",
      "Date                         \n",
      "14-03-25            -0.635231\n",
      "20-03-25            -0.459527\n",
      "15-02-25            -0.683150\n",
      "19-02-25            -0.635231\n",
      "10-03-25            -0.419595\n"
     ]
    },
    {
     "data": {
      "image/png": "[encoded data removed]",
      "text/plain": [
       "<Figure size 1000x300 with 2 Axes>"
      ]
     },
     "metadata": {},
     "output_type": "display_data"
    }
   ],
   "source": [
    "grafDatos(dataSet2[[\"Total Sales Z-Score\"]])"
   ]
  },
  {
   "cell_type": "code",
   "execution_count": 81,
   "metadata": {},
   "outputs": [
    {
     "name": "stdout",
     "output_type": "stream",
     "text": [
      "          Total Sales Decimal scaling\n",
      "Date                                 \n",
      "14-03-25                     0.030000\n",
      "20-03-25                     0.066667\n",
      "15-02-25                     0.020000\n",
      "19-02-25                     0.030000\n",
      "10-03-25                     0.075000\n"
     ]
    },
    {
     "data": {
      "image/png": "[encoded data removed]",
      "text/plain": [
       "<Figure size 1000x300 with 2 Axes>"
      ]
     },
     "metadata": {},
     "output_type": "display_data"
    }
   ],
   "source": [
    "grafDatos(dataSet2[[\"Total Sales Decimal scaling\"]])"
   ]
  },
  {
   "cell_type": "markdown",
   "metadata": {},
   "source": [
    "### 3. Simple EDA"
   ]
  },
  {
   "cell_type": "code",
   "execution_count": 9,
   "metadata": {
    "executionInfo": {
     "elapsed": 13,
     "status": "ok",
     "timestamp": 1745952388978,
     "user": {
      "displayName": "Enrique Gonzalez",
      "userId": "11537615501324889345"
     },
     "user_tz": 360
    },
    "id": "bzcVLN2g-UXw"
   },
   "outputs": [],
   "source": [
    "\n",
    "def getEDA(dataSet):\n",
    "    \"\"\"\n",
    "    Function to get the EDA\n",
    "    \"\"\"\n",
    "\n",
    "    product_sales = dataSet.pivot_table(index=\"Product\", values=\"Total Sales\", aggfunc=\"sum\")\n",
    "    print(product_sales)\n",
    "    print(\"\")\n",
    "\n",
    "    plt.figure()\n",
    "    plt.bar(product_sales.index, product_sales[\"Total Sales\"])\n",
    "    plt.title('Total Sales by Product', fontweight='bold')\n",
    "    plt.xlabel(\"Product\", fontweight='bold')\n",
    "    plt.ylabel(\"Total Sales\", fontweight='bold')\n",
    "    plt.show()\n",
    "    print(\"\")\n",
    "\n",
    "    product_sales = product_sales.reset_index()\n",
    "    product_sales[\"Product\"] = product_sales[\"Product\"].astype(str)\n",
    "    fig = px.line_polar(product_sales, r='Total Sales', theta='Product', line_close=True)\n",
    "    fig.update_traces(fill='toself')\n",
    "    fig.update_layout(title=dict(\n",
    "        text='Total Sales by Product'),\n",
    "        font=dict(color='darkblue'))\n",
    "    fig.show()\n",
    "    print(\"\")\n",
    "\n",
    "    category_sales = dataSet.pivot_table(index=\"Category\", values=\"Total Sales\", aggfunc=\"sum\")\n",
    "    print(category_sales)\n",
    "    print(\"\")\n",
    "\n",
    "    category_sales = category_sales.reset_index()\n",
    "    category_sales[\"Category\"] = category_sales[\"Category\"].astype(str)\n",
    "    fig = px.line_polar(category_sales, r='Total Sales', theta='Category', line_close=True)\n",
    "    fig.update_traces(fill='toself')\n",
    "    fig.update_layout(title='Total Sales by Category')\n",
    "    fig.show()\n",
    "    print(\"\")\n",
    "\n",
    "    location_sales = dataSet.pivot_table(index=\"Customer Location\", values=\"Total Sales\", aggfunc=\"sum\")\n",
    "    print(location_sales)\n",
    "    print(\"\")\n",
    "\n",
    "    location_sales = location_sales.reset_index()\n",
    "    location_sales[\"Customer Location\"] = location_sales[\"Customer Location\"].astype(str)\n",
    "    fig = px.line_polar(location_sales, r='Total Sales', theta='Customer Location', line_close=True)\n",
    "    fig.update_traces(fill='toself')\n",
    "    fig.update_layout(title='Total Sales by Customer Location')\n",
    "    fig.show()\n",
    "    print(\"\")\n",
    "\n",
    "    payment_sales = dataSet.pivot_table(index=\"Payment Method\", values=\"Total Sales\", aggfunc=\"sum\")\n",
    "    print(payment_sales)\n",
    "    print(\"\")\n",
    "\n",
    "    payment_sales = payment_sales.reset_index()\n",
    "    payment_sales[\"Payment Method\"] = payment_sales[\"Payment Method\"].astype(str)\n",
    "    fig = px.line_polar(payment_sales, r='Total Sales', theta='Payment Method', line_close=True)\n",
    "    fig.update_traces(fill='toself')\n",
    "    fig.update_layout(title='Total Sales by Payment Method')\n",
    "    fig.show()\n",
    "    print(\"\")\n",
    "\n",
    "    product_category = dataSet.pivot_table(index=['Product'], columns=['Category'], values=\"Total Sales\", aggfunc=\"sum\", fill_value=0)\n",
    "    print(product_category)\n",
    "    print(\"\")\n",
    "\n",
    "    for col in range(len(product_category.columns)):\n",
    "        plt.figure()\n",
    "        plt.bar(product_category.index, product_category.iloc[:,col])\n",
    "        plt.title(\"Category \" + str(product_category.columns[col]), fontweight='bold')\n",
    "        plt.xlabel(\"Product\", fontweight='bold')\n",
    "        plt.ylabel(\"Total Sales\", fontweight='bold')\n",
    "        plt.show()\n",
    "        print(\"\")\n",
    "\n",
    "        print(f\"Total sales in this categroy ${product_category.iloc[:,col].sum():,}\")\n",
    "        print(\"Product \", product_category.iloc[:,col].idxmax(),\n",
    "              f\" has the highest sales in this category ${product_category.iloc[:,col].max():,}\")\n",
    "        print(\"\")\n",
    "\n",
    "\n",
    "    product_quantity = dataSet.pivot_table(index=['Product'], columns=['Quantity'], values=\"Total Sales\", aggfunc=\"sum\", fill_value=0)\n",
    "    print(product_quantity)\n",
    "    print(\"\")\n",
    "\n",
    "    for col in range(len(product_quantity.columns)):\n",
    "        plt.figure()\n",
    "        plt.bar(product_quantity.index, product_quantity.iloc[:,col])\n",
    "        plt.title(\"Quantity \" + str(product_quantity.columns[col]), fontweight='bold')\n",
    "        plt.xlabel(\"Product\", fontweight='bold')\n",
    "        plt.ylabel(\"Total Sales\", fontweight='bold')\n",
    "        plt.show()\n",
    "        print(\"\")\n",
    "\n",
    "        print(f\"Total sales in this quantity ${product_quantity.iloc[:,col].sum():,}\")\n",
    "        print(\"Product \", product_quantity.iloc[:,col].idxmax(),\n",
    "              f\" has the highest sales in this quantity ${product_quantity.iloc[:,col].max():,}\")\n",
    "        print(\"\")\n",
    "\n",
    "\n",
    "    product_location = dataSet.pivot_table(index=['Product'], columns=['Customer Location'], values=\"Total Sales\", aggfunc=\"sum\", fill_value=0)\n",
    "    print(product_location)\n",
    "    print(\"\")\n",
    "\n",
    "    for col in range(len(product_location.columns)):\n",
    "        plt.figure()\n",
    "        plt.bar(product_location.index, product_location.iloc[:,col])\n",
    "        plt.title(\"Location \" + str(product_location.columns[col]), fontweight='bold')\n",
    "        plt.xlabel(\"Product\", fontweight='bold')\n",
    "        plt.ylabel(\"Total Sales\", fontweight='bold')\n",
    "        plt.show()\n",
    "        print(\"\")\n",
    "\n",
    "        print(f\"Total sales in this location ${product_location.iloc[:,col].sum():,}\")\n",
    "        print(\"Product \", product_location.iloc[:,col].idxmax(),\n",
    "              f\" has the highest sales in this location ${product_location.iloc[:,col].max():,}\")\n",
    "        print(\"\")\n",
    "\n",
    "    customer_product = dataSet.pivot_table(index=['Customer Name'], columns=['Product'], values=\"Total Sales\", aggfunc=\"sum\", fill_value=0)\n",
    "    print(customer_product)\n",
    "    print(\"\")\n",
    "\n",
    "    customer_location = dataSet.pivot_table(index=['Customer Name'], columns=['Customer Location'], values=\"Total Sales\", aggfunc=\"sum\", fill_value=0)\n",
    "    print(customer_location)\n",
    "    print(\"\")\n",
    "\n"
   ]
  },
  {
   "cell_type": "code",
   "execution_count": 13,
   "metadata": {
    "colab": {
     "base_uri": "https://localhost:8080/",
     "height": 1000
    },
    "executionInfo": {
     "elapsed": 3558,
     "status": "ok",
     "timestamp": 1745952398310,
     "user": {
      "displayName": "Enrique Gonzalez",
      "userId": "11537615501324889345"
     },
     "user_tz": 360
    },
    "id": "yfCE0eTpF4Fd",
    "outputId": "ffd58939-8bf6-4ede-dad0-2007371a9e76"
   },
   "outputs": [
    {
     "name": "stdout",
     "output_type": "stream",
     "text": [
      "         Total Sales\n",
      "Product             \n",
      "1              27000\n",
      "2               1060\n",
      "3              15750\n",
      "4              48500\n",
      "5               4320\n",
      "6              78000\n",
      "7              58400\n",
      "8               2480\n",
      "9               7300\n",
      "10              1035\n",
      "\n"
     ]
    },
    {
     "data": {
      "image/png": "[encoded data removed]",
      "text/plain": [
       "<Figure size 640x480 with 1 Axes>"
      ]
     },
     "metadata": {},
     "output_type": "display_data"
    },
    {
     "name": "stdout",
     "output_type": "stream",
     "text": [
      "\n"
     ]
    },
    {
     "data": {
      "application/vnd.plotly.v1+json": {
       "config": {
        "plotlyServerURL": "https://plot.ly"
       },
       "data": [
        {
         "fill": "toself",
         "hovertemplate": "Total Sales=%{r}<br>Product=%{theta}<extra></extra>",
         "legendgroup": "",
         "line": {
          "color": "#636efa",
          "dash": "solid"
         },
         "marker": {
          "symbol": "circle"
         },
         "mode": "lines",
         "name": "",
         "r": [
          27000,
          1060,
          15750,
          48500,
          4320,
          78000,
          58400,
          2480,
          7300,
          1035,
          27000
         ],
         "showlegend": false,
         "subplot": "polar",
         "theta": [
          "1",
          "2",
          "3",
          "4",
          "5",
          "6",
          "7",
          "8",
          "9",
          "10",
          "1"
         ],
         "type": "scatterpolar"
        }
       ],
       "layout": {
        "font": {
         "color": "darkblue"
        },
        "legend": {
         "tracegroupgap": 0
        },
        "margin": {
         "t": 60
        },
        "polar": {
         "angularaxis": {
          "direction": "clockwise",
          "rotation": 90
         },
         "domain": {
          "x": [
           0,
           1
          ],
          "y": [
           0,
           1
          ]
         }
        },
        "template": {
         "data": {
          "bar": [
           {
            "error_x": {
             "color": "#2a3f5f"
            },
            "error_y": {
             "color": "#2a3f5f"
            },
            "marker": {
             "line": {
              "color": "#E5ECF6",
              "width": 0.5
             },
             "pattern": {
              "fillmode": "overlay",
              "size": 10,
              "solidity": 0.2
             }
            },
            "type": "bar"
           }
          ],
          "barpolar": [
           {
            "marker": {
             "line": {
              "color": "#E5ECF6",
              "width": 0.5
             },
             "pattern": {
              "fillmode": "overlay",
              "size": 10,
              "solidity": 0.2
             }
            },
            "type": "barpolar"
           }
          ],
          "carpet": [
           {
            "aaxis": {
             "endlinecolor": "#2a3f5f",
             "gridcolor": "white",
             "linecolor": "white",
             "minorgridcolor": "white",
             "startlinecolor": "#2a3f5f"
            },
            "baxis": {
             "endlinecolor": "#2a3f5f",
             "gridcolor": "white",
             "linecolor": "white",
             "minorgridcolor": "white",
             "startlinecolor": "#2a3f5f"
            },
            "type": "carpet"
           }
          ],
          "choropleth": [
           {
            "colorbar": {
             "outlinewidth": 0,
             "ticks": ""
            },
            "type": "choropleth"
           }
          ],
          "contour": [
           {
            "colorbar": {
             "outlinewidth": 0,
             "ticks": ""
            },
            "colorscale": [
             [
              0,
              "#0d0887"
             ],
             [
              0.1111111111111111,
              "#46039f"
             ],
             [
              0.2222222222222222,
              "#7201a8"
             ],
             [
              0.3333333333333333,
              "#9c179e"
             ],
             [
              0.4444444444444444,
              "#bd3786"
             ],
             [
              0.5555555555555556,
              "#d8576b"
             ],
             [
              0.6666666666666666,
              "#ed7953"
             ],
             [
              0.7777777777777778,
              "#fb9f3a"
             ],
             [
              0.8888888888888888,
              "#fdca26"
             ],
             [
              1,
              "#f0f921"
             ]
            ],
            "type": "contour"
           }
          ],
          "contourcarpet": [
           {
            "colorbar": {
             "outlinewidth": 0,
             "ticks": ""
            },
            "type": "contourcarpet"
           }
          ],
          "heatmap": [
           {
            "colorbar": {
             "outlinewidth": 0,
             "ticks": ""
            },
            "colorscale": [
             [
              0,
              "#0d0887"
             ],
             [
              0.1111111111111111,
              "#46039f"
             ],
             [
              0.2222222222222222,
              "#7201a8"
             ],
             [
              0.3333333333333333,
              "#9c179e"
             ],
             [
              0.4444444444444444,
              "#bd3786"
             ],
             [
              0.5555555555555556,
              "#d8576b"
             ],
             [
              0.6666666666666666,
              "#ed7953"
             ],
             [
              0.7777777777777778,
              "#fb9f3a"
             ],
             [
              0.8888888888888888,
              "#fdca26"
             ],
             [
              1,
              "#f0f921"
             ]
            ],
            "type": "heatmap"
           }
          ],
          "heatmapgl": [
           {
            "colorbar": {
             "outlinewidth": 0,
             "ticks": ""
            },
            "colorscale": [
             [
              0,
              "#0d0887"
             ],
             [
              0.1111111111111111,
              "#46039f"
             ],
             [
              0.2222222222222222,
              "#7201a8"
             ],
             [
              0.3333333333333333,
              "#9c179e"
             ],
             [
              0.4444444444444444,
              "#bd3786"
             ],
             [
              0.5555555555555556,
              "#d8576b"
             ],
             [
              0.6666666666666666,
              "#ed7953"
             ],
             [
              0.7777777777777778,
              "#fb9f3a"
             ],
             [
              0.8888888888888888,
              "#fdca26"
             ],
             [
              1,
              "#f0f921"
             ]
            ],
            "type": "heatmapgl"
           }
          ],
          "histogram": [
           {
            "marker": {
             "pattern": {
              "fillmode": "overlay",
              "size": 10,
              "solidity": 0.2
             }
            },
            "type": "histogram"
           }
          ],
          "histogram2d": [
           {
            "colorbar": {
             "outlinewidth": 0,
             "ticks": ""
            },
            "colorscale": [
             [
              0,
              "#0d0887"
             ],
             [
              0.1111111111111111,
              "#46039f"
             ],
             [
              0.2222222222222222,
              "#7201a8"
             ],
             [
              0.3333333333333333,
              "#9c179e"
             ],
             [
              0.4444444444444444,
              "#bd3786"
             ],
             [
              0.5555555555555556,
              "#d8576b"
             ],
             [
              0.6666666666666666,
              "#ed7953"
             ],
             [
              0.7777777777777778,
              "#fb9f3a"
             ],
             [
              0.8888888888888888,
              "#fdca26"
             ],
             [
              1,
              "#f0f921"
             ]
            ],
            "type": "histogram2d"
           }
          ],
          "histogram2dcontour": [
           {
            "colorbar": {
             "outlinewidth": 0,
             "ticks": ""
            },
            "colorscale": [
             [
              0,
              "#0d0887"
             ],
             [
              0.1111111111111111,
              "#46039f"
             ],
             [
              0.2222222222222222,
              "#7201a8"
             ],
             [
              0.3333333333333333,
              "#9c179e"
             ],
             [
              0.4444444444444444,
              "#bd3786"
             ],
             [
              0.5555555555555556,
              "#d8576b"
             ],
             [
              0.6666666666666666,
              "#ed7953"
             ],
             [
              0.7777777777777778,
              "#fb9f3a"
             ],
             [
              0.8888888888888888,
              "#fdca26"
             ],
             [
              1,
              "#f0f921"
             ]
            ],
            "type": "histogram2dcontour"
           }
          ],
          "mesh3d": [
           {
            "colorbar": {
             "outlinewidth": 0,
             "ticks": ""
            },
            "type": "mesh3d"
           }
          ],
          "parcoords": [
           {
            "line": {
             "colorbar": {
              "outlinewidth": 0,
              "ticks": ""
             }
            },
            "type": "parcoords"
           }
          ],
          "pie": [
           {
            "automargin": true,
            "type": "pie"
           }
          ],
          "scatter": [
           {
            "fillpattern": {
             "fillmode": "overlay",
             "size": 10,
             "solidity": 0.2
            },
            "type": "scatter"
           }
          ],
          "scatter3d": [
           {
            "line": {
             "colorbar": {
              "outlinewidth": 0,
              "ticks": ""
             }
            },
            "marker": {
             "colorbar": {
              "outlinewidth": 0,
              "ticks": ""
             }
            },
            "type": "scatter3d"
           }
          ],
          "scattercarpet": [
           {
            "marker": {
             "colorbar": {
              "outlinewidth": 0,
              "ticks": ""
             }
            },
            "type": "scattercarpet"
           }
          ],
          "scattergeo": [
           {
            "marker": {
             "colorbar": {
              "outlinewidth": 0,
              "ticks": ""
             }
            },
            "type": "scattergeo"
           }
          ],
          "scattergl": [
           {
            "marker": {
             "colorbar": {
              "outlinewidth": 0,
              "ticks": ""
             }
            },
            "type": "scattergl"
           }
          ],
          "scattermapbox": [
           {
            "marker": {
             "colorbar": {
              "outlinewidth": 0,
              "ticks": ""
             }
            },
            "type": "scattermapbox"
           }
          ],
          "scatterpolar": [
           {
            "marker": {
             "colorbar": {
              "outlinewidth": 0,
              "ticks": ""
             }
            },
            "type": "scatterpolar"
           }
          ],
          "scatterpolargl": [
           {
            "marker": {
             "colorbar": {
              "outlinewidth": 0,
              "ticks": ""
             }
            },
            "type": "scatterpolargl"
           }
          ],
          "scatterternary": [
           {
            "marker": {
             "colorbar": {
              "outlinewidth": 0,
              "ticks": ""
             }
            },
            "type": "scatterternary"
           }
          ],
          "surface": [
           {
            "colorbar": {
             "outlinewidth": 0,
             "ticks": ""
            },
            "colorscale": [
             [
              0,
              "#0d0887"
             ],
             [
              0.1111111111111111,
              "#46039f"
             ],
             [
              0.2222222222222222,
              "#7201a8"
             ],
             [
              0.3333333333333333,
              "#9c179e"
             ],
             [
              0.4444444444444444,
              "#bd3786"
             ],
             [
              0.5555555555555556,
              "#d8576b"
             ],
             [
              0.6666666666666666,
              "#ed7953"
             ],
             [
              0.7777777777777778,
              "#fb9f3a"
             ],
             [
              0.8888888888888888,
              "#fdca26"
             ],
             [
              1,
              "#f0f921"
             ]
            ],
            "type": "surface"
           }
          ],
          "table": [
           {
            "cells": {
             "fill": {
              "color": "#EBF0F8"
             },
             "line": {
              "color": "white"
             }
            },
            "header": {
             "fill": {
              "color": "#C8D4E3"
             },
             "line": {
              "color": "white"
             }
            },
            "type": "table"
           }
          ]
         },
         "layout": {
          "annotationdefaults": {
           "arrowcolor": "#2a3f5f",
           "arrowhead": 0,
           "arrowwidth": 1
          },
          "autotypenumbers": "strict",
          "coloraxis": {
           "colorbar": {
            "outlinewidth": 0,
            "ticks": ""
           }
          },
          "colorscale": {
           "diverging": [
            [
             0,
             "#8e0152"
            ],
            [
             0.1,
             "#c51b7d"
            ],
            [
             0.2,
             "#de77ae"
            ],
            [
             0.3,
             "#f1b6da"
            ],
            [
             0.4,
             "#fde0ef"
            ],
            [
             0.5,
             "#f7f7f7"
            ],
            [
             0.6,
             "#e6f5d0"
            ],
            [
             0.7,
             "#b8e186"
            ],
            [
             0.8,
             "#7fbc41"
            ],
            [
             0.9,
             "#4d9221"
            ],
            [
             1,
             "#276419"
            ]
           ],
           "sequential": [
            [
             0,
             "#0d0887"
            ],
            [
             0.1111111111111111,
             "#46039f"
            ],
            [
             0.2222222222222222,
             "#7201a8"
            ],
            [
             0.3333333333333333,
             "#9c179e"
            ],
            [
             0.4444444444444444,
             "#bd3786"
            ],
            [
             0.5555555555555556,
             "#d8576b"
            ],
            [
             0.6666666666666666,
             "#ed7953"
            ],
            [
             0.7777777777777778,
             "#fb9f3a"
            ],
            [
             0.8888888888888888,
             "#fdca26"
            ],
            [
             1,
             "#f0f921"
            ]
           ],
           "sequentialminus": [
            [
             0,
             "#0d0887"
            ],
            [
             0.1111111111111111,
             "#46039f"
            ],
            [
             0.2222222222222222,
             "#7201a8"
            ],
            [
             0.3333333333333333,
             "#9c179e"
            ],
            [
             0.4444444444444444,
             "#bd3786"
            ],
            [
             0.5555555555555556,
             "#d8576b"
            ],
            [
             0.6666666666666666,
             "#ed7953"
            ],
            [
             0.7777777777777778,
             "#fb9f3a"
            ],
            [
             0.8888888888888888,
             "#fdca26"
            ],
            [
             1,
             "#f0f921"
            ]
           ]
          },
          "colorway": [
           "#636efa",
           "#EF553B",
           "#00cc96",
           "#ab63fa",
           "#FFA15A",
           "#19d3f3",
           "#FF6692",
           "#B6E880",
           "#FF97FF",
           "#FECB52"
          ],
          "font": {
           "color": "#2a3f5f"
          },
          "geo": {
           "bgcolor": "white",
           "lakecolor": "white",
           "landcolor": "#E5ECF6",
           "showlakes": true,
           "showland": true,
           "subunitcolor": "white"
          },
          "hoverlabel": {
           "align": "left"
          },
          "hovermode": "closest",
          "mapbox": {
           "style": "light"
          },
          "paper_bgcolor": "white",
          "plot_bgcolor": "#E5ECF6",
          "polar": {
           "angularaxis": {
            "gridcolor": "white",
            "linecolor": "white",
            "ticks": ""
           },
           "bgcolor": "#E5ECF6",
           "radialaxis": {
            "gridcolor": "white",
            "linecolor": "white",
            "ticks": ""
           }
          },
          "scene": {
           "xaxis": {
            "backgroundcolor": "#E5ECF6",
            "gridcolor": "white",
            "gridwidth": 2,
            "linecolor": "white",
            "showbackground": true,
            "ticks": "",
            "zerolinecolor": "white"
           },
           "yaxis": {
            "backgroundcolor": "#E5ECF6",
            "gridcolor": "white",
            "gridwidth": 2,
            "linecolor": "white",
            "showbackground": true,
            "ticks": "",
            "zerolinecolor": "white"
           },
           "zaxis": {
            "backgroundcolor": "#E5ECF6",
            "gridcolor": "white",
            "gridwidth": 2,
            "linecolor": "white",
            "showbackground": true,
            "ticks": "",
            "zerolinecolor": "white"
           }
          },
          "shapedefaults": {
           "line": {
            "color": "#2a3f5f"
           }
          },
          "ternary": {
           "aaxis": {
            "gridcolor": "white",
            "linecolor": "white",
            "ticks": ""
           },
           "baxis": {
            "gridcolor": "white",
            "linecolor": "white",
            "ticks": ""
           },
           "bgcolor": "#E5ECF6",
           "caxis": {
            "gridcolor": "white",
            "linecolor": "white",
            "ticks": ""
           }
          },
          "title": {
           "x": 0.05
          },
          "xaxis": {
           "automargin": true,
           "gridcolor": "white",
           "linecolor": "white",
           "ticks": "",
           "title": {
            "standoff": 15
           },
           "zerolinecolor": "white",
           "zerolinewidth": 2
          },
          "yaxis": {
           "automargin": true,
           "gridcolor": "white",
           "linecolor": "white",
           "ticks": "",
           "title": {
            "standoff": 15
           },
           "zerolinecolor": "white",
           "zerolinewidth": 2
          }
         }
        },
        "title": {
         "text": "Total Sales by Product"
        }
       }
      }
     },
     "metadata": {},
     "output_type": "display_data"
    },
    {
     "name": "stdout",
     "output_type": "stream",
     "text": [
      "\n",
      "          Total Sales\n",
      "Category             \n",
      "1              105000\n",
      "2                4320\n",
      "3              129950\n",
      "4                3540\n",
      "5                1035\n",
      "\n"
     ]
    },
    {
     "data": {
      "application/vnd.plotly.v1+json": {
       "config": {
        "plotlyServerURL": "https://plot.ly"
       },
       "data": [
        {
         "fill": "toself",
         "hovertemplate": "Total Sales=%{r}<br>Category=%{theta}<extra></extra>",
         "legendgroup": "",
         "line": {
          "color": "#636efa",
          "dash": "solid"
         },
         "marker": {
          "symbol": "circle"
         },
         "mode": "lines",
         "name": "",
         "r": [
          105000,
          4320,
          129950,
          3540,
          1035,
          105000
         ],
         "showlegend": false,
         "subplot": "polar",
         "theta": [
          "1",
          "2",
          "3",
          "4",
          "5",
          "1"
         ],
         "type": "scatterpolar"
        }
       ],
       "layout": {
        "legend": {
         "tracegroupgap": 0
        },
        "margin": {
         "t": 60
        },
        "polar": {
         "angularaxis": {
          "direction": "clockwise",
          "rotation": 90
         },
         "domain": {
          "x": [
           0,
           1
          ],
          "y": [
           0,
           1
          ]
         }
        },
        "template": {
         "data": {
          "bar": [
           {
            "error_x": {
             "color": "#2a3f5f"
            },
            "error_y": {
             "color": "#2a3f5f"
            },
            "marker": {
             "line": {
              "color": "#E5ECF6",
              "width": 0.5
             },
             "pattern": {
              "fillmode": "overlay",
              "size": 10,
              "solidity": 0.2
             }
            },
            "type": "bar"
           }
          ],
          "barpolar": [
           {
            "marker": {
             "line": {
              "color": "#E5ECF6",
              "width": 0.5
             },
             "pattern": {
              "fillmode": "overlay",
              "size": 10,
              "solidity": 0.2
             }
            },
            "type": "barpolar"
           }
          ],
          "carpet": [
           {
            "aaxis": {
             "endlinecolor": "#2a3f5f",
             "gridcolor": "white",
             "linecolor": "white",
             "minorgridcolor": "white",
             "startlinecolor": "#2a3f5f"
            },
            "baxis": {
             "endlinecolor": "#2a3f5f",
             "gridcolor": "white",
             "linecolor": "white",
             "minorgridcolor": "white",
             "startlinecolor": "#2a3f5f"
            },
            "type": "carpet"
           }
          ],
          "choropleth": [
           {
            "colorbar": {
             "outlinewidth": 0,
             "ticks": ""
            },
            "type": "choropleth"
           }
          ],
          "contour": [
           {
            "colorbar": {
             "outlinewidth": 0,
             "ticks": ""
            },
            "colorscale": [
             [
              0,
              "#0d0887"
             ],
             [
              0.1111111111111111,
              "#46039f"
             ],
             [
              0.2222222222222222,
              "#7201a8"
             ],
             [
              0.3333333333333333,
              "#9c179e"
             ],
             [
              0.4444444444444444,
              "#bd3786"
             ],
             [
              0.5555555555555556,
              "#d8576b"
             ],
             [
              0.6666666666666666,
              "#ed7953"
             ],
             [
              0.7777777777777778,
              "#fb9f3a"
             ],
             [
              0.8888888888888888,
              "#fdca26"
             ],
             [
              1,
              "#f0f921"
             ]
            ],
            "type": "contour"
           }
          ],
          "contourcarpet": [
           {
            "colorbar": {
             "outlinewidth": 0,
             "ticks": ""
            },
            "type": "contourcarpet"
           }
          ],
          "heatmap": [
           {
            "colorbar": {
             "outlinewidth": 0,
             "ticks": ""
            },
            "colorscale": [
             [
              0,
              "#0d0887"
             ],
             [
              0.1111111111111111,
              "#46039f"
             ],
             [
              0.2222222222222222,
              "#7201a8"
             ],
             [
              0.3333333333333333,
              "#9c179e"
             ],
             [
              0.4444444444444444,
              "#bd3786"
             ],
             [
              0.5555555555555556,
              "#d8576b"
             ],
             [
              0.6666666666666666,
              "#ed7953"
             ],
             [
              0.7777777777777778,
              "#fb9f3a"
             ],
             [
              0.8888888888888888,
              "#fdca26"
             ],
             [
              1,
              "#f0f921"
             ]
            ],
            "type": "heatmap"
           }
          ],
          "heatmapgl": [
           {
            "colorbar": {
             "outlinewidth": 0,
             "ticks": ""
            },
            "colorscale": [
             [
              0,
              "#0d0887"
             ],
             [
              0.1111111111111111,
              "#46039f"
             ],
             [
              0.2222222222222222,
              "#7201a8"
             ],
             [
              0.3333333333333333,
              "#9c179e"
             ],
             [
              0.4444444444444444,
              "#bd3786"
             ],
             [
              0.5555555555555556,
              "#d8576b"
             ],
             [
              0.6666666666666666,
              "#ed7953"
             ],
             [
              0.7777777777777778,
              "#fb9f3a"
             ],
             [
              0.8888888888888888,
              "#fdca26"
             ],
             [
              1,
              "#f0f921"
             ]
            ],
            "type": "heatmapgl"
           }
          ],
          "histogram": [
           {
            "marker": {
             "pattern": {
              "fillmode": "overlay",
              "size": 10,
              "solidity": 0.2
             }
            },
            "type": "histogram"
           }
          ],
          "histogram2d": [
           {
            "colorbar": {
             "outlinewidth": 0,
             "ticks": ""
            },
            "colorscale": [
             [
              0,
              "#0d0887"
             ],
             [
              0.1111111111111111,
              "#46039f"
             ],
             [
              0.2222222222222222,
              "#7201a8"
             ],
             [
              0.3333333333333333,
              "#9c179e"
             ],
             [
              0.4444444444444444,
              "#bd3786"
             ],
             [
              0.5555555555555556,
              "#d8576b"
             ],
             [
              0.6666666666666666,
              "#ed7953"
             ],
             [
              0.7777777777777778,
              "#fb9f3a"
             ],
             [
              0.8888888888888888,
              "#fdca26"
             ],
             [
              1,
              "#f0f921"
             ]
            ],
            "type": "histogram2d"
           }
          ],
          "histogram2dcontour": [
           {
            "colorbar": {
             "outlinewidth": 0,
             "ticks": ""
            },
            "colorscale": [
             [
              0,
              "#0d0887"
             ],
             [
              0.1111111111111111,
              "#46039f"
             ],
             [
              0.2222222222222222,
              "#7201a8"
             ],
             [
              0.3333333333333333,
              "#9c179e"
             ],
             [
              0.4444444444444444,
              "#bd3786"
             ],
             [
              0.5555555555555556,
              "#d8576b"
             ],
             [
              0.6666666666666666,
              "#ed7953"
             ],
             [
              0.7777777777777778,
              "#fb9f3a"
             ],
             [
              0.8888888888888888,
              "#fdca26"
             ],
             [
              1,
              "#f0f921"
             ]
            ],
            "type": "histogram2dcontour"
           }
          ],
          "mesh3d": [
           {
            "colorbar": {
             "outlinewidth": 0,
             "ticks": ""
            },
            "type": "mesh3d"
           }
          ],
          "parcoords": [
           {
            "line": {
             "colorbar": {
              "outlinewidth": 0,
              "ticks": ""
             }
            },
            "type": "parcoords"
           }
          ],
          "pie": [
           {
            "automargin": true,
            "type": "pie"
           }
          ],
          "scatter": [
           {
            "fillpattern": {
             "fillmode": "overlay",
             "size": 10,
             "solidity": 0.2
            },
            "type": "scatter"
           }
          ],
          "scatter3d": [
           {
            "line": {
             "colorbar": {
              "outlinewidth": 0,
              "ticks": ""
             }
            },
            "marker": {
             "colorbar": {
              "outlinewidth": 0,
              "ticks": ""
             }
            },
            "type": "scatter3d"
           }
          ],
          "scattercarpet": [
           {
            "marker": {
             "colorbar": {
              "outlinewidth": 0,
              "ticks": ""
             }
            },
            "type": "scattercarpet"
           }
          ],
          "scattergeo": [
           {
            "marker": {
             "colorbar": {
              "outlinewidth": 0,
              "ticks": ""
             }
            },
            "type": "scattergeo"
           }
          ],
          "scattergl": [
           {
            "marker": {
             "colorbar": {
              "outlinewidth": 0,
              "ticks": ""
             }
            },
            "type": "scattergl"
           }
          ],
          "scattermapbox": [
           {
            "marker": {
             "colorbar": {
              "outlinewidth": 0,
              "ticks": ""
             }
            },
            "type": "scattermapbox"
           }
          ],
          "scatterpolar": [
           {
            "marker": {
             "colorbar": {
              "outlinewidth": 0,
              "ticks": ""
             }
            },
            "type": "scatterpolar"
           }
          ],
          "scatterpolargl": [
           {
            "marker": {
             "colorbar": {
              "outlinewidth": 0,
              "ticks": ""
             }
            },
            "type": "scatterpolargl"
           }
          ],
          "scatterternary": [
           {
            "marker": {
             "colorbar": {
              "outlinewidth": 0,
              "ticks": ""
             }
            },
            "type": "scatterternary"
           }
          ],
          "surface": [
           {
            "colorbar": {
             "outlinewidth": 0,
             "ticks": ""
            },
            "colorscale": [
             [
              0,
              "#0d0887"
             ],
             [
              0.1111111111111111,
              "#46039f"
             ],
             [
              0.2222222222222222,
              "#7201a8"
             ],
             [
              0.3333333333333333,
              "#9c179e"
             ],
             [
              0.4444444444444444,
              "#bd3786"
             ],
             [
              0.5555555555555556,
              "#d8576b"
             ],
             [
              0.6666666666666666,
              "#ed7953"
             ],
             [
              0.7777777777777778,
              "#fb9f3a"
             ],
             [
              0.8888888888888888,
              "#fdca26"
             ],
             [
              1,
              "#f0f921"
             ]
            ],
            "type": "surface"
           }
          ],
          "table": [
           {
            "cells": {
             "fill": {
              "color": "#EBF0F8"
             },
             "line": {
              "color": "white"
             }
            },
            "header": {
             "fill": {
              "color": "#C8D4E3"
             },
             "line": {
              "color": "white"
             }
            },
            "type": "table"
           }
          ]
         },
         "layout": {
          "annotationdefaults": {
           "arrowcolor": "#2a3f5f",
           "arrowhead": 0,
           "arrowwidth": 1
          },
          "autotypenumbers": "strict",
          "coloraxis": {
           "colorbar": {
            "outlinewidth": 0,
            "ticks": ""
           }
          },
          "colorscale": {
           "diverging": [
            [
             0,
             "#8e0152"
            ],
            [
             0.1,
             "#c51b7d"
            ],
            [
             0.2,
             "#de77ae"
            ],
            [
             0.3,
             "#f1b6da"
            ],
            [
             0.4,
             "#fde0ef"
            ],
            [
             0.5,
             "#f7f7f7"
            ],
            [
             0.6,
             "#e6f5d0"
            ],
            [
             0.7,
             "#b8e186"
            ],
            [
             0.8,
             "#7fbc41"
            ],
            [
             0.9,
             "#4d9221"
            ],
            [
             1,
             "#276419"
            ]
           ],
           "sequential": [
            [
             0,
             "#0d0887"
            ],
            [
             0.1111111111111111,
             "#46039f"
            ],
            [
             0.2222222222222222,
             "#7201a8"
            ],
            [
             0.3333333333333333,
             "#9c179e"
            ],
            [
             0.4444444444444444,
             "#bd3786"
            ],
            [
             0.5555555555555556,
             "#d8576b"
            ],
            [
             0.6666666666666666,
             "#ed7953"
            ],
            [
             0.7777777777777778,
             "#fb9f3a"
            ],
            [
             0.8888888888888888,
             "#fdca26"
            ],
            [
             1,
             "#f0f921"
            ]
           ],
           "sequentialminus": [
            [
             0,
             "#0d0887"
            ],
            [
             0.1111111111111111,
             "#46039f"
            ],
            [
             0.2222222222222222,
             "#7201a8"
            ],
            [
             0.3333333333333333,
             "#9c179e"
            ],
            [
             0.4444444444444444,
             "#bd3786"
            ],
            [
             0.5555555555555556,
             "#d8576b"
            ],
            [
             0.6666666666666666,
             "#ed7953"
            ],
            [
             0.7777777777777778,
             "#fb9f3a"
            ],
            [
             0.8888888888888888,
             "#fdca26"
            ],
            [
             1,
             "#f0f921"
            ]
           ]
          },
          "colorway": [
           "#636efa",
           "#EF553B",
           "#00cc96",
           "#ab63fa",
           "#FFA15A",
           "#19d3f3",
           "#FF6692",
           "#B6E880",
           "#FF97FF",
           "#FECB52"
          ],
          "font": {
           "color": "#2a3f5f"
          },
          "geo": {
           "bgcolor": "white",
           "lakecolor": "white",
           "landcolor": "#E5ECF6",
           "showlakes": true,
           "showland": true,
           "subunitcolor": "white"
          },
          "hoverlabel": {
           "align": "left"
          },
          "hovermode": "closest",
          "mapbox": {
           "style": "light"
          },
          "paper_bgcolor": "white",
          "plot_bgcolor": "#E5ECF6",
          "polar": {
           "angularaxis": {
            "gridcolor": "white",
            "linecolor": "white",
            "ticks": ""
           },
           "bgcolor": "#E5ECF6",
           "radialaxis": {
            "gridcolor": "white",
            "linecolor": "white",
            "ticks": ""
           }
          },
          "scene": {
           "xaxis": {
            "backgroundcolor": "#E5ECF6",
            "gridcolor": "white",
            "gridwidth": 2,
            "linecolor": "white",
            "showbackground": true,
            "ticks": "",
            "zerolinecolor": "white"
           },
           "yaxis": {
            "backgroundcolor": "#E5ECF6",
            "gridcolor": "white",
            "gridwidth": 2,
            "linecolor": "white",
            "showbackground": true,
            "ticks": "",
            "zerolinecolor": "white"
           },
           "zaxis": {
            "backgroundcolor": "#E5ECF6",
            "gridcolor": "white",
            "gridwidth": 2,
            "linecolor": "white",
            "showbackground": true,
            "ticks": "",
            "zerolinecolor": "white"
           }
          },
          "shapedefaults": {
           "line": {
            "color": "#2a3f5f"
           }
          },
          "ternary": {
           "aaxis": {
            "gridcolor": "white",
            "linecolor": "white",
            "ticks": ""
           },
           "baxis": {
            "gridcolor": "white",
            "linecolor": "white",
            "ticks": ""
           },
           "bgcolor": "#E5ECF6",
           "caxis": {
            "gridcolor": "white",
            "linecolor": "white",
            "ticks": ""
           }
          },
          "title": {
           "x": 0.05
          },
          "xaxis": {
           "automargin": true,
           "gridcolor": "white",
           "linecolor": "white",
           "ticks": "",
           "title": {
            "standoff": 15
           },
           "zerolinecolor": "white",
           "zerolinewidth": 2
          },
          "yaxis": {
           "automargin": true,
           "gridcolor": "white",
           "linecolor": "white",
           "ticks": "",
           "title": {
            "standoff": 15
           },
           "zerolinecolor": "white",
           "zerolinewidth": 2
          }
         }
        },
        "title": {
         "text": "Total Sales by Category"
        }
       }
      }
     },
     "metadata": {},
     "output_type": "display_data"
    },
    {
     "name": "stdout",
     "output_type": "stream",
     "text": [
      "\n",
      "                   Total Sales\n",
      "Customer Location             \n",
      "1                        26890\n",
      "2                        16195\n",
      "3                        18940\n",
      "4                        31700\n",
      "5                        17820\n",
      "6                        28390\n",
      "7                        29785\n",
      "8                        27145\n",
      "9                        20810\n",
      "10                       26170\n",
      "\n"
     ]
    },
    {
     "data": {
      "application/vnd.plotly.v1+json": {
       "config": {
        "plotlyServerURL": "https://plot.ly"
       },
       "data": [
        {
         "fill": "toself",
         "hovertemplate": "Total Sales=%{r}<br>Customer Location=%{theta}<extra></extra>",
         "legendgroup": "",
         "line": {
          "color": "#636efa",
          "dash": "solid"
         },
         "marker": {
          "symbol": "circle"
         },
         "mode": "lines",
         "name": "",
         "r": [
          26890,
          16195,
          18940,
          31700,
          17820,
          28390,
          29785,
          27145,
          20810,
          26170,
          26890
         ],
         "showlegend": false,
         "subplot": "polar",
         "theta": [
          "1",
          "2",
          "3",
          "4",
          "5",
          "6",
          "7",
          "8",
          "9",
          "10",
          "1"
         ],
         "type": "scatterpolar"
        }
       ],
       "layout": {
        "legend": {
         "tracegroupgap": 0
        },
        "margin": {
         "t": 60
        },
        "polar": {
         "angularaxis": {
          "direction": "clockwise",
          "rotation": 90
         },
         "domain": {
          "x": [
           0,
           1
          ],
          "y": [
           0,
           1
          ]
         }
        },
        "template": {
         "data": {
          "bar": [
           {
            "error_x": {
             "color": "#2a3f5f"
            },
            "error_y": {
             "color": "#2a3f5f"
            },
            "marker": {
             "line": {
              "color": "#E5ECF6",
              "width": 0.5
             },
             "pattern": {
              "fillmode": "overlay",
              "size": 10,
              "solidity": 0.2
             }
            },
            "type": "bar"
           }
          ],
          "barpolar": [
           {
            "marker": {
             "line": {
              "color": "#E5ECF6",
              "width": 0.5
             },
             "pattern": {
              "fillmode": "overlay",
              "size": 10,
              "solidity": 0.2
             }
            },
            "type": "barpolar"
           }
          ],
          "carpet": [
           {
            "aaxis": {
             "endlinecolor": "#2a3f5f",
             "gridcolor": "white",
             "linecolor": "white",
             "minorgridcolor": "white",
             "startlinecolor": "#2a3f5f"
            },
            "baxis": {
             "endlinecolor": "#2a3f5f",
             "gridcolor": "white",
             "linecolor": "white",
             "minorgridcolor": "white",
             "startlinecolor": "#2a3f5f"
            },
            "type": "carpet"
           }
          ],
          "choropleth": [
           {
            "colorbar": {
             "outlinewidth": 0,
             "ticks": ""
            },
            "type": "choropleth"
           }
          ],
          "contour": [
           {
            "colorbar": {
             "outlinewidth": 0,
             "ticks": ""
            },
            "colorscale": [
             [
              0,
              "#0d0887"
             ],
             [
              0.1111111111111111,
              "#46039f"
             ],
             [
              0.2222222222222222,
              "#7201a8"
             ],
             [
              0.3333333333333333,
              "#9c179e"
             ],
             [
              0.4444444444444444,
              "#bd3786"
             ],
             [
              0.5555555555555556,
              "#d8576b"
             ],
             [
              0.6666666666666666,
              "#ed7953"
             ],
             [
              0.7777777777777778,
              "#fb9f3a"
             ],
             [
              0.8888888888888888,
              "#fdca26"
             ],
             [
              1,
              "#f0f921"
             ]
            ],
            "type": "contour"
           }
          ],
          "contourcarpet": [
           {
            "colorbar": {
             "outlinewidth": 0,
             "ticks": ""
            },
            "type": "contourcarpet"
           }
          ],
          "heatmap": [
           {
            "colorbar": {
             "outlinewidth": 0,
             "ticks": ""
            },
            "colorscale": [
             [
              0,
              "#0d0887"
             ],
             [
              0.1111111111111111,
              "#46039f"
             ],
             [
              0.2222222222222222,
              "#7201a8"
             ],
             [
              0.3333333333333333,
              "#9c179e"
             ],
             [
              0.4444444444444444,
              "#bd3786"
             ],
             [
              0.5555555555555556,
              "#d8576b"
             ],
             [
              0.6666666666666666,
              "#ed7953"
             ],
             [
              0.7777777777777778,
              "#fb9f3a"
             ],
             [
              0.8888888888888888,
              "#fdca26"
             ],
             [
              1,
              "#f0f921"
             ]
            ],
            "type": "heatmap"
           }
          ],
          "heatmapgl": [
           {
            "colorbar": {
             "outlinewidth": 0,
             "ticks": ""
            },
            "colorscale": [
             [
              0,
              "#0d0887"
             ],
             [
              0.1111111111111111,
              "#46039f"
             ],
             [
              0.2222222222222222,
              "#7201a8"
             ],
             [
              0.3333333333333333,
              "#9c179e"
             ],
             [
              0.4444444444444444,
              "#bd3786"
             ],
             [
              0.5555555555555556,
              "#d8576b"
             ],
             [
              0.6666666666666666,
              "#ed7953"
             ],
             [
              0.7777777777777778,
              "#fb9f3a"
             ],
             [
              0.8888888888888888,
              "#fdca26"
             ],
             [
              1,
              "#f0f921"
             ]
            ],
            "type": "heatmapgl"
           }
          ],
          "histogram": [
           {
            "marker": {
             "pattern": {
              "fillmode": "overlay",
              "size": 10,
              "solidity": 0.2
             }
            },
            "type": "histogram"
           }
          ],
          "histogram2d": [
           {
            "colorbar": {
             "outlinewidth": 0,
             "ticks": ""
            },
            "colorscale": [
             [
              0,
              "#0d0887"
             ],
             [
              0.1111111111111111,
              "#46039f"
             ],
             [
              0.2222222222222222,
              "#7201a8"
             ],
             [
              0.3333333333333333,
              "#9c179e"
             ],
             [
              0.4444444444444444,
              "#bd3786"
             ],
             [
              0.5555555555555556,
              "#d8576b"
             ],
             [
              0.6666666666666666,
              "#ed7953"
             ],
             [
              0.7777777777777778,
              "#fb9f3a"
             ],
             [
              0.8888888888888888,
              "#fdca26"
             ],
             [
              1,
              "#f0f921"
             ]
            ],
            "type": "histogram2d"
           }
          ],
          "histogram2dcontour": [
           {
            "colorbar": {
             "outlinewidth": 0,
             "ticks": ""
            },
            "colorscale": [
             [
              0,
              "#0d0887"
             ],
             [
              0.1111111111111111,
              "#46039f"
             ],
             [
              0.2222222222222222,
              "#7201a8"
             ],
             [
              0.3333333333333333,
              "#9c179e"
             ],
             [
              0.4444444444444444,
              "#bd3786"
             ],
             [
              0.5555555555555556,
              "#d8576b"
             ],
             [
              0.6666666666666666,
              "#ed7953"
             ],
             [
              0.7777777777777778,
              "#fb9f3a"
             ],
             [
              0.8888888888888888,
              "#fdca26"
             ],
             [
              1,
              "#f0f921"
             ]
            ],
            "type": "histogram2dcontour"
           }
          ],
          "mesh3d": [
           {
            "colorbar": {
             "outlinewidth": 0,
             "ticks": ""
            },
            "type": "mesh3d"
           }
          ],
          "parcoords": [
           {
            "line": {
             "colorbar": {
              "outlinewidth": 0,
              "ticks": ""
             }
            },
            "type": "parcoords"
           }
          ],
          "pie": [
           {
            "automargin": true,
            "type": "pie"
           }
          ],
          "scatter": [
           {
            "fillpattern": {
             "fillmode": "overlay",
             "size": 10,
             "solidity": 0.2
            },
            "type": "scatter"
           }
          ],
          "scatter3d": [
           {
            "line": {
             "colorbar": {
              "outlinewidth": 0,
              "ticks": ""
             }
            },
            "marker": {
             "colorbar": {
              "outlinewidth": 0,
              "ticks": ""
             }
            },
            "type": "scatter3d"
           }
          ],
          "scattercarpet": [
           {
            "marker": {
             "colorbar": {
              "outlinewidth": 0,
              "ticks": ""
             }
            },
            "type": "scattercarpet"
           }
          ],
          "scattergeo": [
           {
            "marker": {
             "colorbar": {
              "outlinewidth": 0,
              "ticks": ""
             }
            },
            "type": "scattergeo"
           }
          ],
          "scattergl": [
           {
            "marker": {
             "colorbar": {
              "outlinewidth": 0,
              "ticks": ""
             }
            },
            "type": "scattergl"
           }
          ],
          "scattermapbox": [
           {
            "marker": {
             "colorbar": {
              "outlinewidth": 0,
              "ticks": ""
             }
            },
            "type": "scattermapbox"
           }
          ],
          "scatterpolar": [
           {
            "marker": {
             "colorbar": {
              "outlinewidth": 0,
              "ticks": ""
             }
            },
            "type": "scatterpolar"
           }
          ],
          "scatterpolargl": [
           {
            "marker": {
             "colorbar": {
              "outlinewidth": 0,
              "ticks": ""
             }
            },
            "type": "scatterpolargl"
           }
          ],
          "scatterternary": [
           {
            "marker": {
             "colorbar": {
              "outlinewidth": 0,
              "ticks": ""
             }
            },
            "type": "scatterternary"
           }
          ],
          "surface": [
           {
            "colorbar": {
             "outlinewidth": 0,
             "ticks": ""
            },
            "colorscale": [
             [
              0,
              "#0d0887"
             ],
             [
              0.1111111111111111,
              "#46039f"
             ],
             [
              0.2222222222222222,
              "#7201a8"
             ],
             [
              0.3333333333333333,
              "#9c179e"
             ],
             [
              0.4444444444444444,
              "#bd3786"
             ],
             [
              0.5555555555555556,
              "#d8576b"
             ],
             [
              0.6666666666666666,
              "#ed7953"
             ],
             [
              0.7777777777777778,
              "#fb9f3a"
             ],
             [
              0.8888888888888888,
              "#fdca26"
             ],
             [
              1,
              "#f0f921"
             ]
            ],
            "type": "surface"
           }
          ],
          "table": [
           {
            "cells": {
             "fill": {
              "color": "#EBF0F8"
             },
             "line": {
              "color": "white"
             }
            },
            "header": {
             "fill": {
              "color": "#C8D4E3"
             },
             "line": {
              "color": "white"
             }
            },
            "type": "table"
           }
          ]
         },
         "layout": {
          "annotationdefaults": {
           "arrowcolor": "#2a3f5f",
           "arrowhead": 0,
           "arrowwidth": 1
          },
          "autotypenumbers": "strict",
          "coloraxis": {
           "colorbar": {
            "outlinewidth": 0,
            "ticks": ""
           }
          },
          "colorscale": {
           "diverging": [
            [
             0,
             "#8e0152"
            ],
            [
             0.1,
             "#c51b7d"
            ],
            [
             0.2,
             "#de77ae"
            ],
            [
             0.3,
             "#f1b6da"
            ],
            [
             0.4,
             "#fde0ef"
            ],
            [
             0.5,
             "#f7f7f7"
            ],
            [
             0.6,
             "#e6f5d0"
            ],
            [
             0.7,
             "#b8e186"
            ],
            [
             0.8,
             "#7fbc41"
            ],
            [
             0.9,
             "#4d9221"
            ],
            [
             1,
             "#276419"
            ]
           ],
           "sequential": [
            [
             0,
             "#0d0887"
            ],
            [
             0.1111111111111111,
             "#46039f"
            ],
            [
             0.2222222222222222,
             "#7201a8"
            ],
            [
             0.3333333333333333,
             "#9c179e"
            ],
            [
             0.4444444444444444,
             "#bd3786"
            ],
            [
             0.5555555555555556,
             "#d8576b"
            ],
            [
             0.6666666666666666,
             "#ed7953"
            ],
            [
             0.7777777777777778,
             "#fb9f3a"
            ],
            [
             0.8888888888888888,
             "#fdca26"
            ],
            [
             1,
             "#f0f921"
            ]
           ],
           "sequentialminus": [
            [
             0,
             "#0d0887"
            ],
            [
             0.1111111111111111,
             "#46039f"
            ],
            [
             0.2222222222222222,
             "#7201a8"
            ],
            [
             0.3333333333333333,
             "#9c179e"
            ],
            [
             0.4444444444444444,
             "#bd3786"
            ],
            [
             0.5555555555555556,
             "#d8576b"
            ],
            [
             0.6666666666666666,
             "#ed7953"
            ],
            [
             0.7777777777777778,
             "#fb9f3a"
            ],
            [
             0.8888888888888888,
             "#fdca26"
            ],
            [
             1,
             "#f0f921"
            ]
           ]
          },
          "colorway": [
           "#636efa",
           "#EF553B",
           "#00cc96",
           "#ab63fa",
           "#FFA15A",
           "#19d3f3",
           "#FF6692",
           "#B6E880",
           "#FF97FF",
           "#FECB52"
          ],
          "font": {
           "color": "#2a3f5f"
          },
          "geo": {
           "bgcolor": "white",
           "lakecolor": "white",
           "landcolor": "#E5ECF6",
           "showlakes": true,
           "showland": true,
           "subunitcolor": "white"
          },
          "hoverlabel": {
           "align": "left"
          },
          "hovermode": "closest",
          "mapbox": {
           "style": "light"
          },
          "paper_bgcolor": "white",
          "plot_bgcolor": "#E5ECF6",
          "polar": {
           "angularaxis": {
            "gridcolor": "white",
            "linecolor": "white",
            "ticks": ""
           },
           "bgcolor": "#E5ECF6",
           "radialaxis": {
            "gridcolor": "white",
            "linecolor": "white",
            "ticks": ""
           }
          },
          "scene": {
           "xaxis": {
            "backgroundcolor": "#E5ECF6",
            "gridcolor": "white",
            "gridwidth": 2,
            "linecolor": "white",
            "showbackground": true,
            "ticks": "",
            "zerolinecolor": "white"
           },
           "yaxis": {
            "backgroundcolor": "#E5ECF6",
            "gridcolor": "white",
            "gridwidth": 2,
            "linecolor": "white",
            "showbackground": true,
            "ticks": "",
            "zerolinecolor": "white"
           },
           "zaxis": {
            "backgroundcolor": "#E5ECF6",
            "gridcolor": "white",
            "gridwidth": 2,
            "linecolor": "white",
            "showbackground": true,
            "ticks": "",
            "zerolinecolor": "white"
           }
          },
          "shapedefaults": {
           "line": {
            "color": "#2a3f5f"
           }
          },
          "ternary": {
           "aaxis": {
            "gridcolor": "white",
            "linecolor": "white",
            "ticks": ""
           },
           "baxis": {
            "gridcolor": "white",
            "linecolor": "white",
            "ticks": ""
           },
           "bgcolor": "#E5ECF6",
           "caxis": {
            "gridcolor": "white",
            "linecolor": "white",
            "ticks": ""
           }
          },
          "title": {
           "x": 0.05
          },
          "xaxis": {
           "automargin": true,
           "gridcolor": "white",
           "linecolor": "white",
           "ticks": "",
           "title": {
            "standoff": 15
           },
           "zerolinecolor": "white",
           "zerolinewidth": 2
          },
          "yaxis": {
           "automargin": true,
           "gridcolor": "white",
           "linecolor": "white",
           "ticks": "",
           "title": {
            "standoff": 15
           },
           "zerolinecolor": "white",
           "zerolinewidth": 2
          }
         }
        },
        "title": {
         "text": "Total Sales by Customer Location"
        }
       }
      }
     },
     "metadata": {},
     "output_type": "display_data"
    },
    {
     "name": "stdout",
     "output_type": "stream",
     "text": [
      "\n",
      "                Total Sales\n",
      "Payment Method             \n",
      "1                     69645\n",
      "2                     47955\n",
      "3                     31900\n",
      "4                     61595\n",
      "5                     32750\n",
      "\n"
     ]
    },
    {
     "data": {
      "application/vnd.plotly.v1+json": {
       "config": {
        "plotlyServerURL": "https://plot.ly"
       },
       "data": [
        {
         "fill": "toself",
         "hovertemplate": "Total Sales=%{r}<br>Payment Method=%{theta}<extra></extra>",
         "legendgroup": "",
         "line": {
          "color": "#636efa",
          "dash": "solid"
         },
         "marker": {
          "symbol": "circle"
         },
         "mode": "lines",
         "name": "",
         "r": [
          69645,
          47955,
          31900,
          61595,
          32750,
          69645
         ],
         "showlegend": false,
         "subplot": "polar",
         "theta": [
          "1",
          "2",
          "3",
          "4",
          "5",
          "1"
         ],
         "type": "scatterpolar"
        }
       ],
       "layout": {
        "legend": {
         "tracegroupgap": 0
        },
        "margin": {
         "t": 60
        },
        "polar": {
         "angularaxis": {
          "direction": "clockwise",
          "rotation": 90
         },
         "domain": {
          "x": [
           0,
           1
          ],
          "y": [
           0,
           1
          ]
         }
        },
        "template": {
         "data": {
          "bar": [
           {
            "error_x": {
             "color": "#2a3f5f"
            },
            "error_y": {
             "color": "#2a3f5f"
            },
            "marker": {
             "line": {
              "color": "#E5ECF6",
              "width": 0.5
             },
             "pattern": {
              "fillmode": "overlay",
              "size": 10,
              "solidity": 0.2
             }
            },
            "type": "bar"
           }
          ],
          "barpolar": [
           {
            "marker": {
             "line": {
              "color": "#E5ECF6",
              "width": 0.5
             },
             "pattern": {
              "fillmode": "overlay",
              "size": 10,
              "solidity": 0.2
             }
            },
            "type": "barpolar"
           }
          ],
          "carpet": [
           {
            "aaxis": {
             "endlinecolor": "#2a3f5f",
             "gridcolor": "white",
             "linecolor": "white",
             "minorgridcolor": "white",
             "startlinecolor": "#2a3f5f"
            },
            "baxis": {
             "endlinecolor": "#2a3f5f",
             "gridcolor": "white",
             "linecolor": "white",
             "minorgridcolor": "white",
             "startlinecolor": "#2a3f5f"
            },
            "type": "carpet"
           }
          ],
          "choropleth": [
           {
            "colorbar": {
             "outlinewidth": 0,
             "ticks": ""
            },
            "type": "choropleth"
           }
          ],
          "contour": [
           {
            "colorbar": {
             "outlinewidth": 0,
             "ticks": ""
            },
            "colorscale": [
             [
              0,
              "#0d0887"
             ],
             [
              0.1111111111111111,
              "#46039f"
             ],
             [
              0.2222222222222222,
              "#7201a8"
             ],
             [
              0.3333333333333333,
              "#9c179e"
             ],
             [
              0.4444444444444444,
              "#bd3786"
             ],
             [
              0.5555555555555556,
              "#d8576b"
             ],
             [
              0.6666666666666666,
              "#ed7953"
             ],
             [
              0.7777777777777778,
              "#fb9f3a"
             ],
             [
              0.8888888888888888,
              "#fdca26"
             ],
             [
              1,
              "#f0f921"
             ]
            ],
            "type": "contour"
           }
          ],
          "contourcarpet": [
           {
            "colorbar": {
             "outlinewidth": 0,
             "ticks": ""
            },
            "type": "contourcarpet"
           }
          ],
          "heatmap": [
           {
            "colorbar": {
             "outlinewidth": 0,
             "ticks": ""
            },
            "colorscale": [
             [
              0,
              "#0d0887"
             ],
             [
              0.1111111111111111,
              "#46039f"
             ],
             [
              0.2222222222222222,
              "#7201a8"
             ],
             [
              0.3333333333333333,
              "#9c179e"
             ],
             [
              0.4444444444444444,
              "#bd3786"
             ],
             [
              0.5555555555555556,
              "#d8576b"
             ],
             [
              0.6666666666666666,
              "#ed7953"
             ],
             [
              0.7777777777777778,
              "#fb9f3a"
             ],
             [
              0.8888888888888888,
              "#fdca26"
             ],
             [
              1,
              "#f0f921"
             ]
            ],
            "type": "heatmap"
           }
          ],
          "heatmapgl": [
           {
            "colorbar": {
             "outlinewidth": 0,
             "ticks": ""
            },
            "colorscale": [
             [
              0,
              "#0d0887"
             ],
             [
              0.1111111111111111,
              "#46039f"
             ],
             [
              0.2222222222222222,
              "#7201a8"
             ],
             [
              0.3333333333333333,
              "#9c179e"
             ],
             [
              0.4444444444444444,
              "#bd3786"
             ],
             [
              0.5555555555555556,
              "#d8576b"
             ],
             [
              0.6666666666666666,
              "#ed7953"
             ],
             [
              0.7777777777777778,
              "#fb9f3a"
             ],
             [
              0.8888888888888888,
              "#fdca26"
             ],
             [
              1,
              "#f0f921"
             ]
            ],
            "type": "heatmapgl"
           }
          ],
          "histogram": [
           {
            "marker": {
             "pattern": {
              "fillmode": "overlay",
              "size": 10,
              "solidity": 0.2
             }
            },
            "type": "histogram"
           }
          ],
          "histogram2d": [
           {
            "colorbar": {
             "outlinewidth": 0,
             "ticks": ""
            },
            "colorscale": [
             [
              0,
              "#0d0887"
             ],
             [
              0.1111111111111111,
              "#46039f"
             ],
             [
              0.2222222222222222,
              "#7201a8"
             ],
             [
              0.3333333333333333,
              "#9c179e"
             ],
             [
              0.4444444444444444,
              "#bd3786"
             ],
             [
              0.5555555555555556,
              "#d8576b"
             ],
             [
              0.6666666666666666,
              "#ed7953"
             ],
             [
              0.7777777777777778,
              "#fb9f3a"
             ],
             [
              0.8888888888888888,
              "#fdca26"
             ],
             [
              1,
              "#f0f921"
             ]
            ],
            "type": "histogram2d"
           }
          ],
          "histogram2dcontour": [
           {
            "colorbar": {
             "outlinewidth": 0,
             "ticks": ""
            },
            "colorscale": [
             [
              0,
              "#0d0887"
             ],
             [
              0.1111111111111111,
              "#46039f"
             ],
             [
              0.2222222222222222,
              "#7201a8"
             ],
             [
              0.3333333333333333,
              "#9c179e"
             ],
             [
              0.4444444444444444,
              "#bd3786"
             ],
             [
              0.5555555555555556,
              "#d8576b"
             ],
             [
              0.6666666666666666,
              "#ed7953"
             ],
             [
              0.7777777777777778,
              "#fb9f3a"
             ],
             [
              0.8888888888888888,
              "#fdca26"
             ],
             [
              1,
              "#f0f921"
             ]
            ],
            "type": "histogram2dcontour"
           }
          ],
          "mesh3d": [
           {
            "colorbar": {
             "outlinewidth": 0,
             "ticks": ""
            },
            "type": "mesh3d"
           }
          ],
          "parcoords": [
           {
            "line": {
             "colorbar": {
              "outlinewidth": 0,
              "ticks": ""
             }
            },
            "type": "parcoords"
           }
          ],
          "pie": [
           {
            "automargin": true,
            "type": "pie"
           }
          ],
          "scatter": [
           {
            "fillpattern": {
             "fillmode": "overlay",
             "size": 10,
             "solidity": 0.2
            },
            "type": "scatter"
           }
          ],
          "scatter3d": [
           {
            "line": {
             "colorbar": {
              "outlinewidth": 0,
              "ticks": ""
             }
            },
            "marker": {
             "colorbar": {
              "outlinewidth": 0,
              "ticks": ""
             }
            },
            "type": "scatter3d"
           }
          ],
          "scattercarpet": [
           {
            "marker": {
             "colorbar": {
              "outlinewidth": 0,
              "ticks": ""
             }
            },
            "type": "scattercarpet"
           }
          ],
          "scattergeo": [
           {
            "marker": {
             "colorbar": {
              "outlinewidth": 0,
              "ticks": ""
             }
            },
            "type": "scattergeo"
           }
          ],
          "scattergl": [
           {
            "marker": {
             "colorbar": {
              "outlinewidth": 0,
              "ticks": ""
             }
            },
            "type": "scattergl"
           }
          ],
          "scattermapbox": [
           {
            "marker": {
             "colorbar": {
              "outlinewidth": 0,
              "ticks": ""
             }
            },
            "type": "scattermapbox"
           }
          ],
          "scatterpolar": [
           {
            "marker": {
             "colorbar": {
              "outlinewidth": 0,
              "ticks": ""
             }
            },
            "type": "scatterpolar"
           }
          ],
          "scatterpolargl": [
           {
            "marker": {
             "colorbar": {
              "outlinewidth": 0,
              "ticks": ""
             }
            },
            "type": "scatterpolargl"
           }
          ],
          "scatterternary": [
           {
            "marker": {
             "colorbar": {
              "outlinewidth": 0,
              "ticks": ""
             }
            },
            "type": "scatterternary"
           }
          ],
          "surface": [
           {
            "colorbar": {
             "outlinewidth": 0,
             "ticks": ""
            },
            "colorscale": [
             [
              0,
              "#0d0887"
             ],
             [
              0.1111111111111111,
              "#46039f"
             ],
             [
              0.2222222222222222,
              "#7201a8"
             ],
             [
              0.3333333333333333,
              "#9c179e"
             ],
             [
              0.4444444444444444,
              "#bd3786"
             ],
             [
              0.5555555555555556,
              "#d8576b"
             ],
             [
              0.6666666666666666,
              "#ed7953"
             ],
             [
              0.7777777777777778,
              "#fb9f3a"
             ],
             [
              0.8888888888888888,
              "#fdca26"
             ],
             [
              1,
              "#f0f921"
             ]
            ],
            "type": "surface"
           }
          ],
          "table": [
           {
            "cells": {
             "fill": {
              "color": "#EBF0F8"
             },
             "line": {
              "color": "white"
             }
            },
            "header": {
             "fill": {
              "color": "#C8D4E3"
             },
             "line": {
              "color": "white"
             }
            },
            "type": "table"
           }
          ]
         },
         "layout": {
          "annotationdefaults": {
           "arrowcolor": "#2a3f5f",
           "arrowhead": 0,
           "arrowwidth": 1
          },
          "autotypenumbers": "strict",
          "coloraxis": {
           "colorbar": {
            "outlinewidth": 0,
            "ticks": ""
           }
          },
          "colorscale": {
           "diverging": [
            [
             0,
             "#8e0152"
            ],
            [
             0.1,
             "#c51b7d"
            ],
            [
             0.2,
             "#de77ae"
            ],
            [
             0.3,
             "#f1b6da"
            ],
            [
             0.4,
             "#fde0ef"
            ],
            [
             0.5,
             "#f7f7f7"
            ],
            [
             0.6,
             "#e6f5d0"
            ],
            [
             0.7,
             "#b8e186"
            ],
            [
             0.8,
             "#7fbc41"
            ],
            [
             0.9,
             "#4d9221"
            ],
            [
             1,
             "#276419"
            ]
           ],
           "sequential": [
            [
             0,
             "#0d0887"
            ],
            [
             0.1111111111111111,
             "#46039f"
            ],
            [
             0.2222222222222222,
             "#7201a8"
            ],
            [
             0.3333333333333333,
             "#9c179e"
            ],
            [
             0.4444444444444444,
             "#bd3786"
            ],
            [
             0.5555555555555556,
             "#d8576b"
            ],
            [
             0.6666666666666666,
             "#ed7953"
            ],
            [
             0.7777777777777778,
             "#fb9f3a"
            ],
            [
             0.8888888888888888,
             "#fdca26"
            ],
            [
             1,
             "#f0f921"
            ]
           ],
           "sequentialminus": [
            [
             0,
             "#0d0887"
            ],
            [
             0.1111111111111111,
             "#46039f"
            ],
            [
             0.2222222222222222,
             "#7201a8"
            ],
            [
             0.3333333333333333,
             "#9c179e"
            ],
            [
             0.4444444444444444,
             "#bd3786"
            ],
            [
             0.5555555555555556,
             "#d8576b"
            ],
            [
             0.6666666666666666,
             "#ed7953"
            ],
            [
             0.7777777777777778,
             "#fb9f3a"
            ],
            [
             0.8888888888888888,
             "#fdca26"
            ],
            [
             1,
             "#f0f921"
            ]
           ]
          },
          "colorway": [
           "#636efa",
           "#EF553B",
           "#00cc96",
           "#ab63fa",
           "#FFA15A",
           "#19d3f3",
           "#FF6692",
           "#B6E880",
           "#FF97FF",
           "#FECB52"
          ],
          "font": {
           "color": "#2a3f5f"
          },
          "geo": {
           "bgcolor": "white",
           "lakecolor": "white",
           "landcolor": "#E5ECF6",
           "showlakes": true,
           "showland": true,
           "subunitcolor": "white"
          },
          "hoverlabel": {
           "align": "left"
          },
          "hovermode": "closest",
          "mapbox": {
           "style": "light"
          },
          "paper_bgcolor": "white",
          "plot_bgcolor": "#E5ECF6",
          "polar": {
           "angularaxis": {
            "gridcolor": "white",
            "linecolor": "white",
            "ticks": ""
           },
           "bgcolor": "#E5ECF6",
           "radialaxis": {
            "gridcolor": "white",
            "linecolor": "white",
            "ticks": ""
           }
          },
          "scene": {
           "xaxis": {
            "backgroundcolor": "#E5ECF6",
            "gridcolor": "white",
            "gridwidth": 2,
            "linecolor": "white",
            "showbackground": true,
            "ticks": "",
            "zerolinecolor": "white"
           },
           "yaxis": {
            "backgroundcolor": "#E5ECF6",
            "gridcolor": "white",
            "gridwidth": 2,
            "linecolor": "white",
            "showbackground": true,
            "ticks": "",
            "zerolinecolor": "white"
           },
           "zaxis": {
            "backgroundcolor": "#E5ECF6",
            "gridcolor": "white",
            "gridwidth": 2,
            "linecolor": "white",
            "showbackground": true,
            "ticks": "",
            "zerolinecolor": "white"
           }
          },
          "shapedefaults": {
           "line": {
            "color": "#2a3f5f"
           }
          },
          "ternary": {
           "aaxis": {
            "gridcolor": "white",
            "linecolor": "white",
            "ticks": ""
           },
           "baxis": {
            "gridcolor": "white",
            "linecolor": "white",
            "ticks": ""
           },
           "bgcolor": "#E5ECF6",
           "caxis": {
            "gridcolor": "white",
            "linecolor": "white",
            "ticks": ""
           }
          },
          "title": {
           "x": 0.05
          },
          "xaxis": {
           "automargin": true,
           "gridcolor": "white",
           "linecolor": "white",
           "ticks": "",
           "title": {
            "standoff": 15
           },
           "zerolinecolor": "white",
           "zerolinewidth": 2
          },
          "yaxis": {
           "automargin": true,
           "gridcolor": "white",
           "linecolor": "white",
           "ticks": "",
           "title": {
            "standoff": 15
           },
           "zerolinecolor": "white",
           "zerolinewidth": 2
          }
         }
        },
        "title": {
         "text": "Total Sales by Payment Method"
        }
       }
      }
     },
     "metadata": {},
     "output_type": "display_data"
    },
    {
     "name": "stdout",
     "output_type": "stream",
     "text": [
      "\n",
      "Category      1     2      3     4     5\n",
      "Product                                 \n",
      "1         27000     0      0     0     0\n",
      "2             0     0      0  1060     0\n",
      "3             0     0  15750     0     0\n",
      "4             0     0  48500     0     0\n",
      "5             0  4320      0     0     0\n",
      "6         78000     0      0     0     0\n",
      "7             0     0  58400     0     0\n",
      "8             0     0      0  2480     0\n",
      "9             0     0   7300     0     0\n",
      "10            0     0      0     0  1035\n",
      "\n"
     ]
    },
    {
     "data": {
      "image/png": "[encoded data removed]",
      "text/plain": [
       "<Figure size 640x480 with 1 Axes>"
      ]
     },
     "metadata": {},
     "output_type": "display_data"
    },
    {
     "name": "stdout",
     "output_type": "stream",
     "text": [
      "\n",
      "Total sales in this categroy $105,000\n",
      "Product  6  has the highest sales in this category $78,000\n",
      "\n"
     ]
    },
    {
     "data": {
      "image/png": "[encoded data removed]",
      "text/plain": [
       "<Figure size 640x480 with 1 Axes>"
      ]
     },
     "metadata": {},
     "output_type": "display_data"
    },
    {
     "name": "stdout",
     "output_type": "stream",
     "text": [
      "\n",
      "Total sales in this categroy $4,320\n",
      "Product  5  has the highest sales in this category $4,320\n",
      "\n"
     ]
    },
    {
     "data": {
      "image/png": "[encoded data removed]",
      "text/plain": [
       "<Figure size 640x480 with 1 Axes>"
      ]
     },
     "metadata": {},
     "output_type": "display_data"
    },
    {
     "name": "stdout",
     "output_type": "stream",
     "text": [
      "\n",
      "Total sales in this categroy $129,950\n",
      "Product  7  has the highest sales in this category $58,400\n",
      "\n"
     ]
    },
    {
     "data": {
      "image/png": "[encoded data removed]",
      "text/plain": [
       "<Figure size 640x480 with 1 Axes>"
      ]
     },
     "metadata": {},
     "output_type": "display_data"
    },
    {
     "name": "stdout",
     "output_type": "stream",
     "text": [
      "\n",
      "Total sales in this categroy $3,540\n",
      "Product  8  has the highest sales in this category $2,480\n",
      "\n"
     ]
    },
    {
     "data": {
      "image/png": "[encoded data removed]",
      "text/plain": [
       "<Figure size 640x480 with 1 Axes>"
      ]
     },
     "metadata": {},
     "output_type": "display_data"
    },
    {
     "name": "stdout",
     "output_type": "stream",
     "text": [
      "\n",
      "Total sales in this categroy $1,035\n",
      "Product  10  has the highest sales in this category $1,035\n",
      "\n",
      "Quantity     1      2      3      4      5\n",
      "Product                                   \n",
      "1         2400   3600   5400   9600   6000\n",
      "2          120    200    180    160    400\n",
      "3          600   3300   2700   2400   6750\n",
      "4         4500   8000   9000  12000  15000\n",
      "5          360    960   1080    720   1200\n",
      "6         6000  14400  21600  24000  12000\n",
      "7         3200   4800  21600  12800  16000\n",
      "8          160    400    240    480   1200\n",
      "9          400   1000   2400   2000   1500\n",
      "10         165     60     90    120    600\n",
      "\n"
     ]
    },
    {
     "data": {
      "image/png": "[encoded data removed]",
      "text/plain": [
       "<Figure size 640x480 with 1 Axes>"
      ]
     },
     "metadata": {},
     "output_type": "display_data"
    },
    {
     "name": "stdout",
     "output_type": "stream",
     "text": [
      "\n",
      "Total sales in this quantity $17,905\n",
      "Product  6  has the highest sales in this quantity $6,000\n",
      "\n"
     ]
    },
    {
     "data": {
      "image/png": "[encoded data removed]",
      "text/plain": [
       "<Figure size 640x480 with 1 Axes>"
      ]
     },
     "metadata": {},
     "output_type": "display_data"
    },
    {
     "name": "stdout",
     "output_type": "stream",
     "text": [
      "\n",
      "Total sales in this quantity $36,720\n",
      "Product  6  has the highest sales in this quantity $14,400\n",
      "\n"
     ]
    },
    {
     "data": {
      "image/png": "[encoded data removed]",
      "text/plain": [
       "<Figure size 640x480 with 1 Axes>"
      ]
     },
     "metadata": {},
     "output_type": "display_data"
    },
    {
     "name": "stdout",
     "output_type": "stream",
     "text": [
      "\n",
      "Total sales in this quantity $64,290\n",
      "Product  6  has the highest sales in this quantity $21,600\n",
      "\n"
     ]
    },
    {
     "data": {
      "image/png": "[encoded data removed]",
      "text/plain": [
       "<Figure size 640x480 with 1 Axes>"
      ]
     },
     "metadata": {},
     "output_type": "display_data"
    },
    {
     "name": "stdout",
     "output_type": "stream",
     "text": [
      "\n",
      "Total sales in this quantity $64,280\n",
      "Product  6  has the highest sales in this quantity $24,000\n",
      "\n"
     ]
    },
    {
     "data": {
      "image/png": "[encoded data removed]",
      "text/plain": [
       "<Figure size 640x480 with 1 Axes>"
      ]
     },
     "metadata": {},
     "output_type": "display_data"
    },
    {
     "name": "stdout",
     "output_type": "stream",
     "text": [
      "\n",
      "Total sales in this quantity $60,650\n",
      "Product  7  has the highest sales in this quantity $16,000\n",
      "\n",
      "Customer Location     1      2     3     4     5     6      7      8     9   \\\n",
      "Product                                                                       \n",
      "1                   4800      0  2400  5400  2400  4800   1800   3600  1200   \n",
      "2                      0      0   160   100     0    80    320    140   100   \n",
      "3                   1200   1200  1950  1200  1050  3300   1650   1650   300   \n",
      "4                   5500    500  2000  9500  1500  5000   4000   4500  9500   \n",
      "5                      0    480   360   780   660   780    360    480   240   \n",
      "6                  10800   2400  4800  4800  3600  4800  13200  15600  6000   \n",
      "7                   3200  10400  5600  8800  8000  8000   8000      0  2400   \n",
      "8                    400    160   640     0    80     0     80    800   160   \n",
      "9                    900    800  1000  1000   500  1600    300    300   700   \n",
      "10                    90    255    30   120    30    30     75     75   210   \n",
      "\n",
      "Customer Location     10  \n",
      "Product                   \n",
      "1                    600  \n",
      "2                    160  \n",
      "3                   2250  \n",
      "4                   6500  \n",
      "5                    180  \n",
      "6                  12000  \n",
      "7                   4000  \n",
      "8                    160  \n",
      "9                    200  \n",
      "10                   120  \n",
      "\n"
     ]
    },
    {
     "data": {
      "image/png": "[encoded data removed]",
      "text/plain": [
       "<Figure size 640x480 with 1 Axes>"
      ]
     },
     "metadata": {},
     "output_type": "display_data"
    },
    {
     "name": "stdout",
     "output_type": "stream",
     "text": [
      "\n",
      "Total sales in this location $26,890\n",
      "Product  6  has the highest sales in this location $10,800\n",
      "\n"
     ]
    },
    {
     "data": {
      "image/png": "[encoded data removed]",
      "text/plain": [
       "<Figure size 640x480 with 1 Axes>"
      ]
     },
     "metadata": {},
     "output_type": "display_data"
    },
    {
     "name": "stdout",
     "output_type": "stream",
     "text": [
      "\n",
      "Total sales in this location $16,195\n",
      "Product  7  has the highest sales in this location $10,400\n",
      "\n"
     ]
    },
    {
     "data": {
      "image/png": "[encoded data removed]",
      "text/plain": [
       "<Figure size 640x480 with 1 Axes>"
      ]
     },
     "metadata": {},
     "output_type": "display_data"
    },
    {
     "name": "stdout",
     "output_type": "stream",
     "text": [
      "\n",
      "Total sales in this location $18,940\n",
      "Product  7  has the highest sales in this location $5,600\n",
      "\n"
     ]
    },
    {
     "data": {
      "image/png": "[encoded data removed]",
      "text/plain": [
       "<Figure size 640x480 with 1 Axes>"
      ]
     },
     "metadata": {},
     "output_type": "display_data"
    },
    {
     "name": "stdout",
     "output_type": "stream",
     "text": [
      "\n",
      "Total sales in this location $31,700\n",
      "Product  4  has the highest sales in this location $9,500\n",
      "\n"
     ]
    },
    {
     "data": {
      "image/png": "[encoded data removed]",
      "text/plain": [
       "<Figure size 640x480 with 1 Axes>"
      ]
     },
     "metadata": {},
     "output_type": "display_data"
    },
    {
     "name": "stdout",
     "output_type": "stream",
     "text": [
      "\n",
      "Total sales in this location $17,820\n",
      "Product  7  has the highest sales in this location $8,000\n",
      "\n"
     ]
    },
    {
     "data": {
      "image/png": "[encoded data removed]",
      "text/plain": [
       "<Figure size 640x480 with 1 Axes>"
      ]
     },
     "metadata": {},
     "output_type": "display_data"
    },
    {
     "name": "stdout",
     "output_type": "stream",
     "text": [
      "\n",
      "Total sales in this location $28,390\n",
      "Product  7  has the highest sales in this location $8,000\n",
      "\n"
     ]
    },
    {
     "data": {
      "image/png": "[encoded data removed]",
      "text/plain": [
       "<Figure size 640x480 with 1 Axes>"
      ]
     },
     "metadata": {},
     "output_type": "display_data"
    },
    {
     "name": "stdout",
     "output_type": "stream",
     "text": [
      "\n",
      "Total sales in this location $29,785\n",
      "Product  6  has the highest sales in this location $13,200\n",
      "\n"
     ]
    },
    {
     "data": {
      "image/png": "[encoded data removed]",
      "text/plain": [
       "<Figure size 640x480 with 1 Axes>"
      ]
     },
     "metadata": {},
     "output_type": "display_data"
    },
    {
     "name": "stdout",
     "output_type": "stream",
     "text": [
      "\n",
      "Total sales in this location $27,145\n",
      "Product  6  has the highest sales in this location $15,600\n",
      "\n"
     ]
    },
    {
     "data": {
      "image/png": "[encoded data removed]",
      "text/plain": [
       "<Figure size 640x480 with 1 Axes>"
      ]
     },
     "metadata": {},
     "output_type": "display_data"
    },
    {
     "name": "stdout",
     "output_type": "stream",
     "text": [
      "\n",
      "Total sales in this location $20,810\n",
      "Product  4  has the highest sales in this location $9,500\n",
      "\n"
     ]
    },
    {
     "data": {
      "image/png": "[encoded data removed]",
      "text/plain": [
       "<Figure size 640x480 with 1 Axes>"
      ]
     },
     "metadata": {},
     "output_type": "display_data"
    },
    {
     "name": "stdout",
     "output_type": "stream",
     "text": [
      "\n",
      "Total sales in this location $26,170\n",
      "Product  6  has the highest sales in this location $12,000\n",
      "\n",
      "Product          1    2     3     4     5      6      7    8     9    10\n",
      "Customer Name                                                           \n",
      "Chris White    3600  100  1050  4500   480   6000   2400   80   600   75\n",
      "Daniel Harris     0   80  1350  1000     0   7200   7200  480  1500  135\n",
      "David Lee      1200   40  1500  4000   360  14400      0  280   600  285\n",
      "Emily Johnson  3000    0  2400  7000   360   4800   4800  200   900   15\n",
      "Emma Clark     6000  260  1950  6500  1200   3600   9600    0   500   90\n",
      "Jane Smith     3000  280  1200  2500   660   9600  12800  240   800  105\n",
      "John Doe        600   20  2400  4500   120  10800   7200  440   700   90\n",
      "Michael Brown  7200   40  1800  5500   300      0   6400  440   900   75\n",
      "Olivia Wilson  2400  180   900  9000   540  14400   8000  160   500   90\n",
      "Sophia Miller     0   60  1200  4000   300   7200      0  160   300   75\n",
      "\n",
      "Customer Location    1     2     3     4      5     6     7     8      9   \\\n",
      "Customer Name                                                               \n",
      "Chris White        3600     0   900  3040     30  2790    40  5120   1320   \n",
      "Daniel Harris       700  4000  4040  1315      0  6850     0  1700    140   \n",
      "David Lee             0   210   215   515    120   720  6080  1240   2875   \n",
      "Emily Johnson      2150   900  1450  2500    740  1500  9420  2100   2700   \n",
      "Emma Clark          615  1025   650  6300  10600  5230  2500   360   2000   \n",
      "Jane Smith         4700   400  4150  1530   3700  2460   180  9125    900   \n",
      "John Doe            910  2560  2400  7600    750  1000  3695  4120      0   \n",
      "Michael Brown      5300    60  3080  5800   1880  2800  2470   160    340   \n",
      "Olivia Wilson      4040  5600  2015  1100      0  4980  3400  2800  10535   \n",
      "Sophia Miller      4875  1440    40  2000      0    60  2000   420      0   \n",
      "\n",
      "Customer Location     10  \n",
      "Customer Name             \n",
      "Chris White         2045  \n",
      "Daniel Harris        200  \n",
      "David Lee          10690  \n",
      "Emily Johnson         15  \n",
      "Emma Clark           420  \n",
      "Jane Smith          4040  \n",
      "John Doe            3835  \n",
      "Michael Brown        765  \n",
      "Olivia Wilson       1700  \n",
      "Sophia Miller       2460  \n",
      "\n"
     ]
    }
   ],
   "source": [
    "getEDA(preprocessData)"
   ]
  }
 ],
 "metadata": {
  "colab": {
   "authorship_tag": "ABX9TyOJPh1zCkEo8HdRskEUzRwu",
   "provenance": []
  },
  "kernelspec": {
   "display_name": "base",
   "language": "python",
   "name": "python3"
  },
  "language_info": {
   "codemirror_mode": {
    "name": "ipython",
    "version": 3
   },
   "file_extension": ".py",
   "mimetype": "text/x-python",
   "name": "python",
   "nbconvert_exporter": "python",
   "pygments_lexer": "ipython3",
   "version": "3.10.11"
  }
 },
 "nbformat": 4,
 "nbformat_minor": 0
}
