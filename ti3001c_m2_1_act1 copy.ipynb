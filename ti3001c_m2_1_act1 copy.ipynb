{
 "cells": [
  {
   "cell_type": "markdown",
   "metadata": {
    "id": "jPYBD5etWY_D"
   },
   "source": [
    "# TI3001C: Data Analytics and Artificial Intelligence Tools I\n",
    "### M2. Data Engineering"
   ]
  },
  {
   "cell_type": "markdown",
   "metadata": {
    "id": "h_n3EiHDYvXU"
   },
   "source": [
    "### Content\n",
    "\n",
    "1. Series and DataFrames\n",
    "1. Columns manipulation\n",
    "1. Index, selection and filtering\n",
    "1. Operations\n",
    "1. Date and time\n",
    "1. Graph using DataFrame"
   ]
  },
  {
   "cell_type": "code",
   "execution_count": 4,
   "metadata": {
    "id": "SLZfKPQ2TJBD"
   },
   "outputs": [],
   "source": [
    "# importamos librerías\n",
    "import warnings\n",
    "warnings.filterwarnings(\"ignore\")\n",
    "import numpy as np # to use numpy arrays instead of lists\n",
    "import pandas as pd # librería para poder usad DataFrames (tablas)"
   ]
  },
  {
   "cell_type": "markdown",
   "metadata": {
    "id": "9zYqy23KdOgD"
   },
   "source": [
    "### 1. Pandas"
   ]
  },
  {
   "cell_type": "markdown",
   "metadata": {},
   "source": [
    "* Pandas is a Python library for data manipulation and analysis.\n",
    "* Is primarily centered around two data structures: Series and DataFrames.\n",
    "    * Series and DataFrames are fundamental data structures in various programming languages and libraries commonly used in data analysis and statistics.\n",
    "    * They provide a flexible and intuitive way to store, organize, and work with tabular data.\n",
    "    * They are ideal for tasks like data cleaning, analysis, and visualization."
   ]
  },
  {
   "cell_type": "markdown",
   "metadata": {},
   "source": [
    "#### 1.1 Series"
   ]
  },
  {
   "cell_type": "markdown",
   "metadata": {},
   "source": [
    "* A one-dimensional labeled array capable of holding any data type (integers, strings, boolean values, etc.). \n",
    "* It can be thought of as a single column of data."
   ]
  },
  {
   "cell_type": "code",
   "execution_count": 42,
   "metadata": {},
   "outputs": [
    {
     "name": "stdout",
     "output_type": "stream",
     "text": [
      "0     Chocolate\n",
      "1       Vanilla\n",
      "2    Strawberry\n",
      "3    Rum Raisin\n",
      "Name: Flavors, dtype: object\n"
     ]
    }
   ],
   "source": [
    "# we create a list of ice cream flavors\n",
    "flavors = [\"Chocolate\", \"Vanilla\", \"Strawberry\", \"Rum Raisin\"]\n",
    "# we create a Series with the list of ice cream flavors\n",
    "ice_cream_flavors = pd.Series(flavors, name=\"Flavors\") \n",
    "print(ice_cream_flavors)"
   ]
  },
  {
   "cell_type": "code",
   "execution_count": 20,
   "metadata": {},
   "outputs": [
    {
     "name": "stdout",
     "output_type": "stream",
     "text": [
      "0    78\n",
      "1    41\n",
      "2     7\n",
      "3    65\n",
      "4    83\n",
      "5    81\n",
      "6    98\n",
      "7    98\n",
      "8    17\n",
      "9    25\n",
      "Name: Random Numbers, dtype: int64\n"
     ]
    }
   ],
   "source": [
    "# we create a Series with 10 random numbers\n",
    "random_numbers = pd.Series(np.random.randint(0, 100, size=10), name=\"Random Numbers\")\n",
    "print(random_numbers)"
   ]
  },
  {
   "cell_type": "markdown",
   "metadata": {},
   "source": [
    "#### 1.2 DataFrame"
   ]
  },
  {
   "cell_type": "markdown",
   "metadata": {},
   "source": [
    "* A two-dimensional labeled data structure with columns of potentially different types:\n",
    "    * Unlike matrices, which require all elements to be of the same data type.\n",
    "* It can be conceptualized as a table or spreadsheet, organizing data in rows and columns. \n",
    "* A DataFrame can be considered a collection of Series objects, where each Series represents a column. "
   ]
  },
  {
   "cell_type": "code",
   "execution_count": 43,
   "metadata": {},
   "outputs": [
    {
     "name": "stdout",
     "output_type": "stream",
     "text": [
      "      Flavors\n",
      "0   Chocolate\n",
      "1     Vanilla\n",
      "2  Strawberry\n",
      "3  Rum Raisin\n"
     ]
    }
   ],
   "source": [
    "# changing the series to a DataFrame\n",
    "df_ice_cream_flavors = pd.DataFrame(ice_cream_flavors)\n",
    "print(df_ice_cream_flavors)"
   ]
  },
  {
   "cell_type": "code",
   "execution_count": 22,
   "metadata": {
    "id": "IfCR5qCTYLqp"
   },
   "outputs": [
    {
     "name": "stdout",
     "output_type": "stream",
     "text": [
      "     A   B   C   D\n",
      "0   96  54  74  64\n",
      "1   62  14   1  76\n",
      "2   30  90  55  56\n",
      "3   85  86  49   8\n",
      "4   19  52  65   5\n",
      "..  ..  ..  ..  ..\n",
      "95  82  73  68  67\n",
      "96  27  51  70  52\n",
      "97  64  78  99  64\n",
      "98  95  81  49  65\n",
      "99   6  85  84  39\n",
      "\n",
      "[100 rows x 4 columns]\n"
     ]
    }
   ],
   "source": [
    "# create a pandas DataFrame of 100 rows and 4 columns with random values using numpy\n",
    "df = pd.DataFrame(np.random.randint(0,100,size=(100, 4)), columns=list('ABCD'))\n",
    "# we display the data frame\n",
    "print(df)"
   ]
  },
  {
   "cell_type": "code",
   "execution_count": 23,
   "metadata": {
    "colab": {
     "base_uri": "https://localhost:8080/",
     "height": 472
    },
    "executionInfo": {
     "elapsed": 489,
     "status": "ok",
     "timestamp": 1738936221317,
     "user": {
      "displayName": "Enrique Gonzalez",
      "userId": "11537615501324889345"
     },
     "user_tz": 360
    },
    "id": "Or1Yr6KhrXnk",
    "outputId": "9a89bfd7-da22-45d9-b7e5-ad7eae4d6cd9"
   },
   "outputs": [],
   "source": [
    "# we define a function that can generate a DataFrame with random values\n",
    "def generaDatos():\n",
    "\n",
    "    df = pd.DataFrame(np.random.randint(0,100,size=(100, 4)), columns=list('ABCD'))\n",
    "\n",
    "    return df"
   ]
  },
  {
   "cell_type": "code",
   "execution_count": 24,
   "metadata": {
    "colab": {
     "base_uri": "https://localhost:8080/"
    },
    "executionInfo": {
     "elapsed": 77,
     "status": "ok",
     "timestamp": 1738934357641,
     "user": {
      "displayName": "Enrique Gonzalez",
      "userId": "11537615501324889345"
     },
     "user_tz": 360
    },
    "id": "fG8kgADpYLwO",
    "outputId": "aa309a4f-8792-401b-bb93-afa4d6a275d7"
   },
   "outputs": [
    {
     "name": "stdout",
     "output_type": "stream",
     "text": [
      "     A   B   C   D\n",
      "0    6   0  14  57\n",
      "1    2  52  65   5\n",
      "2   86  24  59  98\n",
      "3   19  70  77   6\n",
      "4   11  32  62  61\n",
      "..  ..  ..  ..  ..\n",
      "95  22  70  26  83\n",
      "96   3  84  10  20\n",
      "97  75  91   8  83\n",
      "98  46   7  53  18\n",
      "99  17  41  53  40\n",
      "\n",
      "[100 rows x 4 columns]\n"
     ]
    }
   ],
   "source": [
    "df = generaDatos()\n",
    "print(df)"
   ]
  },
  {
   "cell_type": "code",
   "execution_count": 25,
   "metadata": {
    "colab": {
     "base_uri": "https://localhost:8080/",
     "height": 363
    },
    "executionInfo": {
     "elapsed": 25,
     "status": "ok",
     "timestamp": 1738934474626,
     "user": {
      "displayName": "Enrique Gonzalez",
      "userId": "11537615501324889345"
     },
     "user_tz": 360
    },
    "id": "h4OKQREEumt7",
    "outputId": "adcb7941-71c1-4857-b0c1-7dcedd73bac5"
   },
   "outputs": [
    {
     "data": {
      "text/html": [
       "<div>\n",
       "<style scoped>\n",
       "    .dataframe tbody tr th:only-of-type {\n",
       "        vertical-align: middle;\n",
       "    }\n",
       "\n",
       "    .dataframe tbody tr th {\n",
       "        vertical-align: top;\n",
       "    }\n",
       "\n",
       "    .dataframe thead th {\n",
       "        text-align: right;\n",
       "    }\n",
       "</style>\n",
       "<table border=\"1\" class=\"dataframe\">\n",
       "  <thead>\n",
       "    <tr style=\"text-align: right;\">\n",
       "      <th></th>\n",
       "      <th>A</th>\n",
       "      <th>B</th>\n",
       "      <th>C</th>\n",
       "      <th>D</th>\n",
       "    </tr>\n",
       "  </thead>\n",
       "  <tbody>\n",
       "    <tr>\n",
       "      <th>0</th>\n",
       "      <td>6</td>\n",
       "      <td>0</td>\n",
       "      <td>14</td>\n",
       "      <td>57</td>\n",
       "    </tr>\n",
       "    <tr>\n",
       "      <th>1</th>\n",
       "      <td>2</td>\n",
       "      <td>52</td>\n",
       "      <td>65</td>\n",
       "      <td>5</td>\n",
       "    </tr>\n",
       "    <tr>\n",
       "      <th>2</th>\n",
       "      <td>86</td>\n",
       "      <td>24</td>\n",
       "      <td>59</td>\n",
       "      <td>98</td>\n",
       "    </tr>\n",
       "    <tr>\n",
       "      <th>3</th>\n",
       "      <td>19</td>\n",
       "      <td>70</td>\n",
       "      <td>77</td>\n",
       "      <td>6</td>\n",
       "    </tr>\n",
       "    <tr>\n",
       "      <th>4</th>\n",
       "      <td>11</td>\n",
       "      <td>32</td>\n",
       "      <td>62</td>\n",
       "      <td>61</td>\n",
       "    </tr>\n",
       "  </tbody>\n",
       "</table>\n",
       "</div>"
      ],
      "text/plain": [
       "    A   B   C   D\n",
       "0   6   0  14  57\n",
       "1   2  52  65   5\n",
       "2  86  24  59  98\n",
       "3  19  70  77   6\n",
       "4  11  32  62  61"
      ]
     },
     "execution_count": 25,
     "metadata": {},
     "output_type": "execute_result"
    }
   ],
   "source": [
    "# we display the first rows of the DataFrame, n rows by default\n",
    "df.head()"
   ]
  },
  {
   "cell_type": "code",
   "execution_count": 26,
   "metadata": {},
   "outputs": [
    {
     "data": {
      "text/html": [
       "<div>\n",
       "<style scoped>\n",
       "    .dataframe tbody tr th:only-of-type {\n",
       "        vertical-align: middle;\n",
       "    }\n",
       "\n",
       "    .dataframe tbody tr th {\n",
       "        vertical-align: top;\n",
       "    }\n",
       "\n",
       "    .dataframe thead th {\n",
       "        text-align: right;\n",
       "    }\n",
       "</style>\n",
       "<table border=\"1\" class=\"dataframe\">\n",
       "  <thead>\n",
       "    <tr style=\"text-align: right;\">\n",
       "      <th></th>\n",
       "      <th>A</th>\n",
       "      <th>B</th>\n",
       "      <th>C</th>\n",
       "      <th>D</th>\n",
       "    </tr>\n",
       "  </thead>\n",
       "  <tbody>\n",
       "    <tr>\n",
       "      <th>90</th>\n",
       "      <td>60</td>\n",
       "      <td>60</td>\n",
       "      <td>16</td>\n",
       "      <td>94</td>\n",
       "    </tr>\n",
       "    <tr>\n",
       "      <th>91</th>\n",
       "      <td>79</td>\n",
       "      <td>77</td>\n",
       "      <td>33</td>\n",
       "      <td>39</td>\n",
       "    </tr>\n",
       "    <tr>\n",
       "      <th>92</th>\n",
       "      <td>78</td>\n",
       "      <td>98</td>\n",
       "      <td>4</td>\n",
       "      <td>34</td>\n",
       "    </tr>\n",
       "    <tr>\n",
       "      <th>93</th>\n",
       "      <td>23</td>\n",
       "      <td>6</td>\n",
       "      <td>59</td>\n",
       "      <td>95</td>\n",
       "    </tr>\n",
       "    <tr>\n",
       "      <th>94</th>\n",
       "      <td>23</td>\n",
       "      <td>82</td>\n",
       "      <td>65</td>\n",
       "      <td>71</td>\n",
       "    </tr>\n",
       "    <tr>\n",
       "      <th>95</th>\n",
       "      <td>22</td>\n",
       "      <td>70</td>\n",
       "      <td>26</td>\n",
       "      <td>83</td>\n",
       "    </tr>\n",
       "    <tr>\n",
       "      <th>96</th>\n",
       "      <td>3</td>\n",
       "      <td>84</td>\n",
       "      <td>10</td>\n",
       "      <td>20</td>\n",
       "    </tr>\n",
       "    <tr>\n",
       "      <th>97</th>\n",
       "      <td>75</td>\n",
       "      <td>91</td>\n",
       "      <td>8</td>\n",
       "      <td>83</td>\n",
       "    </tr>\n",
       "    <tr>\n",
       "      <th>98</th>\n",
       "      <td>46</td>\n",
       "      <td>7</td>\n",
       "      <td>53</td>\n",
       "      <td>18</td>\n",
       "    </tr>\n",
       "    <tr>\n",
       "      <th>99</th>\n",
       "      <td>17</td>\n",
       "      <td>41</td>\n",
       "      <td>53</td>\n",
       "      <td>40</td>\n",
       "    </tr>\n",
       "  </tbody>\n",
       "</table>\n",
       "</div>"
      ],
      "text/plain": [
       "     A   B   C   D\n",
       "90  60  60  16  94\n",
       "91  79  77  33  39\n",
       "92  78  98   4  34\n",
       "93  23   6  59  95\n",
       "94  23  82  65  71\n",
       "95  22  70  26  83\n",
       "96   3  84  10  20\n",
       "97  75  91   8  83\n",
       "98  46   7  53  18\n",
       "99  17  41  53  40"
      ]
     },
     "execution_count": 26,
     "metadata": {},
     "output_type": "execute_result"
    }
   ],
   "source": [
    "# we display the last 10 rows of the DataFrame\n",
    "df.tail(10)"
   ]
  },
  {
   "cell_type": "code",
   "execution_count": 27,
   "metadata": {},
   "outputs": [
    {
     "data": {
      "text/html": [
       "<div>\n",
       "<style scoped>\n",
       "    .dataframe tbody tr th:only-of-type {\n",
       "        vertical-align: middle;\n",
       "    }\n",
       "\n",
       "    .dataframe tbody tr th {\n",
       "        vertical-align: top;\n",
       "    }\n",
       "\n",
       "    .dataframe thead th {\n",
       "        text-align: right;\n",
       "    }\n",
       "</style>\n",
       "<table border=\"1\" class=\"dataframe\">\n",
       "  <thead>\n",
       "    <tr style=\"text-align: right;\">\n",
       "      <th></th>\n",
       "      <th>A</th>\n",
       "      <th>B</th>\n",
       "      <th>C</th>\n",
       "      <th>D</th>\n",
       "    </tr>\n",
       "  </thead>\n",
       "  <tbody>\n",
       "    <tr>\n",
       "      <th>13</th>\n",
       "      <td>61</td>\n",
       "      <td>80</td>\n",
       "      <td>52</td>\n",
       "      <td>60</td>\n",
       "    </tr>\n",
       "    <tr>\n",
       "      <th>81</th>\n",
       "      <td>93</td>\n",
       "      <td>74</td>\n",
       "      <td>48</td>\n",
       "      <td>68</td>\n",
       "    </tr>\n",
       "    <tr>\n",
       "      <th>78</th>\n",
       "      <td>17</td>\n",
       "      <td>18</td>\n",
       "      <td>89</td>\n",
       "      <td>71</td>\n",
       "    </tr>\n",
       "    <tr>\n",
       "      <th>14</th>\n",
       "      <td>36</td>\n",
       "      <td>97</td>\n",
       "      <td>2</td>\n",
       "      <td>21</td>\n",
       "    </tr>\n",
       "    <tr>\n",
       "      <th>92</th>\n",
       "      <td>78</td>\n",
       "      <td>98</td>\n",
       "      <td>4</td>\n",
       "      <td>34</td>\n",
       "    </tr>\n",
       "    <tr>\n",
       "      <th>84</th>\n",
       "      <td>41</td>\n",
       "      <td>84</td>\n",
       "      <td>30</td>\n",
       "      <td>42</td>\n",
       "    </tr>\n",
       "    <tr>\n",
       "      <th>40</th>\n",
       "      <td>29</td>\n",
       "      <td>87</td>\n",
       "      <td>39</td>\n",
       "      <td>52</td>\n",
       "    </tr>\n",
       "  </tbody>\n",
       "</table>\n",
       "</div>"
      ],
      "text/plain": [
       "     A   B   C   D\n",
       "13  61  80  52  60\n",
       "81  93  74  48  68\n",
       "78  17  18  89  71\n",
       "14  36  97   2  21\n",
       "92  78  98   4  34\n",
       "84  41  84  30  42\n",
       "40  29  87  39  52"
      ]
     },
     "execution_count": 27,
     "metadata": {},
     "output_type": "execute_result"
    }
   ],
   "source": [
    " # we display 7 random rows of the DataFrame\n",
    "df.sample(7) "
   ]
  },
  {
   "cell_type": "code",
   "execution_count": 28,
   "metadata": {},
   "outputs": [
    {
     "data": {
      "text/plain": [
       "400"
      ]
     },
     "execution_count": 28,
     "metadata": {},
     "output_type": "execute_result"
    }
   ],
   "source": [
    "# we display the size of the DataFrame\n",
    "# the size is the number of elements in the DataFrame\n",
    "df.size"
   ]
  },
  {
   "cell_type": "code",
   "execution_count": 29,
   "metadata": {},
   "outputs": [
    {
     "data": {
      "text/plain": [
       "2"
      ]
     },
     "execution_count": 29,
     "metadata": {},
     "output_type": "execute_result"
    }
   ],
   "source": [
    "# we display the number of dimensions of the DataFrame\n",
    "df.ndim"
   ]
  },
  {
   "cell_type": "code",
   "execution_count": 30,
   "metadata": {},
   "outputs": [
    {
     "data": {
      "text/plain": [
       "(100, 4)"
      ]
     },
     "execution_count": 30,
     "metadata": {},
     "output_type": "execute_result"
    }
   ],
   "source": [
    "# we display the shape of the DataFrame\n",
    "# the shape is the number of rows and colums: the tuple representing the dimensions of the DataFrame\n",
    "df.shape"
   ]
  },
  {
   "cell_type": "code",
   "execution_count": 42,
   "metadata": {},
   "outputs": [
    {
     "data": {
      "text/plain": [
       "Index(['A', 'B', 'C', 'D'], dtype='object')"
      ]
     },
     "execution_count": 42,
     "metadata": {},
     "output_type": "execute_result"
    }
   ],
   "source": [
    "# we display the names of the columns in the DataFrame\n",
    "df.columns"
   ]
  },
  {
   "cell_type": "code",
   "execution_count": 31,
   "metadata": {},
   "outputs": [
    {
     "data": {
      "text/plain": [
       "A    100\n",
       "B    100\n",
       "C    100\n",
       "D    100\n",
       "dtype: int64"
      ]
     },
     "execution_count": 31,
     "metadata": {},
     "output_type": "execute_result"
    }
   ],
   "source": [
    "# we display the number of non-null values in the DataFrame\n",
    "df.count()"
   ]
  },
  {
   "cell_type": "code",
   "execution_count": 32,
   "metadata": {},
   "outputs": [
    {
     "data": {
      "text/plain": [
       "A    int64\n",
       "B    int64\n",
       "C    int64\n",
       "D    int64\n",
       "dtype: object"
      ]
     },
     "execution_count": 32,
     "metadata": {},
     "output_type": "execute_result"
    }
   ],
   "source": [
    "# we display the data types of the columns\n",
    "df.dtypes"
   ]
  },
  {
   "cell_type": "code",
   "execution_count": 33,
   "metadata": {},
   "outputs": [
    {
     "name": "stdout",
     "output_type": "stream",
     "text": [
      "<class 'pandas.core.frame.DataFrame'>\n",
      "RangeIndex: 100 entries, 0 to 99\n",
      "Data columns (total 4 columns):\n",
      " #   Column  Non-Null Count  Dtype\n",
      "---  ------  --------------  -----\n",
      " 0   A       100 non-null    int64\n",
      " 1   B       100 non-null    int64\n",
      " 2   C       100 non-null    int64\n",
      " 3   D       100 non-null    int64\n",
      "dtypes: int64(4)\n",
      "memory usage: 3.2 KB\n"
     ]
    }
   ],
   "source": [
    "# we display the name, dtype and non-null values of each column in the DataFrame\n",
    "df.info()"
   ]
  },
  {
   "cell_type": "markdown",
   "metadata": {},
   "source": [
    "### 2. Columns manipulation"
   ]
  },
  {
   "cell_type": "markdown",
   "metadata": {},
   "source": [
    "\n",
    "Columns are fundamental to DataFrames, representing distinct variables or features.\n",
    "\n",
    "* Column creation and manipulation:\n",
    "    * Columns can be added, deleted, renamed, and their data types can be changed.\n",
    "* Column selection:\n",
    "    * Individual columns can be selected as Series, or multiple columns can be selected to form a new DataFrame.\n",
    "* Column-wise operations:\n",
    "    * Operations can be applied across entire columns, such as calculating the mean of a specific column."
   ]
  },
  {
   "cell_type": "code",
   "execution_count": 2,
   "metadata": {
    "id": "4AU4aFoiu6FX"
   },
   "outputs": [],
   "source": [
    "# we create a list of lists\n",
    "datos = [[1,2,3,4],[5,6,7,8],[9,10,11,12],[13,14,15,16]]    "
   ]
  },
  {
   "cell_type": "code",
   "execution_count": 7,
   "metadata": {
    "colab": {
     "base_uri": "https://localhost:8080/",
     "height": 143
    },
    "executionInfo": {
     "elapsed": 62,
     "status": "ok",
     "timestamp": 1738934667466,
     "user": {
      "displayName": "Enrique Gonzalez",
      "userId": "11537615501324889345"
     },
     "user_tz": 360
    },
    "id": "zie0RCs4vc6O",
    "outputId": "49a0962b-3037-4079-f369-b7947b9e6a71"
   },
   "outputs": [
    {
     "data": {
      "text/html": [
       "<div>\n",
       "<style scoped>\n",
       "    .dataframe tbody tr th:only-of-type {\n",
       "        vertical-align: middle;\n",
       "    }\n",
       "\n",
       "    .dataframe tbody tr th {\n",
       "        vertical-align: top;\n",
       "    }\n",
       "\n",
       "    .dataframe thead th {\n",
       "        text-align: right;\n",
       "    }\n",
       "</style>\n",
       "<table border=\"1\" class=\"dataframe\">\n",
       "  <thead>\n",
       "    <tr style=\"text-align: right;\">\n",
       "      <th></th>\n",
       "      <th>A</th>\n",
       "      <th>B</th>\n",
       "      <th>C</th>\n",
       "      <th>D</th>\n",
       "    </tr>\n",
       "  </thead>\n",
       "  <tbody>\n",
       "    <tr>\n",
       "      <th>0</th>\n",
       "      <td>1</td>\n",
       "      <td>2</td>\n",
       "      <td>3</td>\n",
       "      <td>4</td>\n",
       "    </tr>\n",
       "    <tr>\n",
       "      <th>1</th>\n",
       "      <td>5</td>\n",
       "      <td>6</td>\n",
       "      <td>7</td>\n",
       "      <td>8</td>\n",
       "    </tr>\n",
       "    <tr>\n",
       "      <th>2</th>\n",
       "      <td>9</td>\n",
       "      <td>10</td>\n",
       "      <td>11</td>\n",
       "      <td>12</td>\n",
       "    </tr>\n",
       "    <tr>\n",
       "      <th>3</th>\n",
       "      <td>13</td>\n",
       "      <td>14</td>\n",
       "      <td>15</td>\n",
       "      <td>16</td>\n",
       "    </tr>\n",
       "  </tbody>\n",
       "</table>\n",
       "</div>"
      ],
      "text/plain": [
       "    A   B   C   D\n",
       "0   1   2   3   4\n",
       "1   5   6   7   8\n",
       "2   9  10  11  12\n",
       "3  13  14  15  16"
      ]
     },
     "execution_count": 7,
     "metadata": {},
     "output_type": "execute_result"
    }
   ],
   "source": [
    "# we create a DataFrame from the list of lists\n",
    "df2 = pd.DataFrame(datos, columns=list('ABCD'))#['col1', 'col2', 'col3'])\n",
    "df2"
   ]
  },
  {
   "cell_type": "code",
   "execution_count": 8,
   "metadata": {},
   "outputs": [
    {
     "name": "stdout",
     "output_type": "stream",
     "text": [
      "    A   B   C   D  E\n",
      "0   1   2   3   4  6\n",
      "1   5   6   7   8  7\n",
      "2   9  10  11  12  2\n",
      "3  13  14  15  16  5\n"
     ]
    }
   ],
   "source": [
    "# we add a new column \"E\"\n",
    "df2[\"E\"]=[6,7,2,5]\n",
    "print(df2)"
   ]
  },
  {
   "cell_type": "code",
   "execution_count": 9,
   "metadata": {},
   "outputs": [
    {
     "name": "stdout",
     "output_type": "stream",
     "text": [
      "    A   C   D  E\n",
      "0   1   3   4  6\n",
      "1   5   7   8  7\n",
      "2   9  11  12  2\n",
      "3  13  15  16  5\n"
     ]
    }
   ],
   "source": [
    "# we remove the column \"B\" from the DataFrame\n",
    "df2.pop(\"B\") \n",
    "print(df2)"
   ]
  },
  {
   "cell_type": "code",
   "execution_count": 10,
   "metadata": {},
   "outputs": [
    {
     "name": "stdout",
     "output_type": "stream",
     "text": [
      "    A   F   D  E\n",
      "0   1   3   4  6\n",
      "1   5   7   8  7\n",
      "2   9  11  12  2\n",
      "3  13  15  16  5\n",
      "\n",
      "   New_A   F   D  E\n",
      "0      1   3   4  6\n",
      "1      5   7   8  7\n",
      "2      9  11  12  2\n",
      "3     13  15  16  5\n",
      "\n",
      "   col1  col2  col3  col4\n",
      "0     1     3     4     6\n",
      "1     5     7     8     7\n",
      "2     9    11    12     2\n",
      "3    13    15    16     5\n"
     ]
    }
   ],
   "source": [
    "# we rename the column \"C\" to \"F\"\n",
    "df2 = df2.rename(columns={\"C\": \"F\"})\n",
    "print(df2)\n",
    "print()\n",
    "# we rename the first column to \"New_A\"\n",
    "df2.columns.values[0] = \"New_A\"\n",
    "print(df2)\n",
    "print()\n",
    "df2.columns = ['col1', 'col2', 'col3','col4']\n",
    "print(df2) "
   ]
  },
  {
   "cell_type": "code",
   "execution_count": 12,
   "metadata": {},
   "outputs": [
    {
     "data": {
      "text/plain": [
       "dtype('int64')"
      ]
     },
     "execution_count": 12,
     "metadata": {},
     "output_type": "execute_result"
    }
   ],
   "source": [
    "# we display the data type of the first column\n",
    "df2['col1'].dtype"
   ]
  },
  {
   "cell_type": "code",
   "execution_count": 18,
   "metadata": {},
   "outputs": [
    {
     "name": "stdout",
     "output_type": "stream",
     "text": [
      "   col1  col2 col3  col4\n",
      "0   1.0     3    4     6\n",
      "1   5.0     7    8     7\n",
      "2   9.0    11   12     2\n",
      "3  13.0    15   16     5\n",
      "\n"
     ]
    },
    {
     "data": {
      "text/plain": [
       "col1    float64\n",
       "col2      int64\n",
       "col3     object\n",
       "col4      int64\n",
       "dtype: object"
      ]
     },
     "execution_count": 18,
     "metadata": {},
     "output_type": "execute_result"
    }
   ],
   "source": [
    "# we convert the first column to float\n",
    "df2['col1'] = df2['col1'].astype(float)\n",
    "# w convert the third column to string\n",
    "df2['col3'] = df2['col3'].astype(str)\n",
    "print(df2)\n",
    "print()\n",
    "df2.dtypes"
   ]
  },
  {
   "cell_type": "markdown",
   "metadata": {},
   "source": [
    "### 3. Index, selection and filtering"
   ]
  },
  {
   "cell_type": "markdown",
   "metadata": {},
   "source": [
    "Index:\n",
    "* Both Series and DataFrames have an index.\n",
    "* It provides labels for rows in DataFrames. \n",
    "* The index can be numeric, string-based, or datetime-based."
   ]
  },
  {
   "cell_type": "markdown",
   "metadata": {},
   "source": [
    "Selection:\n",
    "* Data can be selected using various methods:\n",
    "    * Label-based indexing (.loc): Selects data by label for both rows and columns.\n",
    "    * Integer-location based indexing (.iloc): Selects data by integer position for both rows and columns.\n",
    "    * Direct column selection: Accessing a single column by its name using square brackets (e.g., df['column_name'])."
   ]
  },
  {
   "cell_type": "markdown",
   "metadata": {},
   "source": [
    "Filtering:\n",
    "* Data can be filtered based on conditions applied to columns or rows, returning a subset of the data that meets the criteria."
   ]
  },
  {
   "cell_type": "markdown",
   "metadata": {},
   "source": [
    "#### 3.1 Index"
   ]
  },
  {
   "cell_type": "code",
   "execution_count": 44,
   "metadata": {},
   "outputs": [
    {
     "name": "stdout",
     "output_type": "stream",
     "text": [
      "      Flavors\n",
      "0   Chocolate\n",
      "1     Vanilla\n",
      "2  Strawberry\n",
      "3  Rum Raisin\n"
     ]
    }
   ],
   "source": [
    "print(df_ice_cream_flavors)"
   ]
  },
  {
   "cell_type": "code",
   "execution_count": 45,
   "metadata": {},
   "outputs": [
    {
     "name": "stdout",
     "output_type": "stream",
     "text": [
      "      Flavors  Qty liters\n",
      "0   Chocolate         100\n",
      "1     Vanilla         200\n",
      "2  Strawberry         150\n",
      "3  Rum Raisin          80\n"
     ]
    }
   ],
   "source": [
    "# we add a new column with the quantity of liters in existance\n",
    "df_ice_cream_flavors['Qty liters'] = [100, 200, 150, 80]\n",
    "print(df_ice_cream_flavors)"
   ]
  },
  {
   "cell_type": "code",
   "execution_count": 46,
   "metadata": {},
   "outputs": [
    {
     "name": "stdout",
     "output_type": "stream",
     "text": [
      "[0 1 2 3]\n"
     ]
    }
   ],
   "source": [
    "# we display the index of the dataframe\n",
    "print(df_ice_cream_flavors.index.values)"
   ]
  },
  {
   "cell_type": "code",
   "execution_count": 47,
   "metadata": {},
   "outputs": [
    {
     "name": "stdout",
     "output_type": "stream",
     "text": [
      "            Qty liters\n",
      "Flavors               \n",
      "Chocolate          100\n",
      "Vanilla            200\n",
      "Strawberry         150\n",
      "Rum Raisin          80\n",
      "\n",
      "['Chocolate' 'Vanilla' 'Strawberry' 'Rum Raisin']\n"
     ]
    }
   ],
   "source": [
    "# we set the column of flavors as the index\n",
    "df_ice_cream_flavors = df_ice_cream_flavors.set_index('Flavors')\n",
    "print(df_ice_cream_flavors)\n",
    "print()\n",
    "print(df_ice_cream_flavors.index.values)"
   ]
  },
  {
   "cell_type": "code",
   "execution_count": 49,
   "metadata": {},
   "outputs": [
    {
     "name": "stdout",
     "output_type": "stream",
     "text": [
      "     A   B   C   D\n",
      "0    6   0  14  57\n",
      "1    2  52  65   5\n",
      "2   86  24  59  98\n",
      "3   19  70  77   6\n",
      "4   11  32  62  61\n",
      "..  ..  ..  ..  ..\n",
      "95  22  70  26  83\n",
      "96   3  84  10  20\n",
      "97  75  91   8  83\n",
      "98  46   7  53  18\n",
      "99  17  41  53  40\n",
      "\n",
      "[100 rows x 4 columns]\n"
     ]
    }
   ],
   "source": [
    "print(df)"
   ]
  }
 ],
 "metadata": {
  "colab": {
   "authorship_tag": "ABX9TyNcYsjY+HmG/dCKY9/yiyql",
   "provenance": []
  },
  "kernelspec": {
   "display_name": "base",
   "language": "python",
   "name": "python3"
  },
  "language_info": {
   "codemirror_mode": {
    "name": "ipython",
    "version": 3
   },
   "file_extension": ".py",
   "mimetype": "text/x-python",
   "name": "python",
   "nbconvert_exporter": "python",
   "pygments_lexer": "ipython3",
   "version": "3.10.11"
  }
 },
 "nbformat": 4,
 "nbformat_minor": 0
}
