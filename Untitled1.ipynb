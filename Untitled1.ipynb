{
 "cells": [
  {
   "cell_type": "markdown",
   "id": "4d043ed2",
   "metadata": {},
   "source": [
    "# Ejercicio 1\n",
    "Completa la siguiente función para que dado un número de documento nacional de identidad (DNI), se devuelva una letra."
   ]
  },
  {
   "cell_type": "code",
   "execution_count": null,
   "id": "415d6b29",
   "metadata": {},
   "outputs": [],
   "source": [
    "def ejerdi"
   ]
  }
 ],
 "metadata": {
  "kernelspec": {
   "display_name": "Python 3 (ipykernel)",
   "language": "python",
   "name": "python3"
  },
  "language_info": {
   "codemirror_mode": {
    "name": "ipython",
    "version": 3
   },
   "file_extension": ".py",
   "mimetype": "text/x-python",
   "name": "python",
   "nbconvert_exporter": "python",
   "pygments_lexer": "ipython3",
   "version": "3.10.11"
  }
 },
 "nbformat": 4,
 "nbformat_minor": 5
}
