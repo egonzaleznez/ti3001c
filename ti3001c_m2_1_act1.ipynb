{
 "cells": [
  {
   "cell_type": "markdown",
   "metadata": {
    "id": "jPYBD5etWY_D"
   },
   "source": [
    "# TI3001C: Data Analytics and Artificial Intelligence Tools I\n",
    "## M2. Data Engineering"
   ]
  },
  {
   "cell_type": "markdown",
   "metadata": {
    "id": "h_n3EiHDYvXU"
   },
   "source": [
    "### Content\n",
    "\n",
    "1. Series and DataFrames\n",
    "1. Columns manipulation\n",
    "1. Index, selection and filtering\n",
    "1. Operations\n",
    "1. Date and time\n",
    "1. Graph using DataFrame"
   ]
  },
  {
   "cell_type": "code",
   "execution_count": 68,
   "metadata": {
    "id": "SLZfKPQ2TJBD"
   },
   "outputs": [],
   "source": [
    "# importamos librerías\n",
    "import warnings\n",
    "warnings.filterwarnings(\"ignore\")\n",
    "import numpy as np # to use numpy arrays instead of lists\n",
    "import pandas as pd # librería para poder usad DataFrames (tablas)"
   ]
  },
  {
   "cell_type": "code",
   "execution_count": 76,
   "metadata": {},
   "outputs": [],
   "source": [
    "import plotly.express as px\n",
    "import matplotlib.pyplot as plt # to plot\n",
    "import seaborn as sns # to plot"
   ]
  },
  {
   "cell_type": "markdown",
   "metadata": {
    "id": "9zYqy23KdOgD"
   },
   "source": [
    "### 1. Pandas"
   ]
  },
  {
   "cell_type": "markdown",
   "metadata": {},
   "source": [
    "* Pandas is a Python library for data manipulation and analysis.\n",
    "* Is primarily centered around two data structures: Series and DataFrames.\n",
    "    * Series and DataFrames are fundamental data structures in various programming languages and libraries commonly used in data analysis and statistics.\n",
    "    * They provide a flexible and intuitive way to store, organize, and work with tabular data.\n",
    "    * They are ideal for tasks like data cleaning, analysis, and visualization."
   ]
  },
  {
   "cell_type": "markdown",
   "metadata": {},
   "source": [
    "#### 1.1 Series"
   ]
  },
  {
   "cell_type": "markdown",
   "metadata": {},
   "source": [
    "* A one-dimensional labeled array capable of holding any data type (integers, strings, boolean values, etc.). \n",
    "* It can be thought of as a single column of data."
   ]
  },
  {
   "cell_type": "code",
   "execution_count": 69,
   "metadata": {},
   "outputs": [
    {
     "name": "stdout",
     "output_type": "stream",
     "text": [
      "0     Chocolate\n",
      "1       Vanilla\n",
      "2    Strawberry\n",
      "3    Rum Raisin\n",
      "Name: Flavors, dtype: object\n"
     ]
    }
   ],
   "source": [
    "# we create a list of ice cream flavors\n",
    "flavors = [\"Chocolate\", \"Vanilla\", \"Strawberry\", \"Rum Raisin\"]\n",
    "# we create a Series with the list of ice cream flavors\n",
    "ice_cream_flavors = pd.Series(flavors, name=\"Flavors\") \n",
    "print(ice_cream_flavors)"
   ]
  },
  {
   "cell_type": "code",
   "execution_count": 70,
   "metadata": {},
   "outputs": [
    {
     "name": "stdout",
     "output_type": "stream",
     "text": [
      "0    44\n",
      "1     0\n",
      "2    17\n",
      "3    27\n",
      "4    56\n",
      "5    27\n",
      "6    70\n",
      "7    13\n",
      "8    41\n",
      "9    38\n",
      "Name: Random Numbers, dtype: int64\n"
     ]
    }
   ],
   "source": [
    "# we create a Series with 10 random numbers\n",
    "random_numbers = pd.Series(np.random.randint(0, 100, size=10), name=\"Random Numbers\")\n",
    "print(random_numbers)"
   ]
  },
  {
   "cell_type": "markdown",
   "metadata": {},
   "source": [
    "#### 1.2 DataFrame"
   ]
  },
  {
   "cell_type": "markdown",
   "metadata": {},
   "source": [
    "* A two-dimensional labeled data structure with columns of potentially different types:\n",
    "    * Unlike matrices, which require all elements to be of the same data type.\n",
    "* It can be conceptualized as a table or spreadsheet, organizing data in rows and columns. \n",
    "* A DataFrame can be considered a collection of Series objects, where each Series represents a column. "
   ]
  },
  {
   "cell_type": "code",
   "execution_count": 43,
   "metadata": {},
   "outputs": [
    {
     "name": "stdout",
     "output_type": "stream",
     "text": [
      "      Flavors\n",
      "0   Chocolate\n",
      "1     Vanilla\n",
      "2  Strawberry\n",
      "3  Rum Raisin\n"
     ]
    }
   ],
   "source": [
    "# changing the series to a DataFrame\n",
    "df_ice_cream_flavors = pd.DataFrame(ice_cream_flavors)\n",
    "print(df_ice_cream_flavors)"
   ]
  },
  {
   "cell_type": "code",
   "execution_count": 71,
   "metadata": {
    "id": "IfCR5qCTYLqp"
   },
   "outputs": [
    {
     "name": "stdout",
     "output_type": "stream",
     "text": [
      "     A   B   C   D\n",
      "0   51  16  39  97\n",
      "1   64  49  30  17\n",
      "2   70  89  34  46\n",
      "3   25  49   7  59\n",
      "4   74  95   8  18\n",
      "..  ..  ..  ..  ..\n",
      "95   8  10  49  20\n",
      "96  52  60  86  39\n",
      "97  38  69  20  89\n",
      "98  66  59  26  44\n",
      "99  36  26  65  59\n",
      "\n",
      "[100 rows x 4 columns]\n"
     ]
    }
   ],
   "source": [
    "# create a pandas DataFrame of 100 rows and 4 columns with random values using numpy\n",
    "df = pd.DataFrame(np.random.randint(0,100,size=(100, 4)), columns=list('ABCD'))\n",
    "# we display the data frame\n",
    "print(df)"
   ]
  },
  {
   "cell_type": "code",
   "execution_count": 3,
   "metadata": {
    "colab": {
     "base_uri": "https://localhost:8080/",
     "height": 472
    },
    "executionInfo": {
     "elapsed": 489,
     "status": "ok",
     "timestamp": 1738936221317,
     "user": {
      "displayName": "Enrique Gonzalez",
      "userId": "11537615501324889345"
     },
     "user_tz": 360
    },
    "id": "Or1Yr6KhrXnk",
    "outputId": "9a89bfd7-da22-45d9-b7e5-ad7eae4d6cd9"
   },
   "outputs": [],
   "source": [
    "# we define a function that can generate a DataFrame with random values\n",
    "def generaDatos():\n",
    "\n",
    "    df = pd.DataFrame(np.random.randint(0,100,size=(100, 4)), columns=list('ABCD'))\n",
    "\n",
    "    return df"
   ]
  },
  {
   "cell_type": "code",
   "execution_count": 4,
   "metadata": {
    "colab": {
     "base_uri": "https://localhost:8080/"
    },
    "executionInfo": {
     "elapsed": 77,
     "status": "ok",
     "timestamp": 1738934357641,
     "user": {
      "displayName": "Enrique Gonzalez",
      "userId": "11537615501324889345"
     },
     "user_tz": 360
    },
    "id": "fG8kgADpYLwO",
    "outputId": "aa309a4f-8792-401b-bb93-afa4d6a275d7"
   },
   "outputs": [
    {
     "name": "stdout",
     "output_type": "stream",
     "text": [
      "     A   B   C   D\n",
      "0    6  25   8  48\n",
      "1   93  10  50  13\n",
      "2   15  75  62  88\n",
      "3   68  46  98  49\n",
      "4   29  14  41  76\n",
      "..  ..  ..  ..  ..\n",
      "95   5  67  98  28\n",
      "96  82  20   8  56\n",
      "97  50  82   7  15\n",
      "98  97  93  15  23\n",
      "99  76  20  30  72\n",
      "\n",
      "[100 rows x 4 columns]\n"
     ]
    }
   ],
   "source": [
    "df = generaDatos()\n",
    "print(df)"
   ]
  },
  {
   "cell_type": "code",
   "execution_count": 5,
   "metadata": {
    "colab": {
     "base_uri": "https://localhost:8080/",
     "height": 363
    },
    "executionInfo": {
     "elapsed": 25,
     "status": "ok",
     "timestamp": 1738934474626,
     "user": {
      "displayName": "Enrique Gonzalez",
      "userId": "11537615501324889345"
     },
     "user_tz": 360
    },
    "id": "h4OKQREEumt7",
    "outputId": "adcb7941-71c1-4857-b0c1-7dcedd73bac5"
   },
   "outputs": [
    {
     "data": {
      "text/html": [
       "<div>\n",
       "<style scoped>\n",
       "    .dataframe tbody tr th:only-of-type {\n",
       "        vertical-align: middle;\n",
       "    }\n",
       "\n",
       "    .dataframe tbody tr th {\n",
       "        vertical-align: top;\n",
       "    }\n",
       "\n",
       "    .dataframe thead th {\n",
       "        text-align: right;\n",
       "    }\n",
       "</style>\n",
       "<table border=\"1\" class=\"dataframe\">\n",
       "  <thead>\n",
       "    <tr style=\"text-align: right;\">\n",
       "      <th></th>\n",
       "      <th>A</th>\n",
       "      <th>B</th>\n",
       "      <th>C</th>\n",
       "      <th>D</th>\n",
       "    </tr>\n",
       "  </thead>\n",
       "  <tbody>\n",
       "    <tr>\n",
       "      <th>0</th>\n",
       "      <td>6</td>\n",
       "      <td>25</td>\n",
       "      <td>8</td>\n",
       "      <td>48</td>\n",
       "    </tr>\n",
       "    <tr>\n",
       "      <th>1</th>\n",
       "      <td>93</td>\n",
       "      <td>10</td>\n",
       "      <td>50</td>\n",
       "      <td>13</td>\n",
       "    </tr>\n",
       "    <tr>\n",
       "      <th>2</th>\n",
       "      <td>15</td>\n",
       "      <td>75</td>\n",
       "      <td>62</td>\n",
       "      <td>88</td>\n",
       "    </tr>\n",
       "    <tr>\n",
       "      <th>3</th>\n",
       "      <td>68</td>\n",
       "      <td>46</td>\n",
       "      <td>98</td>\n",
       "      <td>49</td>\n",
       "    </tr>\n",
       "    <tr>\n",
       "      <th>4</th>\n",
       "      <td>29</td>\n",
       "      <td>14</td>\n",
       "      <td>41</td>\n",
       "      <td>76</td>\n",
       "    </tr>\n",
       "  </tbody>\n",
       "</table>\n",
       "</div>"
      ],
      "text/plain": [
       "    A   B   C   D\n",
       "0   6  25   8  48\n",
       "1  93  10  50  13\n",
       "2  15  75  62  88\n",
       "3  68  46  98  49\n",
       "4  29  14  41  76"
      ]
     },
     "execution_count": 5,
     "metadata": {},
     "output_type": "execute_result"
    }
   ],
   "source": [
    "# we display the first rows of the DataFrame, n rows by default\n",
    "df.head()"
   ]
  },
  {
   "cell_type": "code",
   "execution_count": 6,
   "metadata": {},
   "outputs": [
    {
     "data": {
      "text/html": [
       "<div>\n",
       "<style scoped>\n",
       "    .dataframe tbody tr th:only-of-type {\n",
       "        vertical-align: middle;\n",
       "    }\n",
       "\n",
       "    .dataframe tbody tr th {\n",
       "        vertical-align: top;\n",
       "    }\n",
       "\n",
       "    .dataframe thead th {\n",
       "        text-align: right;\n",
       "    }\n",
       "</style>\n",
       "<table border=\"1\" class=\"dataframe\">\n",
       "  <thead>\n",
       "    <tr style=\"text-align: right;\">\n",
       "      <th></th>\n",
       "      <th>A</th>\n",
       "      <th>B</th>\n",
       "      <th>C</th>\n",
       "      <th>D</th>\n",
       "    </tr>\n",
       "  </thead>\n",
       "  <tbody>\n",
       "    <tr>\n",
       "      <th>90</th>\n",
       "      <td>66</td>\n",
       "      <td>90</td>\n",
       "      <td>23</td>\n",
       "      <td>16</td>\n",
       "    </tr>\n",
       "    <tr>\n",
       "      <th>91</th>\n",
       "      <td>99</td>\n",
       "      <td>92</td>\n",
       "      <td>26</td>\n",
       "      <td>68</td>\n",
       "    </tr>\n",
       "    <tr>\n",
       "      <th>92</th>\n",
       "      <td>40</td>\n",
       "      <td>5</td>\n",
       "      <td>29</td>\n",
       "      <td>2</td>\n",
       "    </tr>\n",
       "    <tr>\n",
       "      <th>93</th>\n",
       "      <td>32</td>\n",
       "      <td>41</td>\n",
       "      <td>67</td>\n",
       "      <td>1</td>\n",
       "    </tr>\n",
       "    <tr>\n",
       "      <th>94</th>\n",
       "      <td>24</td>\n",
       "      <td>39</td>\n",
       "      <td>19</td>\n",
       "      <td>93</td>\n",
       "    </tr>\n",
       "    <tr>\n",
       "      <th>95</th>\n",
       "      <td>5</td>\n",
       "      <td>67</td>\n",
       "      <td>98</td>\n",
       "      <td>28</td>\n",
       "    </tr>\n",
       "    <tr>\n",
       "      <th>96</th>\n",
       "      <td>82</td>\n",
       "      <td>20</td>\n",
       "      <td>8</td>\n",
       "      <td>56</td>\n",
       "    </tr>\n",
       "    <tr>\n",
       "      <th>97</th>\n",
       "      <td>50</td>\n",
       "      <td>82</td>\n",
       "      <td>7</td>\n",
       "      <td>15</td>\n",
       "    </tr>\n",
       "    <tr>\n",
       "      <th>98</th>\n",
       "      <td>97</td>\n",
       "      <td>93</td>\n",
       "      <td>15</td>\n",
       "      <td>23</td>\n",
       "    </tr>\n",
       "    <tr>\n",
       "      <th>99</th>\n",
       "      <td>76</td>\n",
       "      <td>20</td>\n",
       "      <td>30</td>\n",
       "      <td>72</td>\n",
       "    </tr>\n",
       "  </tbody>\n",
       "</table>\n",
       "</div>"
      ],
      "text/plain": [
       "     A   B   C   D\n",
       "90  66  90  23  16\n",
       "91  99  92  26  68\n",
       "92  40   5  29   2\n",
       "93  32  41  67   1\n",
       "94  24  39  19  93\n",
       "95   5  67  98  28\n",
       "96  82  20   8  56\n",
       "97  50  82   7  15\n",
       "98  97  93  15  23\n",
       "99  76  20  30  72"
      ]
     },
     "execution_count": 6,
     "metadata": {},
     "output_type": "execute_result"
    }
   ],
   "source": [
    "# we display the last 10 rows of the DataFrame\n",
    "df.tail(10)"
   ]
  },
  {
   "cell_type": "code",
   "execution_count": 7,
   "metadata": {},
   "outputs": [
    {
     "data": {
      "text/html": [
       "<div>\n",
       "<style scoped>\n",
       "    .dataframe tbody tr th:only-of-type {\n",
       "        vertical-align: middle;\n",
       "    }\n",
       "\n",
       "    .dataframe tbody tr th {\n",
       "        vertical-align: top;\n",
       "    }\n",
       "\n",
       "    .dataframe thead th {\n",
       "        text-align: right;\n",
       "    }\n",
       "</style>\n",
       "<table border=\"1\" class=\"dataframe\">\n",
       "  <thead>\n",
       "    <tr style=\"text-align: right;\">\n",
       "      <th></th>\n",
       "      <th>A</th>\n",
       "      <th>B</th>\n",
       "      <th>C</th>\n",
       "      <th>D</th>\n",
       "    </tr>\n",
       "  </thead>\n",
       "  <tbody>\n",
       "    <tr>\n",
       "      <th>21</th>\n",
       "      <td>21</td>\n",
       "      <td>35</td>\n",
       "      <td>2</td>\n",
       "      <td>95</td>\n",
       "    </tr>\n",
       "    <tr>\n",
       "      <th>4</th>\n",
       "      <td>29</td>\n",
       "      <td>14</td>\n",
       "      <td>41</td>\n",
       "      <td>76</td>\n",
       "    </tr>\n",
       "    <tr>\n",
       "      <th>68</th>\n",
       "      <td>63</td>\n",
       "      <td>90</td>\n",
       "      <td>5</td>\n",
       "      <td>31</td>\n",
       "    </tr>\n",
       "    <tr>\n",
       "      <th>78</th>\n",
       "      <td>76</td>\n",
       "      <td>54</td>\n",
       "      <td>68</td>\n",
       "      <td>82</td>\n",
       "    </tr>\n",
       "    <tr>\n",
       "      <th>50</th>\n",
       "      <td>8</td>\n",
       "      <td>48</td>\n",
       "      <td>16</td>\n",
       "      <td>65</td>\n",
       "    </tr>\n",
       "    <tr>\n",
       "      <th>61</th>\n",
       "      <td>95</td>\n",
       "      <td>54</td>\n",
       "      <td>43</td>\n",
       "      <td>14</td>\n",
       "    </tr>\n",
       "    <tr>\n",
       "      <th>67</th>\n",
       "      <td>48</td>\n",
       "      <td>44</td>\n",
       "      <td>76</td>\n",
       "      <td>81</td>\n",
       "    </tr>\n",
       "  </tbody>\n",
       "</table>\n",
       "</div>"
      ],
      "text/plain": [
       "     A   B   C   D\n",
       "21  21  35   2  95\n",
       "4   29  14  41  76\n",
       "68  63  90   5  31\n",
       "78  76  54  68  82\n",
       "50   8  48  16  65\n",
       "61  95  54  43  14\n",
       "67  48  44  76  81"
      ]
     },
     "execution_count": 7,
     "metadata": {},
     "output_type": "execute_result"
    }
   ],
   "source": [
    " # we display 7 random rows of the DataFrame\n",
    "df.sample(7) "
   ]
  },
  {
   "cell_type": "code",
   "execution_count": 8,
   "metadata": {},
   "outputs": [
    {
     "data": {
      "text/plain": [
       "400"
      ]
     },
     "execution_count": 8,
     "metadata": {},
     "output_type": "execute_result"
    }
   ],
   "source": [
    "# we display the size of the DataFrame\n",
    "# the size is the number of elements in the DataFrame\n",
    "df.size"
   ]
  },
  {
   "cell_type": "code",
   "execution_count": 9,
   "metadata": {},
   "outputs": [
    {
     "data": {
      "text/plain": [
       "2"
      ]
     },
     "execution_count": 9,
     "metadata": {},
     "output_type": "execute_result"
    }
   ],
   "source": [
    "# we display the number of dimensions of the DataFrame\n",
    "df.ndim"
   ]
  },
  {
   "cell_type": "code",
   "execution_count": 10,
   "metadata": {},
   "outputs": [
    {
     "data": {
      "text/plain": [
       "(100, 4)"
      ]
     },
     "execution_count": 10,
     "metadata": {},
     "output_type": "execute_result"
    }
   ],
   "source": [
    "# we display the shape of the DataFrame\n",
    "# the shape is the number of rows and colums: the tuple representing the dimensions of the DataFrame\n",
    "df.shape"
   ]
  },
  {
   "cell_type": "code",
   "execution_count": 11,
   "metadata": {},
   "outputs": [
    {
     "data": {
      "text/plain": [
       "Index(['A', 'B', 'C', 'D'], dtype='object')"
      ]
     },
     "execution_count": 11,
     "metadata": {},
     "output_type": "execute_result"
    }
   ],
   "source": [
    "# we display the names of the columns in the DataFrame\n",
    "df.columns"
   ]
  },
  {
   "cell_type": "code",
   "execution_count": 12,
   "metadata": {},
   "outputs": [
    {
     "data": {
      "text/plain": [
       "A    100\n",
       "B    100\n",
       "C    100\n",
       "D    100\n",
       "dtype: int64"
      ]
     },
     "execution_count": 12,
     "metadata": {},
     "output_type": "execute_result"
    }
   ],
   "source": [
    "# we display the number of non-null values in the DataFrame\n",
    "df.count()"
   ]
  },
  {
   "cell_type": "code",
   "execution_count": 13,
   "metadata": {},
   "outputs": [
    {
     "data": {
      "text/plain": [
       "A    int64\n",
       "B    int64\n",
       "C    int64\n",
       "D    int64\n",
       "dtype: object"
      ]
     },
     "execution_count": 13,
     "metadata": {},
     "output_type": "execute_result"
    }
   ],
   "source": [
    "# we display the data types of the columns\n",
    "df.dtypes"
   ]
  },
  {
   "cell_type": "code",
   "execution_count": 14,
   "metadata": {},
   "outputs": [
    {
     "name": "stdout",
     "output_type": "stream",
     "text": [
      "<class 'pandas.core.frame.DataFrame'>\n",
      "RangeIndex: 100 entries, 0 to 99\n",
      "Data columns (total 4 columns):\n",
      " #   Column  Non-Null Count  Dtype\n",
      "---  ------  --------------  -----\n",
      " 0   A       100 non-null    int64\n",
      " 1   B       100 non-null    int64\n",
      " 2   C       100 non-null    int64\n",
      " 3   D       100 non-null    int64\n",
      "dtypes: int64(4)\n",
      "memory usage: 3.2 KB\n"
     ]
    }
   ],
   "source": [
    "# we display the name, dtype and non-null values of each column in the DataFrame\n",
    "df.info()"
   ]
  },
  {
   "cell_type": "markdown",
   "metadata": {},
   "source": [
    "### 2. Columns manipulation"
   ]
  },
  {
   "cell_type": "markdown",
   "metadata": {},
   "source": [
    "\n",
    "Columns are fundamental to DataFrames, representing distinct variables or features.\n",
    "\n",
    "* Column creation and manipulation:\n",
    "    * Columns can be added, deleted, renamed, and their data types can be changed.\n",
    "* Column selection:\n",
    "    * Individual columns can be selected as Series, or multiple columns can be selected to form a new DataFrame.\n",
    "* Column-wise operations:\n",
    "    * Operations can be applied across entire columns, such as calculating the mean of a specific column."
   ]
  },
  {
   "cell_type": "code",
   "execution_count": 77,
   "metadata": {
    "id": "4AU4aFoiu6FX"
   },
   "outputs": [],
   "source": [
    "# we create a list of lists\n",
    "datos = [[1,2,3,4],[5,6,7,8],[9,10,11,12],[13,14,15,16]]    "
   ]
  },
  {
   "cell_type": "code",
   "execution_count": 78,
   "metadata": {
    "colab": {
     "base_uri": "https://localhost:8080/",
     "height": 143
    },
    "executionInfo": {
     "elapsed": 62,
     "status": "ok",
     "timestamp": 1738934667466,
     "user": {
      "displayName": "Enrique Gonzalez",
      "userId": "11537615501324889345"
     },
     "user_tz": 360
    },
    "id": "zie0RCs4vc6O",
    "outputId": "49a0962b-3037-4079-f369-b7947b9e6a71"
   },
   "outputs": [
    {
     "data": {
      "text/html": [
       "<div>\n",
       "<style scoped>\n",
       "    .dataframe tbody tr th:only-of-type {\n",
       "        vertical-align: middle;\n",
       "    }\n",
       "\n",
       "    .dataframe tbody tr th {\n",
       "        vertical-align: top;\n",
       "    }\n",
       "\n",
       "    .dataframe thead th {\n",
       "        text-align: right;\n",
       "    }\n",
       "</style>\n",
       "<table border=\"1\" class=\"dataframe\">\n",
       "  <thead>\n",
       "    <tr style=\"text-align: right;\">\n",
       "      <th></th>\n",
       "      <th>A</th>\n",
       "      <th>B</th>\n",
       "      <th>C</th>\n",
       "      <th>D</th>\n",
       "    </tr>\n",
       "  </thead>\n",
       "  <tbody>\n",
       "    <tr>\n",
       "      <th>0</th>\n",
       "      <td>1</td>\n",
       "      <td>2</td>\n",
       "      <td>3</td>\n",
       "      <td>4</td>\n",
       "    </tr>\n",
       "    <tr>\n",
       "      <th>1</th>\n",
       "      <td>5</td>\n",
       "      <td>6</td>\n",
       "      <td>7</td>\n",
       "      <td>8</td>\n",
       "    </tr>\n",
       "    <tr>\n",
       "      <th>2</th>\n",
       "      <td>9</td>\n",
       "      <td>10</td>\n",
       "      <td>11</td>\n",
       "      <td>12</td>\n",
       "    </tr>\n",
       "    <tr>\n",
       "      <th>3</th>\n",
       "      <td>13</td>\n",
       "      <td>14</td>\n",
       "      <td>15</td>\n",
       "      <td>16</td>\n",
       "    </tr>\n",
       "  </tbody>\n",
       "</table>\n",
       "</div>"
      ],
      "text/plain": [
       "    A   B   C   D\n",
       "0   1   2   3   4\n",
       "1   5   6   7   8\n",
       "2   9  10  11  12\n",
       "3  13  14  15  16"
      ]
     },
     "execution_count": 78,
     "metadata": {},
     "output_type": "execute_result"
    }
   ],
   "source": [
    "# we create a DataFrame from the list of lists\n",
    "df2 = pd.DataFrame(datos, columns=list('ABCD'))#['col1', 'col2', 'col3'])\n",
    "df2"
   ]
  },
  {
   "cell_type": "code",
   "execution_count": 8,
   "metadata": {},
   "outputs": [
    {
     "name": "stdout",
     "output_type": "stream",
     "text": [
      "    A   B   C   D  E\n",
      "0   1   2   3   4  6\n",
      "1   5   6   7   8  7\n",
      "2   9  10  11  12  2\n",
      "3  13  14  15  16  5\n"
     ]
    }
   ],
   "source": [
    "# we add a new column \"E\"\n",
    "df2[\"E\"]=[6,7,2,5]\n",
    "print(df2)"
   ]
  },
  {
   "cell_type": "code",
   "execution_count": 9,
   "metadata": {},
   "outputs": [
    {
     "name": "stdout",
     "output_type": "stream",
     "text": [
      "    A   C   D  E\n",
      "0   1   3   4  6\n",
      "1   5   7   8  7\n",
      "2   9  11  12  2\n",
      "3  13  15  16  5\n"
     ]
    }
   ],
   "source": [
    "# we remove the column \"B\" from the DataFrame\n",
    "df2.pop(\"B\") \n",
    "print(df2)"
   ]
  },
  {
   "cell_type": "code",
   "execution_count": 10,
   "metadata": {},
   "outputs": [
    {
     "name": "stdout",
     "output_type": "stream",
     "text": [
      "    A   F   D  E\n",
      "0   1   3   4  6\n",
      "1   5   7   8  7\n",
      "2   9  11  12  2\n",
      "3  13  15  16  5\n",
      "\n",
      "   New_A   F   D  E\n",
      "0      1   3   4  6\n",
      "1      5   7   8  7\n",
      "2      9  11  12  2\n",
      "3     13  15  16  5\n",
      "\n",
      "   col1  col2  col3  col4\n",
      "0     1     3     4     6\n",
      "1     5     7     8     7\n",
      "2     9    11    12     2\n",
      "3    13    15    16     5\n"
     ]
    }
   ],
   "source": [
    "# we rename the column \"C\" to \"F\"\n",
    "df2 = df2.rename(columns={\"C\": \"F\"})\n",
    "print(df2)\n",
    "print()\n",
    "# we rename the first column to \"New_A\"\n",
    "df2.columns.values[0] = \"New_A\"\n",
    "print(df2)\n",
    "print()\n",
    "df2.columns = ['col1', 'col2', 'col3','col4']\n",
    "print(df2) "
   ]
  },
  {
   "cell_type": "code",
   "execution_count": 12,
   "metadata": {},
   "outputs": [
    {
     "data": {
      "text/plain": [
       "dtype('int64')"
      ]
     },
     "execution_count": 12,
     "metadata": {},
     "output_type": "execute_result"
    }
   ],
   "source": [
    "# we display the data type of the first column\n",
    "df2['col1'].dtype"
   ]
  },
  {
   "cell_type": "code",
   "execution_count": 18,
   "metadata": {},
   "outputs": [
    {
     "name": "stdout",
     "output_type": "stream",
     "text": [
      "   col1  col2 col3  col4\n",
      "0   1.0     3    4     6\n",
      "1   5.0     7    8     7\n",
      "2   9.0    11   12     2\n",
      "3  13.0    15   16     5\n",
      "\n"
     ]
    },
    {
     "data": {
      "text/plain": [
       "col1    float64\n",
       "col2      int64\n",
       "col3     object\n",
       "col4      int64\n",
       "dtype: object"
      ]
     },
     "execution_count": 18,
     "metadata": {},
     "output_type": "execute_result"
    }
   ],
   "source": [
    "# we convert the first column to float\n",
    "df2['col1'] = df2['col1'].astype(float)\n",
    "# w convert the third column to string\n",
    "df2['col3'] = df2['col3'].astype(str)\n",
    "print(df2)\n",
    "print()\n",
    "df2.dtypes"
   ]
  },
  {
   "cell_type": "markdown",
   "metadata": {},
   "source": [
    "### 3. Index, selection and filtering"
   ]
  },
  {
   "cell_type": "markdown",
   "metadata": {},
   "source": [
    "Index:\n",
    "* Both Series and DataFrames have an index.\n",
    "* It provides labels for rows in DataFrames. \n",
    "* The index can be numeric, string-based, or datetime-based."
   ]
  },
  {
   "cell_type": "markdown",
   "metadata": {},
   "source": [
    "Selection:\n",
    "* Data can be selected using various methods:\n",
    "    * Label-based indexing (.loc): Selects data by label for both rows and columns.\n",
    "    * Integer-location based indexing (.iloc): Selects data by integer position for both rows and columns.\n",
    "    * Direct column selection: Accessing a single column by its name using square brackets (e.g., df['column_name'])."
   ]
  },
  {
   "cell_type": "markdown",
   "metadata": {},
   "source": [
    "Filtering:\n",
    "* Data can be filtered based on conditions applied to columns or rows, returning a subset of the data that meets the criteria."
   ]
  },
  {
   "cell_type": "markdown",
   "metadata": {},
   "source": [
    "#### 3.1 Index"
   ]
  },
  {
   "cell_type": "code",
   "execution_count": 44,
   "metadata": {},
   "outputs": [
    {
     "name": "stdout",
     "output_type": "stream",
     "text": [
      "      Flavors\n",
      "0   Chocolate\n",
      "1     Vanilla\n",
      "2  Strawberry\n",
      "3  Rum Raisin\n"
     ]
    }
   ],
   "source": [
    "print(df_ice_cream_flavors)"
   ]
  },
  {
   "cell_type": "code",
   "execution_count": 45,
   "metadata": {},
   "outputs": [
    {
     "name": "stdout",
     "output_type": "stream",
     "text": [
      "      Flavors  Qty liters\n",
      "0   Chocolate         100\n",
      "1     Vanilla         200\n",
      "2  Strawberry         150\n",
      "3  Rum Raisin          80\n"
     ]
    }
   ],
   "source": [
    "# we add a new column with the quantity of liters in existance\n",
    "df_ice_cream_flavors['Qty liters'] = [100, 200, 150, 80]\n",
    "print(df_ice_cream_flavors)"
   ]
  },
  {
   "cell_type": "code",
   "execution_count": 46,
   "metadata": {},
   "outputs": [
    {
     "name": "stdout",
     "output_type": "stream",
     "text": [
      "[0 1 2 3]\n"
     ]
    }
   ],
   "source": [
    "# we display the index of the dataframe\n",
    "print(df_ice_cream_flavors.index.values)"
   ]
  },
  {
   "cell_type": "code",
   "execution_count": 47,
   "metadata": {},
   "outputs": [
    {
     "name": "stdout",
     "output_type": "stream",
     "text": [
      "            Qty liters\n",
      "Flavors               \n",
      "Chocolate          100\n",
      "Vanilla            200\n",
      "Strawberry         150\n",
      "Rum Raisin          80\n",
      "\n",
      "['Chocolate' 'Vanilla' 'Strawberry' 'Rum Raisin']\n"
     ]
    }
   ],
   "source": [
    "# we set the column of flavors as the index\n",
    "df_ice_cream_flavors = df_ice_cream_flavors.set_index('Flavors')\n",
    "print(df_ice_cream_flavors)\n",
    "print()\n",
    "print(df_ice_cream_flavors.index.values)"
   ]
  },
  {
   "cell_type": "markdown",
   "metadata": {},
   "source": [
    "#### 3.2 Selection and Filtering"
   ]
  },
  {
   "cell_type": "code",
   "execution_count": 15,
   "metadata": {},
   "outputs": [
    {
     "name": "stdout",
     "output_type": "stream",
     "text": [
      "     A   B   C   D\n",
      "0    6  25   8  48\n",
      "1   93  10  50  13\n",
      "2   15  75  62  88\n",
      "3   68  46  98  49\n",
      "4   29  14  41  76\n",
      "..  ..  ..  ..  ..\n",
      "95   5  67  98  28\n",
      "96  82  20   8  56\n",
      "97  50  82   7  15\n",
      "98  97  93  15  23\n",
      "99  76  20  30  72\n",
      "\n",
      "[100 rows x 4 columns]\n"
     ]
    }
   ],
   "source": [
    "print(df)"
   ]
  },
  {
   "cell_type": "code",
   "execution_count": null,
   "metadata": {},
   "outputs": [
    {
     "name": "stdout",
     "output_type": "stream",
     "text": [
      "     A   B   C   D   F\n",
      "0    6  25   8  48   7\n",
      "1   93  10  50  13  68\n",
      "2   15  75  62  88  24\n",
      "3   68  46  98  49  77\n",
      "4   29  14  41  76  42\n",
      "..  ..  ..  ..  ..  ..\n",
      "95   5  67  98  28  75\n",
      "96  82  20   8  56  18\n",
      "97  50  82   7  15  60\n",
      "98  97  93  15  23  37\n",
      "99  76  20  30  72  77\n",
      "\n",
      "[100 rows x 5 columns]\n"
     ]
    }
   ],
   "source": [
    "# we add a new column 'F' with random integers\n",
    "df['F']=np.random.randint(0,100,size=(100, 1))\n",
    "print(df)"
   ]
  },
  {
   "cell_type": "code",
   "execution_count": null,
   "metadata": {},
   "outputs": [
    {
     "name": "stdout",
     "output_type": "stream",
     "text": [
      "     A   B   C   D   F\n",
      "0    6  25   8  48   7\n",
      "4   29  14  41  76  42\n",
      "6   81  37   9   4  93\n",
      "9   54  94  18   1  14\n",
      "11  21  81  22  91  78\n",
      "12  70  77  30  76  35\n",
      "13  58  61   2  22  61\n",
      "15  65   7  48  59  59\n",
      "16  60  41   5  51  87\n",
      "17  67  24  25  95  67\n",
      "21  21  35   2  95  35\n",
      "23  74  91  36  42  23\n",
      "24  19  55   0  93  93\n",
      "25  67  43  21  88  53\n",
      "27   0  36  30  65  53\n",
      "32  83  42  30  68  92\n",
      "33  23   7  48  67  29\n",
      "34  56  25  10  54  66\n",
      "35  40  57   5  26  22\n",
      "37   4  42  49  36  87\n",
      "42  59  98  42   9  37\n",
      "43  52  10  39  14  21\n",
      "44  10  28  43  47  58\n",
      "45   5   9  41  13   0\n",
      "49  39  19  24  44  15\n",
      "50   8  48  16  65  58\n",
      "57  72  11   5  13  46\n",
      "58  83  34  20  10  63\n",
      "60   4  49  19  72  97\n",
      "61  95  54  43  14  65\n",
      "62  14  48  12  39  40\n",
      "66  28  44  22  61  56\n",
      "68  63  90   5  31  89\n",
      "69  94  64  10   6  81\n",
      "70  26  22   0   3  32\n",
      "72  97  62  26  94  18\n",
      "73  23  61  48  12  68\n",
      "79  46  92  41   9  27\n",
      "80   5  19  43  32  44\n",
      "85  93   1  38  87  73\n",
      "88  22   5   1  88  26\n",
      "90  66  90  23  16  41\n",
      "91  99  92  26  68   2\n",
      "92  40   5  29   2  39\n",
      "94  24  39  19  93  73\n",
      "96  82  20   8  56  18\n",
      "97  50  82   7  15  60\n",
      "98  97  93  15  23  37\n",
      "99  76  20  30  72  77\n"
     ]
    },
    {
     "data": {
      "text/plain": [
       "(49, 5)"
      ]
     },
     "execution_count": 20,
     "metadata": {},
     "output_type": "execute_result"
    }
   ],
   "source": [
    "# we filter the DataFrame considering the values in column 'C'\n",
    "df_filtered = df[df['C']<50]\n",
    "print(df_filtered)\n",
    "df_filtered.shape"
   ]
  },
  {
   "cell_type": "code",
   "execution_count": null,
   "metadata": {},
   "outputs": [
    {
     "name": "stdout",
     "output_type": "stream",
     "text": [
      "     A   B   C   D   F\n",
      "9   54  94  18   1  14\n",
      "13  58  61   2  22  61\n",
      "35  40  57   5  26  22\n",
      "40  52  84  86  29  65\n",
      "42  59  98  42   9  37\n",
      "48  98  65  84  29  57\n",
      "56  11  79  54  20  62\n",
      "59  81  80  61  26  88\n",
      "61  95  54  43  14  65\n",
      "64  32  98  95  12  33\n",
      "69  94  64  10   6  81\n",
      "73  23  61  48  12  68\n",
      "77  74  66  69  10  68\n",
      "79  46  92  41   9  27\n",
      "81  70  83  91  11  56\n",
      "84  36  52  80   8  24\n",
      "90  66  90  23  16  41\n",
      "95   5  67  98  28  75\n",
      "97  50  82   7  15  60\n",
      "98  97  93  15  23  37\n"
     ]
    },
    {
     "data": {
      "text/plain": [
       "(20, 5)"
      ]
     },
     "execution_count": 32,
     "metadata": {},
     "output_type": "execute_result"
    }
   ],
   "source": [
    "# we filter the DataFrame considering the values in columns 'B' and 'D'\n",
    "df_filtered = df[(df['B']>45) & (df['D']<30)]\n",
    "print(df_filtered)\n",
    "df_filtered.shape"
   ]
  },
  {
   "cell_type": "code",
   "execution_count": null,
   "metadata": {},
   "outputs": [
    {
     "name": "stdout",
     "output_type": "stream",
     "text": [
      "     A   B   C   D   F\n",
      "2   15  75  62  88  24\n",
      "4   29  14  41  76  42\n",
      "8   40  34  67  60  91\n",
      "19  15  30  82  17  38\n",
      "21  21  35   2  95  35\n",
      "22  53  47  78  37  52\n",
      "24  19  55   0  93  93\n",
      "26  10  23  74   9  23\n",
      "27   0  36  30  65  53\n",
      "30  13  25  58  25  39\n",
      "33  23   7  48  67  29\n",
      "35  40  57   5  26  22\n",
      "37   4  42  49  36  87\n",
      "38  44  70  92  63  36\n",
      "41  31  39  62  27  23\n",
      "43  52  10  39  14  21\n",
      "44  10  28  43  47  58\n",
      "46  31  31  87  14  78\n",
      "50   8  48  16  65  58\n",
      "60   4  49  19  72  97\n",
      "62  14  48  12  39  40\n",
      "66  28  44  22  61  56\n",
      "67  48  44  76  81  71\n",
      "70  26  22   0   3  32\n",
      "71  40  27  57  60  44\n",
      "73  23  61  48  12  68\n",
      "75  39  70  81  88  62\n",
      "76   2  43  70   1  52\n",
      "80   5  19  43  32  44\n",
      "84  36  52  80   8  24\n",
      "88  22   5   1  88  26\n",
      "92  40   5  29   2  39\n",
      "94  24  39  19  93  73\n",
      "95   5  67  98  28  75\n"
     ]
    },
    {
     "data": {
      "text/plain": [
       "(34, 5)"
      ]
     },
     "execution_count": 33,
     "metadata": {},
     "output_type": "execute_result"
    }
   ],
   "source": [
    "# we filter the DataFrame considering the values in columns 'A', 'B' and 'F'\n",
    "df_filtered = df[(df['A']<55) & (df['B']<78) &(df['F']>15)]\n",
    "print(df_filtered)\n",
    "df_filtered.shape"
   ]
  },
  {
   "cell_type": "code",
   "execution_count": null,
   "metadata": {},
   "outputs": [
    {
     "name": "stdout",
     "output_type": "stream",
     "text": [
      "     A   D   F\n",
      "0    6  48   7\n",
      "2   15  88  24\n",
      "4   29  76  42\n",
      "8   40  60  91\n",
      "9   54   1  14\n",
      "11  21  91  78\n",
      "19  15  17  38\n",
      "21  21  95  35\n",
      "22  53  37  52\n",
      "24  19  93  93\n",
      "26  10   9  23\n",
      "27   0  65  53\n",
      "30  13  25  39\n",
      "31  19  49  11\n",
      "33  23  67  29\n",
      "35  40  26  22\n",
      "36   7  31  80\n",
      "37   4  36  87\n",
      "38  44  63  36\n",
      "39   0  36   0\n",
      "40  52  29  65\n",
      "41  31  27  23\n",
      "43  52  14  21\n",
      "44  10  47  58\n",
      "45   5  13   0\n",
      "46  31  14  78\n",
      "49  39  44  15\n",
      "50   8  65  58\n",
      "56  11  20  62\n",
      "60   4  72  97\n",
      "62  14  39  40\n",
      "64  32  12  33\n",
      "66  28  61  56\n",
      "67  48  81  71\n",
      "70  26   3  32\n",
      "71  40  60  44\n",
      "73  23  12  68\n",
      "74  31  73  40\n",
      "75  39  88  62\n",
      "76   2   1  52\n",
      "79  46   9  27\n",
      "80   5  32  44\n",
      "84  36   8  24\n",
      "86  33  42   9\n",
      "88  22  88  26\n",
      "92  40   2  39\n",
      "93  32   1   9\n",
      "94  24  93  73\n",
      "95   5  28  75\n",
      "97  50  15  60\n"
     ]
    },
    {
     "data": {
      "text/plain": [
       "(50, 3)"
      ]
     },
     "execution_count": 34,
     "metadata": {},
     "output_type": "execute_result"
    }
   ],
   "source": [
    "# we filter the DataFrame considering the values in column 'A' and display specific columns\n",
    "df_filtered = df[df['A']<55][[\"A\", \"D\", \"F\"]]\n",
    "print(df_filtered)\n",
    "df_filtered.shape"
   ]
  },
  {
   "cell_type": "code",
   "execution_count": 42,
   "metadata": {},
   "outputs": [
    {
     "name": "stdout",
     "output_type": "stream",
     "text": [
      "     A   B   F\n",
      "50   8  48  58\n",
      "51  96  44   9\n",
      "52  96  45  13\n",
      "53  64  64  24\n",
      "54  82  25  58\n",
      "55  81  36  87\n",
      "56  11  79  62\n",
      "57  72  11  46\n",
      "58  83  34  63\n",
      "59  81  80  88\n",
      "60   4  49  97\n",
      "61  95  54  65\n",
      "62  14  48  40\n"
     ]
    },
    {
     "data": {
      "text/plain": [
       "(13, 3)"
      ]
     },
     "execution_count": 42,
     "metadata": {},
     "output_type": "execute_result"
    }
   ],
   "source": [
    "# we display a specific range of rows and columns\n",
    "df_filtered = df.loc[50:62, [\"A\", \"B\", \"F\"]]\n",
    "print(df_filtered)\n",
    "df_filtered.shape"
   ]
  },
  {
   "cell_type": "code",
   "execution_count": 46,
   "metadata": {},
   "outputs": [
    {
     "name": "stdout",
     "output_type": "stream",
     "text": [
      "     B   C   D\n",
      "25  43  21  88\n",
      "26  23  74   9\n",
      "27  36  30  65\n",
      "28  22  97  61\n",
      "29  22  79  36\n",
      "30  25  58  25\n",
      "31   2  71  49\n",
      "32  42  30  68\n",
      "33   7  48  67\n",
      "34  25  10  54\n",
      "35  57   5  26\n",
      "36  94  70  31\n",
      "37  42  49  36\n",
      "38  70  92  63\n",
      "39  28  99  36\n",
      "40  84  86  29\n",
      "41  39  62  27\n"
     ]
    },
    {
     "data": {
      "text/plain": [
       "(17, 3)"
      ]
     },
     "execution_count": 46,
     "metadata": {},
     "output_type": "execute_result"
    }
   ],
   "source": [
    "df_filtered = df.iloc[25:42, 1:4]\n",
    "print(df_filtered)\n",
    "df_filtered.shape"
   ]
  },
  {
   "cell_type": "markdown",
   "metadata": {},
   "source": [
    "### 4. Operations"
   ]
  },
  {
   "cell_type": "markdown",
   "metadata": {},
   "source": [
    "\n",
    "Pandas supports a wide range of operations on Series and DataFrames:\n",
    "\n",
    "* Arithmetic operations: Element-wise addition, subtraction, multiplication, division.\n",
    "* Statistical operations: Mean, median, sum, standard deviation, etc.\n",
    "* Data alignment: Operations on Series or DataFrames with different indices are automatically aligned based on their labels.\n",
    "* Grouping and aggregation: Using groupby() to group data by categories and apply aggregation functions.\n",
    "* Missing data handling: Methods like dropna() for removing missing values and fillna() for imputing them."
   ]
  },
  {
   "cell_type": "code",
   "execution_count": null,
   "metadata": {},
   "outputs": [
    {
     "name": "stdout",
     "output_type": "stream",
     "text": [
      "     B   C   D\n",
      "25  36  14  81\n",
      "26  16  67   2\n",
      "27  29  23  58\n",
      "28  15  90  54\n",
      "29  15  72  29\n",
      "30  18  51  18\n",
      "31  -5  64  42\n",
      "32  35  23  61\n",
      "33   0  41  60\n",
      "34  18   3  47\n",
      "35  50  -2  19\n",
      "36  87  63  24\n",
      "37  35  42  29\n",
      "38  63  85  56\n",
      "39  21  92  29\n",
      "40  77  79  22\n",
      "41  32  55  20\n"
     ]
    }
   ],
   "source": [
    "# we subtract 7 from the filtered DataFrame\n",
    "print(df_filtered - 7)"
   ]
  },
  {
   "cell_type": "code",
   "execution_count": null,
   "metadata": {},
   "outputs": [
    {
     "name": "stdout",
     "output_type": "stream",
     "text": [
      "25    129\n",
      "26     69\n",
      "27    108\n",
      "28     66\n",
      "29     66\n",
      "30     75\n",
      "31      6\n",
      "32    126\n",
      "33     21\n",
      "34     75\n",
      "35    171\n",
      "36    282\n",
      "37    126\n",
      "38    210\n",
      "39     84\n",
      "40    252\n",
      "41    117\n",
      "Name: B, dtype: int64\n"
     ]
    }
   ],
   "source": [
    "# we can do an operation on a specific column\n",
    "print(df_filtered[\"B\"] * 3)"
   ]
  },
  {
   "cell_type": "code",
   "execution_count": null,
   "metadata": {},
   "outputs": [
    {
     "name": "stdout",
     "output_type": "stream",
     "text": [
      "25    131\n",
      "26     32\n",
      "27    101\n",
      "28     83\n",
      "29     58\n",
      "30     50\n",
      "31     51\n",
      "32    110\n",
      "33     74\n",
      "34     79\n",
      "35     83\n",
      "36    125\n",
      "37     78\n",
      "38    133\n",
      "39     64\n",
      "40    113\n",
      "41     66\n",
      "dtype: int64\n"
     ]
    }
   ],
   "source": [
    "# we can do operations among columns\n",
    "print(df_filtered[\"B\"] + df_filtered[\"D\"])"
   ]
  },
  {
   "cell_type": "code",
   "execution_count": null,
   "metadata": {},
   "outputs": [
    {
     "name": "stdout",
     "output_type": "stream",
     "text": [
      "        B      C      D\n",
      "25  33.54  16.38  68.64\n",
      "26  17.94  57.72   7.02\n",
      "27  28.08  23.40  50.70\n",
      "28  17.16  75.66  47.58\n",
      "29  17.16  61.62  28.08\n",
      "30  19.50  45.24  19.50\n",
      "31   1.56  55.38  38.22\n",
      "32  32.76  23.40  53.04\n",
      "33   5.46  37.44  52.26\n",
      "34  19.50   7.80  42.12\n",
      "35  44.46   3.90  20.28\n",
      "36  73.32  54.60  24.18\n",
      "37  32.76  38.22  28.08\n",
      "38  54.60  71.76  49.14\n",
      "39  21.84  77.22  28.08\n",
      "40  65.52  67.08  22.62\n",
      "41  30.42  48.36  21.06\n"
     ]
    }
   ],
   "source": [
    "# we can do operations among dataFrames\n",
    "print(df_filtered - df_filtered*.22)"
   ]
  },
  {
   "cell_type": "code",
   "execution_count": 63,
   "metadata": {},
   "outputs": [
    {
     "name": "stdout",
     "output_type": "stream",
     "text": [
      "maximum values:\n",
      "B    94\n",
      "C    99\n",
      "D    88\n",
      "dtype: int64\n",
      "\n",
      "B    2\n",
      "C    5\n",
      "D    9\n",
      "dtype: int64\n",
      "\n",
      "mean values:\n",
      "B    38.882353\n",
      "C    57.705882\n",
      "D    45.294118\n",
      "dtype: float64\n",
      "\n",
      "standard deviation values:\n",
      "B    25.146775\n",
      "C    29.997426\n",
      "D    20.936704\n",
      "dtype: float64\n",
      "\n",
      "sum values:\n",
      "B    661\n",
      "C    981\n",
      "D    770\n",
      "dtype: int64\n"
     ]
    }
   ],
   "source": [
    "# we can display the maximum and minimum values, and other operations for each column\n",
    "print(\"maximum values:\")\n",
    "print(df_filtered.max())\n",
    "print()\n",
    "print(df_filtered.min())\n",
    "print()\n",
    "print(\"mean values:\")\n",
    "print(df_filtered.mean())\n",
    "print()\n",
    "print(\"standard deviation values:\")\n",
    "print(df_filtered.std())\n",
    "print()\n",
    "print(\"sum values:\")\n",
    "print(df_filtered.sum())"
   ]
  },
  {
   "cell_type": "code",
   "execution_count": 47,
   "metadata": {},
   "outputs": [
    {
     "name": "stdout",
     "output_type": "stream",
     "text": [
      "               B          C          D\n",
      "count  17.000000  17.000000  17.000000\n",
      "mean   38.882353  57.705882  45.294118\n",
      "std    25.146775  29.997426  20.936704\n",
      "min     2.000000   5.000000   9.000000\n",
      "25%    23.000000  30.000000  29.000000\n",
      "50%    36.000000  62.000000  36.000000\n",
      "75%    43.000000  79.000000  63.000000\n",
      "max    94.000000  99.000000  88.000000\n"
     ]
    }
   ],
   "source": [
    "print(df_filtered.describe())"
   ]
  },
  {
   "cell_type": "markdown",
   "metadata": {},
   "source": [
    "### 5. Date and time"
   ]
  },
  {
   "cell_type": "markdown",
   "metadata": {},
   "source": [
    "Pandas provides robust tools for handling date and time data:\n",
    "\n",
    "* Datetime objects: Pandas can represent specific points in time using Timestamp objects, which are built upon Python's datetime objects.\n",
    "* Time series indexing: Date and time information can be used as the index of a Series or DataFrame, enabling time-based operations and analysis."
   ]
  },
  {
   "cell_type": "markdown",
   "metadata": {
    "id": "vfGpH9BNrFjU"
   },
   "source": [
    "### 6. Graph using DataFrame"
   ]
  },
  {
   "cell_type": "code",
   "execution_count": 8,
   "metadata": {
    "id": "zRmCI-dOYL9G"
   },
   "outputs": [],
   "source": [
    "import matplotlib.pyplot as plt # to plot"
   ]
  },
  {
   "cell_type": "code",
   "execution_count": 65,
   "metadata": {},
   "outputs": [],
   "source": [
    "def graficaDatos(datos):\n",
    "\n",
    "    plt.figure()\n",
    "    plt.plot(datos[\"C\"],label=\"Datos C\", color='red')\n",
    "    plt.grid(color='b',linestyle='dashed')\n",
    "    plt.title('DATOS', fontweight='bold')\n",
    "    plt.xlabel('Tiempo')\n",
    "    plt.ylabel('Valor C')\n",
    "    plt.legend(loc='upper left')\n",
    "    plt.show()"
   ]
  },
  {
   "cell_type": "code",
   "execution_count": 79,
   "metadata": {},
   "outputs": [
    {
     "data": {
      "image/png": "[encoded data removed]",
      "text/plain": [
       "<Figure size 640x480 with 1 Axes>"
      ]
     },
     "metadata": {},
     "output_type": "display_data"
    }
   ],
   "source": [
    "graficaDatos(df2)"
   ]
  },
  {
   "cell_type": "code",
   "execution_count": 80,
   "metadata": {
    "colab": {
     "base_uri": "https://localhost:8080/",
     "height": 472
    },
    "executionInfo": {
     "elapsed": 275,
     "status": "ok",
     "timestamp": 1738936310299,
     "user": {
      "displayName": "Enrique Gonzalez",
      "userId": "11537615501324889345"
     },
     "user_tz": 360
    },
    "id": "LyQD_0ZSsTRT",
    "outputId": "eeeffa26-39f3-4b27-c928-93e80161b138"
   },
   "outputs": [],
   "source": [
    "def graficaValores(datos):\n",
    "\n",
    "    plt.figure()\n",
    "    plt.plot(datos[\"B\"].sort_values(), datos[\"C\"], label=\"Datos C\", color='orange')\n",
    "    plt.grid(color='b',linestyle='dashed')\n",
    "    plt.title('DATOS', fontweight='bold')\n",
    "    plt.xlabel('Valor B')\n",
    "    plt.ylabel('Valor C')\n",
    "    plt.legend(loc='upper right')\n",
    "    plt.show()"
   ]
  },
  {
   "cell_type": "code",
   "execution_count": 81,
   "metadata": {
    "colab": {
     "base_uri": "https://localhost:8080/",
     "height": 472
    },
    "executionInfo": {
     "elapsed": 340,
     "status": "ok",
     "timestamp": 1738720686615,
     "user": {
      "displayName": "Enrique Gonzalez",
      "userId": "11537615501324889345"
     },
     "user_tz": 360
    },
    "id": "NQg9Md6tgqcL",
    "outputId": "3cd1fae6-cb89-4abd-82bd-8b197b784add"
   },
   "outputs": [
    {
     "data": {
      "image/png": "[encoded data removed]",
      "text/plain": [
       "<Figure size 640x480 with 1 Axes>"
      ]
     },
     "metadata": {},
     "output_type": "display_data"
    },
    {
     "data": {
      "image/png": "[encoded data removed]",
      "text/plain": [
       "<Figure size 640x480 with 1 Axes>"
      ]
     },
     "metadata": {},
     "output_type": "display_data"
    }
   ],
   "source": [
    "graficaDatos(df2)\n",
    "graficaValores(df2)"
   ]
  },
  {
   "cell_type": "code",
   "execution_count": 21,
   "metadata": {},
   "outputs": [
    {
     "name": "stdout",
     "output_type": "stream",
     "text": [
      "     A   B   C   D\n",
      "0   43  39  17  75\n",
      "1   82  20  59  93\n",
      "2   19  12  51  62\n",
      "3   30  38  43  77\n",
      "4   22  12  33  50\n",
      "..  ..  ..  ..  ..\n",
      "95  12  37   7  60\n",
      "96  18  84  46   9\n",
      "97   8  40  37  56\n",
      "98  83  46  64   0\n",
      "99  99  67  21  89\n",
      "\n",
      "[100 rows x 4 columns]\n"
     ]
    }
   ],
   "source": [
    "df3 = generaDatos()\n",
    "print(df3)"
   ]
  },
  {
   "cell_type": "code",
   "execution_count": 28,
   "metadata": {},
   "outputs": [
    {
     "data": {
      "image/png": "[encoded data removed]",
      "text/plain": [
       "<Figure size 640x480 with 1 Axes>"
      ]
     },
     "metadata": {},
     "output_type": "display_data"
    },
    {
     "data": {
      "image/png": "[encoded data removed]",
      "text/plain": [
       "<Figure size 640x480 with 1 Axes>"
      ]
     },
     "metadata": {},
     "output_type": "display_data"
    }
   ],
   "source": [
    "graficaDatos(df3)\n",
    "graficaValores(df3)"
   ]
  }
 ],
 "metadata": {
  "colab": {
   "authorship_tag": "ABX9TyNcYsjY+HmG/dCKY9/yiyql",
   "provenance": []
  },
  "kernelspec": {
   "display_name": "base",
   "language": "python",
   "name": "python3"
  },
  "language_info": {
   "codemirror_mode": {
    "name": "ipython",
    "version": 3
   },
   "file_extension": ".py",
   "mimetype": "text/x-python",
   "name": "python",
   "nbconvert_exporter": "python",
   "pygments_lexer": "ipython3",
   "version": "3.10.11"
  }
 },
 "nbformat": 4,
 "nbformat_minor": 0
}
